{
 "cells": [
  {
   "cell_type": "markdown",
   "metadata": {},
   "source": [
    "# Refine Company Name \n",
    "## 1. data from the below\n",
    "- \"conn = pymysql.connect(host='133.186.143.151', user='eumsread', password='eumsread00!q', db='eums-shared', port=13306,charset='utf8')\""
   ]
  },
  {
   "cell_type": "code",
   "execution_count": 1,
   "metadata": {},
   "outputs": [
    {
     "name": "stdout",
     "output_type": "stream",
     "text": [
      "(9962239, 11)\n"
     ]
    },
    {
     "data": {
      "text/html": [
       "<div>\n",
       "<style>\n",
       "    .dataframe thead tr:only-child th {\n",
       "        text-align: right;\n",
       "    }\n",
       "\n",
       "    .dataframe thead th {\n",
       "        text-align: left;\n",
       "    }\n",
       "\n",
       "    .dataframe tbody tr th {\n",
       "        vertical-align: top;\n",
       "    }\n",
       "</style>\n",
       "<table border=\"1\" class=\"dataframe\">\n",
       "  <thead>\n",
       "    <tr style=\"text-align: right;\">\n",
       "      <th></th>\n",
       "      <th>EPOPCON_ID</th>\n",
       "      <th>COMPANY_ID</th>\n",
       "      <th>CARD_NAME</th>\n",
       "      <th>CNT_PAY</th>\n",
       "      <th>SUM_PAY</th>\n",
       "      <th>ADDR</th>\n",
       "      <th>CATE</th>\n",
       "      <th>CATE1</th>\n",
       "      <th>CO_NAME</th>\n",
       "      <th>LATITUDE1</th>\n",
       "      <th>LONGITUDE1</th>\n",
       "    </tr>\n",
       "  </thead>\n",
       "  <tbody>\n",
       "    <tr>\n",
       "      <th>0</th>\n",
       "      <td>15a0e888b71e42719f785db8b</td>\n",
       "      <td>27879</td>\n",
       "      <td>기업BC</td>\n",
       "      <td>2</td>\n",
       "      <td>12000.0</td>\n",
       "      <td>경기도 수원시 장안구 송죽동 453-29번지</td>\n",
       "      <td>마트</td>\n",
       "      <td>편의점</td>\n",
       "      <td>CU 수원경기일보점</td>\n",
       "      <td>37.4960912</td>\n",
       "      <td>127.0183798</td>\n",
       "    </tr>\n",
       "  </tbody>\n",
       "</table>\n",
       "</div>"
      ],
      "text/plain": [
       "                  EPOPCON_ID  COMPANY_ID CARD_NAME  CNT_PAY  SUM_PAY  \\\n",
       "0  15a0e888b71e42719f785db8b       27879      기업BC        2  12000.0   \n",
       "\n",
       "                       ADDR CATE CATE1     CO_NAME   LATITUDE1   LONGITUDE1  \n",
       "0  경기도 수원시 장안구 송죽동 453-29번지   마트   편의점  CU 수원경기일보점  37.4960912  127.0183798  "
      ]
     },
     "execution_count": 1,
     "metadata": {},
     "output_type": "execute_result"
    }
   ],
   "source": [
    "import pandas as pd\n",
    "\n",
    "data =pd.read_pickle('hana_march.pick')\n",
    "print(data.shape)\n",
    "data.head(1)\n"
   ]
  },
  {
   "cell_type": "markdown",
   "metadata": {},
   "source": [
    "## PreProcessing 부족한 부분 : cardname, addr, co_name"
   ]
  },
  {
   "cell_type": "raw",
   "metadata": {},
   "source": [
    "data.CARD_NAME.unique() # RE),  (단기카드, 카드, <현장즉시결제>, 승인, 재전송[, 할인입금,재발송[,재발송,공백제거\n",
    "\n",
    "data[data.ADDR.str.contains(\"\\&.{1,4}\\;\")].ADDR.unique()# |\\'|\\<|\\>\n",
    "# data[data.ADDR.str.contains(\"\\'\")].ADDR.unique() # \\<|\\>|\\\" 없음\n"
   ]
  },
  {
   "cell_type": "code",
   "execution_count": 17,
   "metadata": {},
   "outputs": [],
   "source": [
    "# p = pd.read_pickle('cardname_clean.pick')\n",
    "\n",
    "def cleanData(sentence):\n",
    "    import re\n",
    "    pattern = re.compile(r'\\(.{0,4}\\)|RE\\)|\\<현장즉시결제\\>|\\[|\\s|카드')\n",
    "    sentence = re.sub(pattern,'',sentence)\n",
    "    return sentence # return 안쓰면 none값 뜬다.\n",
    "    \n",
    "p = p.assign( CARD_NAME = p['CARD_NAME'].apply(cleanData) )\n",
    "# p.to_pickle('cardname_clean.pick')\n",
    "p.CARD_NAME.unique()"
   ]
  },
  {
   "cell_type": "code",
   "execution_count": 70,
   "metadata": {},
   "outputs": [
    {
     "name": "stdout",
     "output_type": "stream",
     "text": [
      "Empty DataFrame\n",
      "Columns: [ADDR, CATE, CATE1, COMPANY_ID, CO_NAME]\n",
      "Index: []\n",
      "(908520, 5)\n"
     ]
    }
   ],
   "source": [
    "p = pd.read_pickle('company.pick')\n",
    "\n",
    "def cleanChar(sentence):\n",
    "    import re\n",
    "    pattern = re.compile(r'\\s{0,2}\\&amp\\;\\s{0,2}')\n",
    "    sentence = re.sub(pattern,'@',sentence)\n",
    "    pattern = re.compile(r'\\s{0,2}\\&.{2,4}\\;\\s{0,2}|\\<|\\>|\\'|\\\"')\n",
    "    sentence = re.sub(pattern,'',sentence)\n",
    "    pattern = re.compile(r'\\&')\n",
    "    sentence = re.sub(pattern,'@',sentence)\n",
    "    return sentence\n",
    "\n",
    "ts = p[p['ADDR'].str.contains('&')]\n",
    "# ts = p[p['CO_NAME'].str.contains('\\&;')]\n",
    "\n",
    "# ts[['ADDR','CO_NAME']]=ts[['ADDR','CO_NAME']].applymap(cleanChar)\n",
    "# p[['ADDR','CO_NAME']]=p[['ADDR','CO_NAME']].applymap(cleanChar)\n",
    " # ts=ts.assign(ADDR,CO_NAME=ts[['ADDR','CO_NAME']].apply(cleanChar))\n",
    "\n",
    "print(ts.head(2))\n",
    "# print(p.head(2))\n",
    "# p['CO_NAME']\n",
    "\n",
    "# p.to_pickle('company.pick')\n",
    "print(p.shape)"
   ]
  },
  {
   "cell_type": "code",
   "execution_count": 71,
   "metadata": {},
   "outputs": [
    {
     "name": "stdout",
     "output_type": "stream",
     "text": [
      "total:  (908520, 5)\n",
      "nonRestroom:  (908459, 5)\n",
      "Restroom:  (61, 5)\n",
      "public:  (25, 5)\n",
      "after public:  (25, 5)\n",
      "nonPublic:  (36, 5)\n",
      "Restroon:  (61, 5)\n",
      "(908520, 5)\n"
     ]
    },
    {
     "data": {
      "text/html": [
       "<div>\n",
       "<style>\n",
       "    .dataframe thead tr:only-child th {\n",
       "        text-align: right;\n",
       "    }\n",
       "\n",
       "    .dataframe thead th {\n",
       "        text-align: left;\n",
       "    }\n",
       "\n",
       "    .dataframe tbody tr th {\n",
       "        vertical-align: top;\n",
       "    }\n",
       "</style>\n",
       "<table border=\"1\" class=\"dataframe\">\n",
       "  <thead>\n",
       "    <tr style=\"text-align: right;\">\n",
       "      <th></th>\n",
       "      <th>ADDR</th>\n",
       "      <th>CATE</th>\n",
       "      <th>CATE1</th>\n",
       "      <th>COMPANY_ID</th>\n",
       "      <th>CO_NAME</th>\n",
       "    </tr>\n",
       "  </thead>\n",
       "  <tbody>\n",
       "  </tbody>\n",
       "</table>\n",
       "</div>"
      ],
      "text/plain": [
       "Empty DataFrame\n",
       "Columns: [ADDR, CATE, CATE1, COMPANY_ID, CO_NAME]\n",
       "Index: []"
      ]
     },
     "execution_count": 71,
     "metadata": {},
     "output_type": "execute_result"
    }
   ],
   "source": [
    "refined = refineHana(p)\n",
    "print(refined.shape)\n",
    "refined[refined['CO_NAME'].str.contains('&')]"
   ]
  },
  {
   "cell_type": "markdown",
   "metadata": {},
   "source": [
    "## 2. Explore \n",
    "\n",
    "1. & \n",
    "2. 화장실 : 공공 / 비공공별 카테고리"
   ]
  },
  {
   "cell_type": "code",
   "execution_count": null,
   "metadata": {},
   "outputs": [],
   "source": [
    "# & -> 앤\n",
    "#20509\n",
    "test = data[data['CO_NAME'].str.contains('&')]\n",
    "print(test.shape)\n",
    "test.head()"
   ]
  },
  {
   "cell_type": "code",
   "execution_count": 10,
   "metadata": {},
   "outputs": [
    {
     "name": "stdout",
     "output_type": "stream",
     "text": [
      "(2451, 11)\n",
      "(814, 11)\n",
      "(1637, 11)\n"
     ]
    }
   ],
   "source": [
    "# 화장실 -> '' , 공공 / not 공공\n",
    "\n",
    "test = data[data['CO_NAME'].str.contains('화장실')]\n",
    "test_public = test[test['CATE']=='공공']\n",
    "test_nonPublic = test[test['CATE']!='공공']\n",
    "\n",
    "print(test.shape)\n",
    "print(test_public.shape)\n",
    "print(test_nonPublic.shape)\n",
    "# test_nonPublic.head()"
   ]
  },
  {
   "cell_type": "raw",
   "metadata": {},
   "source": [
    "## 814 public\n",
    "\n",
    "temp = test_public[test_public['CO_NAME'].str.contains('공중화장실')] #0\n",
    "\n",
    "temp = test_public[test_public['CO_NAME'].str.contains('개방화장실')]  #589, 마포구 시설관리공단, 주유소, 충전소\n",
    "\n",
    "temp = test_public[~test_public['CO_NAME'].str.contains('(공중|개방)화장실')] #225 - 충전소 화장실, 협동조합 화장실\n",
    "\n",
    "print(temp.shape)\n",
    "temp.head()"
   ]
  },
  {
   "cell_type": "code",
   "execution_count": 11,
   "metadata": {},
   "outputs": [
    {
     "data": {
      "text/plain": [
       "array(['마포구시설관리공단 개방화장실', '구로구시설관리공단 개방화장실'], dtype=object)"
      ]
     },
     "execution_count": 11,
     "metadata": {},
     "output_type": "execute_result"
    }
   ],
   "source": [
    "# 공공시설 + 공단\n",
    "test_public[test_public['CO_NAME'].str.contains('공단')].shape #509\n",
    "\n",
    "# 공공시절 - 공단\n",
    "test_public[~test_public['CO_NAME'].str.contains('공단')].shape #305\n",
    "## 1)\n",
    "test_public[~test_public['CO_NAME'].str.contains('공단')&test_public['CO_NAME'].str.contains('주유소|충전소|가스')].shape # 263\n",
    "## 2)\n",
    "test_public[~test_public['CO_NAME'].str.contains('공단')&~test_public['CO_NAME'].str.contains('주유소|충전소|가스')].shape #42\n",
    "\n",
    "### 1)-1 교통>주유소\n",
    "test_public[test_public['CO_NAME'].str.contains('주유소')].shape #180\n",
    "\n",
    "### 1)-2 교통>충전소\n",
    "test_public[test_public['CO_NAME'].str.contains('충전소|가스')].shape #78\n",
    "\n",
    "### 2)-1 의료/건강>병원, 교육>수련원, 공공>사회복지시설\n",
    "test_public[~test_public['CO_NAME'].str.contains('공단')&test_public['CO_NAME'].str.contains('병원|수련관|복지관')].shape #42\n",
    "\n",
    "test_public[test_public['CO_NAME'].str.contains('공단')].CO_NAME.unique()"
   ]
  },
  {
   "cell_type": "raw",
   "metadata": {},
   "source": [
    "## 1637 nonPublic\n",
    "\n",
    "temp = test_nonPublic[test_nonPublic['CO_NAME'].str.contains('공중화장실')] #460\n",
    "#1) test = data[data['CO_NAME'].str.contains('공중화장실')] #460\n",
    "temp = test_nonPublic[test_nonPublic['CO_NAME'].str.contains('개방화장실')]  #1157\n",
    "#3) test = data[data['CO_NAME'].str.contains('개방화장실')] #1746 (+14)\n",
    "temp = test_nonPublic[~test_nonPublic['CO_NAME'].str.contains('(공중|개방)화장실')] #20 - 충전소 화장실, 협동조합 화장실\n",
    "\n",
    "print(temp.shape)\n",
    "temp.head()"
   ]
  },
  {
   "cell_type": "markdown",
   "metadata": {},
   "source": [
    "## 3. Function testing\n",
    "\n",
    "### assign\n",
    " - 복수 카테고리 변경 / apply 사용시, assign사용\n",
    " - 단일 카테고리 변경 시, column에 바로 삽입(assign 미사용)\n",
    " \n",
    "### contains/replace\n",
    " - xml 특수기호(<,>,&,',\") 제거 <br/>\n",
    " : escape기호 사용여부 상관없이 동일결과"
   ]
  },
  {
   "cell_type": "code",
   "execution_count": 13,
   "metadata": {},
   "outputs": [
    {
     "data": {
      "text/html": [
       "<div>\n",
       "<style>\n",
       "    .dataframe thead tr:only-child th {\n",
       "        text-align: right;\n",
       "    }\n",
       "\n",
       "    .dataframe thead th {\n",
       "        text-align: left;\n",
       "    }\n",
       "\n",
       "    .dataframe tbody tr th {\n",
       "        vertical-align: top;\n",
       "    }\n",
       "</style>\n",
       "<table border=\"1\" class=\"dataframe\">\n",
       "  <thead>\n",
       "    <tr style=\"text-align: right;\">\n",
       "      <th></th>\n",
       "      <th>EPOPCON_ID</th>\n",
       "      <th>COMPANY_ID</th>\n",
       "      <th>CARD_NAME</th>\n",
       "      <th>CNT_PAY</th>\n",
       "      <th>SUM_PAY</th>\n",
       "      <th>ADDR</th>\n",
       "      <th>CATE</th>\n",
       "      <th>CATE1</th>\n",
       "      <th>CO_NAME</th>\n",
       "      <th>LATITUDE1</th>\n",
       "      <th>LONGITUDE1</th>\n",
       "    </tr>\n",
       "  </thead>\n",
       "  <tbody>\n",
       "    <tr>\n",
       "      <th>121051</th>\n",
       "      <td>15a38df7071e42756fbe6cd42</td>\n",
       "      <td>5860528</td>\n",
       "      <td>현대카드</td>\n",
       "      <td>3</td>\n",
       "      <td>277000.0</td>\n",
       "      <td>서울 동대문구 장안동 466-8</td>\n",
       "      <td>교통</td>\n",
       "      <td>주유소</td>\n",
       "      <td>SK스피드주유소 개방화장실</td>\n",
       "      <td>37.5650989</td>\n",
       "      <td>127.0692033</td>\n",
       "    </tr>\n",
       "  </tbody>\n",
       "</table>\n",
       "</div>"
      ],
      "text/plain": [
       "                       EPOPCON_ID  COMPANY_ID CARD_NAME  CNT_PAY   SUM_PAY  \\\n",
       "121051  15a38df7071e42756fbe6cd42     5860528      현대카드        3  277000.0   \n",
       "\n",
       "                     ADDR CATE CATE1         CO_NAME   LATITUDE1   LONGITUDE1  \n",
       "121051  서울 동대문구 장안동 466-8   교통   주유소  SK스피드주유소 개방화장실  37.5650989  127.0692033  "
      ]
     },
     "execution_count": 13,
     "metadata": {},
     "output_type": "execute_result"
    }
   ],
   "source": [
    "A = test_public[test_public['CO_NAME'].str.contains('주유소')]\n",
    "A = A.assign(CATE = '교통', CATE1 = '주유소')\n",
    "A.head(1)\n",
    "\n",
    "# test_public = test_public[test_public['CO_NAME'].str.contains('주유소')].assign(CATE = '교통', CATE1 = '주유소')\n",
    "# test_public.head()"
   ]
  },
  {
   "cell_type": "code",
   "execution_count": 24,
   "metadata": {},
   "outputs": [
    {
     "data": {
      "text/html": [
       "<div>\n",
       "<style>\n",
       "    .dataframe thead tr:only-child th {\n",
       "        text-align: right;\n",
       "    }\n",
       "\n",
       "    .dataframe thead th {\n",
       "        text-align: left;\n",
       "    }\n",
       "\n",
       "    .dataframe tbody tr th {\n",
       "        vertical-align: top;\n",
       "    }\n",
       "</style>\n",
       "<table border=\"1\" class=\"dataframe\">\n",
       "  <thead>\n",
       "    <tr style=\"text-align: right;\">\n",
       "      <th></th>\n",
       "      <th>EPOPCON_ID</th>\n",
       "      <th>COMPANY_ID</th>\n",
       "      <th>CARD_NAME</th>\n",
       "      <th>CNT_PAY</th>\n",
       "      <th>SUM_PAY</th>\n",
       "      <th>ADDR</th>\n",
       "      <th>CATE</th>\n",
       "      <th>CATE1</th>\n",
       "      <th>CO_NAME</th>\n",
       "      <th>LATITUDE1</th>\n",
       "      <th>LONGITUDE1</th>\n",
       "    </tr>\n",
       "  </thead>\n",
       "  <tbody>\n",
       "    <tr>\n",
       "      <th>2143</th>\n",
       "      <td>15a38abd271e42756fbe69dae</td>\n",
       "      <td>7772765</td>\n",
       "      <td>신한카드</td>\n",
       "      <td>1</td>\n",
       "      <td>18000.0</td>\n",
       "      <td>광주광역시 광산구 송정동 975-9</td>\n",
       "      <td>카페/디저트</td>\n",
       "      <td>베이커리</td>\n",
       "      <td>쑥's 초코파이</td>\n",
       "      <td>37.5071160</td>\n",
       "      <td>127.0561219</td>\n",
       "    </tr>\n",
       "  </tbody>\n",
       "</table>\n",
       "</div>"
      ],
      "text/plain": [
       "                     EPOPCON_ID  COMPANY_ID CARD_NAME  CNT_PAY  SUM_PAY  \\\n",
       "2143  15a38abd271e42756fbe69dae     7772765      신한카드        1  18000.0   \n",
       "\n",
       "                     ADDR    CATE CATE1   CO_NAME   LATITUDE1   LONGITUDE1  \n",
       "2143  광주광역시 광산구 송정동 975-9  카페/디저트  베이커리  쑥's 초코파이  37.5071160  127.0561219  "
      ]
     },
     "execution_count": 24,
     "metadata": {},
     "output_type": "execute_result"
    }
   ],
   "source": [
    "B = data[data['CO_NAME'].str.contains(\"'\")]\n",
    "B.head(1)"
   ]
  },
  {
   "cell_type": "code",
   "execution_count": 29,
   "metadata": {},
   "outputs": [
    {
     "data": {
      "text/html": [
       "<div>\n",
       "<style>\n",
       "    .dataframe thead tr:only-child th {\n",
       "        text-align: right;\n",
       "    }\n",
       "\n",
       "    .dataframe thead th {\n",
       "        text-align: left;\n",
       "    }\n",
       "\n",
       "    .dataframe tbody tr th {\n",
       "        vertical-align: top;\n",
       "    }\n",
       "</style>\n",
       "<table border=\"1\" class=\"dataframe\">\n",
       "  <thead>\n",
       "    <tr style=\"text-align: right;\">\n",
       "      <th></th>\n",
       "      <th>EPOPCON_ID</th>\n",
       "      <th>COMPANY_ID</th>\n",
       "      <th>CARD_NAME</th>\n",
       "      <th>CNT_PAY</th>\n",
       "      <th>SUM_PAY</th>\n",
       "      <th>ADDR</th>\n",
       "      <th>CATE</th>\n",
       "      <th>CATE1</th>\n",
       "      <th>CO_NAME</th>\n",
       "      <th>LATITUDE1</th>\n",
       "      <th>LONGITUDE1</th>\n",
       "    </tr>\n",
       "  </thead>\n",
       "  <tbody>\n",
       "    <tr>\n",
       "      <th>2143</th>\n",
       "      <td>15a38abd271e42756fbe69dae</td>\n",
       "      <td>7772765</td>\n",
       "      <td>신한카드</td>\n",
       "      <td>1</td>\n",
       "      <td>18000.0</td>\n",
       "      <td>광주광역시 광산구 송정동 975-9</td>\n",
       "      <td>카페/디저트</td>\n",
       "      <td>베이커리</td>\n",
       "      <td>쑥's 초코파이</td>\n",
       "      <td>37.5071160</td>\n",
       "      <td>127.0561219</td>\n",
       "    </tr>\n",
       "  </tbody>\n",
       "</table>\n",
       "</div>"
      ],
      "text/plain": [
       "                     EPOPCON_ID  COMPANY_ID CARD_NAME  CNT_PAY  SUM_PAY  \\\n",
       "2143  15a38abd271e42756fbe69dae     7772765      신한카드        1  18000.0   \n",
       "\n",
       "                     ADDR    CATE CATE1   CO_NAME   LATITUDE1   LONGITUDE1  \n",
       "2143  광주광역시 광산구 송정동 975-9  카페/디저트  베이커리  쑥's 초코파이  37.5071160  127.0561219  "
      ]
     },
     "execution_count": 29,
     "metadata": {},
     "output_type": "execute_result"
    }
   ],
   "source": [
    "B = data[data['CO_NAME'].str.contains('\\'|\\\"')]\n",
    "B.head(1)"
   ]
  },
  {
   "cell_type": "code",
   "execution_count": 26,
   "metadata": {},
   "outputs": [
    {
     "name": "stderr",
     "output_type": "stream",
     "text": [
      "C:\\Users\\epopc\\Anaconda3\\lib\\site-packages\\pandas\\core\\generic.py:3110: SettingWithCopyWarning: \n",
      "A value is trying to be set on a copy of a slice from a DataFrame.\n",
      "Try using .loc[row_indexer,col_indexer] = value instead\n",
      "\n",
      "See the caveats in the documentation: http://pandas.pydata.org/pandas-docs/stable/indexing.html#indexing-view-versus-copy\n",
      "  self[name] = value\n"
     ]
    },
    {
     "data": {
      "text/html": [
       "<div>\n",
       "<style>\n",
       "    .dataframe thead tr:only-child th {\n",
       "        text-align: right;\n",
       "    }\n",
       "\n",
       "    .dataframe thead th {\n",
       "        text-align: left;\n",
       "    }\n",
       "\n",
       "    .dataframe tbody tr th {\n",
       "        vertical-align: top;\n",
       "    }\n",
       "</style>\n",
       "<table border=\"1\" class=\"dataframe\">\n",
       "  <thead>\n",
       "    <tr style=\"text-align: right;\">\n",
       "      <th></th>\n",
       "      <th>EPOPCON_ID</th>\n",
       "      <th>COMPANY_ID</th>\n",
       "      <th>CARD_NAME</th>\n",
       "      <th>CNT_PAY</th>\n",
       "      <th>SUM_PAY</th>\n",
       "      <th>ADDR</th>\n",
       "      <th>CATE</th>\n",
       "      <th>CATE1</th>\n",
       "      <th>CO_NAME</th>\n",
       "      <th>LATITUDE1</th>\n",
       "      <th>LONGITUDE1</th>\n",
       "    </tr>\n",
       "  </thead>\n",
       "  <tbody>\n",
       "    <tr>\n",
       "      <th>2143</th>\n",
       "      <td>15a38abd271e42756fbe69dae</td>\n",
       "      <td>7772765</td>\n",
       "      <td>신한카드</td>\n",
       "      <td>1</td>\n",
       "      <td>18000.0</td>\n",
       "      <td>광주광역시 광산구 송정동 975-9</td>\n",
       "      <td>카페/디저트</td>\n",
       "      <td>베이커리</td>\n",
       "      <td>쑥s 초코파이</td>\n",
       "      <td>37.5071160</td>\n",
       "      <td>127.0561219</td>\n",
       "    </tr>\n",
       "  </tbody>\n",
       "</table>\n",
       "</div>"
      ],
      "text/plain": [
       "                     EPOPCON_ID  COMPANY_ID CARD_NAME  CNT_PAY  SUM_PAY  \\\n",
       "2143  15a38abd271e42756fbe69dae     7772765      신한카드        1  18000.0   \n",
       "\n",
       "                     ADDR    CATE CATE1  CO_NAME   LATITUDE1   LONGITUDE1  \n",
       "2143  광주광역시 광산구 송정동 975-9  카페/디저트  베이커리  쑥s 초코파이  37.5071160  127.0561219  "
      ]
     },
     "execution_count": 26,
     "metadata": {},
     "output_type": "execute_result"
    }
   ],
   "source": [
    "B.CO_NAME = data['CO_NAME'].str.replace(\"'\",'')\n",
    "B.head(1)"
   ]
  },
  {
   "cell_type": "code",
   "execution_count": 27,
   "metadata": {},
   "outputs": [
    {
     "name": "stderr",
     "output_type": "stream",
     "text": [
      "C:\\Users\\epopc\\Anaconda3\\lib\\site-packages\\pandas\\core\\generic.py:3110: SettingWithCopyWarning: \n",
      "A value is trying to be set on a copy of a slice from a DataFrame.\n",
      "Try using .loc[row_indexer,col_indexer] = value instead\n",
      "\n",
      "See the caveats in the documentation: http://pandas.pydata.org/pandas-docs/stable/indexing.html#indexing-view-versus-copy\n",
      "  self[name] = value\n"
     ]
    },
    {
     "data": {
      "text/html": [
       "<div>\n",
       "<style>\n",
       "    .dataframe thead tr:only-child th {\n",
       "        text-align: right;\n",
       "    }\n",
       "\n",
       "    .dataframe thead th {\n",
       "        text-align: left;\n",
       "    }\n",
       "\n",
       "    .dataframe tbody tr th {\n",
       "        vertical-align: top;\n",
       "    }\n",
       "</style>\n",
       "<table border=\"1\" class=\"dataframe\">\n",
       "  <thead>\n",
       "    <tr style=\"text-align: right;\">\n",
       "      <th></th>\n",
       "      <th>EPOPCON_ID</th>\n",
       "      <th>COMPANY_ID</th>\n",
       "      <th>CARD_NAME</th>\n",
       "      <th>CNT_PAY</th>\n",
       "      <th>SUM_PAY</th>\n",
       "      <th>ADDR</th>\n",
       "      <th>CATE</th>\n",
       "      <th>CATE1</th>\n",
       "      <th>CO_NAME</th>\n",
       "      <th>LATITUDE1</th>\n",
       "      <th>LONGITUDE1</th>\n",
       "    </tr>\n",
       "  </thead>\n",
       "  <tbody>\n",
       "    <tr>\n",
       "      <th>2143</th>\n",
       "      <td>15a38abd271e42756fbe69dae</td>\n",
       "      <td>7772765</td>\n",
       "      <td>신한카드</td>\n",
       "      <td>1</td>\n",
       "      <td>18000.0</td>\n",
       "      <td>광주광역시 광산구 송정동 975-9</td>\n",
       "      <td>카페/디저트</td>\n",
       "      <td>베이커리</td>\n",
       "      <td>쑥s 초코파이</td>\n",
       "      <td>37.5071160</td>\n",
       "      <td>127.0561219</td>\n",
       "    </tr>\n",
       "  </tbody>\n",
       "</table>\n",
       "</div>"
      ],
      "text/plain": [
       "                     EPOPCON_ID  COMPANY_ID CARD_NAME  CNT_PAY  SUM_PAY  \\\n",
       "2143  15a38abd271e42756fbe69dae     7772765      신한카드        1  18000.0   \n",
       "\n",
       "                     ADDR    CATE CATE1  CO_NAME   LATITUDE1   LONGITUDE1  \n",
       "2143  광주광역시 광산구 송정동 975-9  카페/디저트  베이커리  쑥s 초코파이  37.5071160  127.0561219  "
      ]
     },
     "execution_count": 27,
     "metadata": {},
     "output_type": "execute_result"
    }
   ],
   "source": [
    "B.CO_NAME = data['CO_NAME'].str.replace(\"\\'\",'')\n",
    "B.head(1)"
   ]
  },
  {
   "cell_type": "raw",
   "metadata": {},
   "source": [
    "# A=A.assign(CO_NAME=A['CO_NAME'].str.replace('공중화장실',''))\n",
    "# A=A.assign(CO_NAME=A['CO_NAME'].str.replace('개방화장실',''))\n",
    "\n",
    "import pandas as pd, gc\n",
    "refined = pd.read_pickle('company.pick')\n",
    "# aa = refined[refined[\"CO_NAME\"].str.contains('\"')]\n",
    "refined[refined[\"CO_NAME\"].str.contains('\"')].head()\n"
   ]
  },
  {
   "cell_type": "raw",
   "metadata": {},
   "source": [
    "print(refined[refined[\"CO_NAME\"].str.contains(\"\\<|\\>\")].shape)\n",
    "refined[refined[\"CO_NAME\"].str.contains(\"\\&\")].head()#\\<|\\>|\\'"
   ]
  },
  {
   "cell_type": "raw",
   "metadata": {},
   "source": [
    "data.CO_NAME=data['CO_NAME'].str.replace(\"\\'\",\"\")\n",
    "data.head()"
   ]
  },
  {
   "cell_type": "raw",
   "metadata": {},
   "source": [
    "A = test_public\n",
    "A =  A.apply(lambda row : row['CATE'] = '교통', row['CATE1'] = '주유소' if row['CO_NAME'].str.contains('주유소') )"
   ]
  },
  {
   "cell_type": "markdown",
   "metadata": {},
   "source": [
    "# Apply Refining function"
   ]
  },
  {
   "cell_type": "code",
   "execution_count": 73,
   "metadata": {},
   "outputs": [],
   "source": [
    "def refineHana(data):\n",
    "    #특수기호 제거\n",
    "#     data.CO_NAME=data['CO_NAME'].str.replace('\\&','앤') #|₩&\n",
    "#     data.CO_NAME=data['CO_NAME'].str.replace('\\<|\\>|\\\"|\\'','')\n",
    "    print('total: ', data.shape)\n",
    "    \n",
    "    #화장실제거\n",
    "    test0 = data[~data['CO_NAME'].str.contains('화장실')]\n",
    "    print('nonRestroom: ',test0.shape)\n",
    "    test = data[data['CO_NAME'].str.contains('화장실')]  \n",
    "    print('Restroom: ',test.shape)\n",
    "    \n",
    "    #1\n",
    "    test_public = test[test['CATE']=='공공']  \n",
    "    \n",
    "    print('public: ',test_public.shape)    \n",
    "    etc = test_public[~test_public['CO_NAME'].str.contains('주유소|충전소|가스|병원|수련관|복지관')]\n",
    "    a = test_public[test_public['CO_NAME'].str.contains('주유소')].assign(CATE = '교통', CATE1 = '주유소')\n",
    "    b = test_public[test_public['CO_NAME'].str.contains('충전소|가스')].assign(CATE = '교통', CATE1 = '충전소')\n",
    "    c = test_public[test_public['CO_NAME'].str.contains('병원')].assign(CATE = '의료/건강', CATE1 = '병원')\n",
    "    d = test_public[test_public['CO_NAME'].str.contains('수련관')].assign(CATE = '교육', CATE1 = '수련원')\n",
    "    e = test_public[test_public['CO_NAME'].str.contains('복지관')].assign(CATE = '공공', CATE1 = '사회복지시설')\n",
    "    test_public = etc.append([a,b,c,d,e])\n",
    "    \n",
    "    print('after public: ',test_public.shape)    \n",
    "    test_public=test_public.assign(CO_NAME=test_public['CO_NAME'].str.replace('공중화장실','')) #460\n",
    "    test_public=test_public.assign(CO_NAME=test_public['CO_NAME'].str.replace('개방화장실',''))#1157\n",
    "    test_public=test_public.assign(CO_NAME=test_public['CO_NAME'].str.replace('화장실',''))#20 - 충전소 화장실, 협동조합 화장실\n",
    "    # A=A.assign(CO_NAME=A['CO_NAME'].str.replace('공중화장실',''))\n",
    "    \n",
    "    #2\n",
    "    test_nonPublic = test[test['CATE']!='공공']\n",
    "    print('nonPublic: ',test_nonPublic.shape)\n",
    "    test_nonPublic=test_nonPublic.assign(CO_NAME=test_nonPublic['CO_NAME'].str.replace('공중화장실','')) #460\n",
    "    test_nonPublic=test_nonPublic.assign(CO_NAME=test_nonPublic['CO_NAME'].str.replace('개방화장실',''))#1157\n",
    "    test_nonPublic=test_nonPublic.assign(CO_NAME=test_nonPublic['CO_NAME'].str.replace('화장실',''))#20 - 충전소 화장실, 협동조합 화장실\n",
    "    # test_nonPublic.CO_NAME=test_nonPublic['CO_NAME'].str.replace('공중화장실','') #460\n",
    "  \n",
    "    \n",
    "    #3\n",
    "    temp = test_public.append(test_nonPublic)\n",
    "    print('Restroon: ',temp.shape)\n",
    "    \n",
    "#     temp.append(test0).sort_values(by=['EPOPCON_ID','COMPANY_ID','CARD_NAME'], axis=0)\n",
    "    print(temp.append(test0).shape)\n",
    "    return  temp.append(test0)\n",
    "\n",
    "\n",
    "# refined= refineHana(data)\n",
    "# print(refined[refined[\"CO_NAME\"].str.contains(\"&\")])\n",
    "# refined.head(1)"
   ]
  },
  {
   "cell_type": "code",
   "execution_count": 76,
   "metadata": {},
   "outputs": [
    {
     "name": "stdout",
     "output_type": "stream",
     "text": [
      "total:  (908520, 5)\n",
      "nonRestroom:  (908459, 5)\n",
      "Restroom:  (61, 5)\n",
      "public:  (25, 5)\n",
      "after public:  (25, 5)\n",
      "nonPublic:  (36, 5)\n",
      "Restroon:  (61, 5)\n",
      "(908520, 5)\n",
      "Empty DataFrame\n",
      "Columns: [ADDR, CATE, CATE1, COMPANY_ID, CO_NAME]\n",
      "Index: []\n"
     ]
    }
   ],
   "source": [
    "refined = refineHana(p)\n",
    "refined[refined[\"ADDR\"].str.contains(\"&\")]\n",
    "print(refined[refined[\"CO_NAME\"].str.contains(\"화장실\")])\n",
    "\n",
    "refined.to_pickle('company.pick')"
   ]
  },
  {
   "cell_type": "code",
   "execution_count": 129,
   "metadata": {},
   "outputs": [
    {
     "data": {
      "text/html": [
       "<div>\n",
       "<style>\n",
       "    .dataframe thead tr:only-child th {\n",
       "        text-align: right;\n",
       "    }\n",
       "\n",
       "    .dataframe thead th {\n",
       "        text-align: left;\n",
       "    }\n",
       "\n",
       "    .dataframe tbody tr th {\n",
       "        vertical-align: top;\n",
       "    }\n",
       "</style>\n",
       "<table border=\"1\" class=\"dataframe\">\n",
       "  <thead>\n",
       "    <tr style=\"text-align: right;\">\n",
       "      <th></th>\n",
       "      <th>EPOPCON_ID</th>\n",
       "      <th>COMPANY_ID</th>\n",
       "      <th>CARD_NAME</th>\n",
       "      <th>CNT_PAY</th>\n",
       "      <th>SUM_PAY</th>\n",
       "      <th>ADDR</th>\n",
       "      <th>CATE</th>\n",
       "      <th>CATE1</th>\n",
       "      <th>CO_NAME</th>\n",
       "      <th>LATITUDE1</th>\n",
       "      <th>LONGITUDE1</th>\n",
       "    </tr>\n",
       "  </thead>\n",
       "  <tbody>\n",
       "    <tr>\n",
       "      <th>14085</th>\n",
       "      <td>15a38b7406259ad0a9e317ede</td>\n",
       "      <td>322764</td>\n",
       "      <td>농협카드</td>\n",
       "      <td>1</td>\n",
       "      <td>400.0</td>\n",
       "      <td>서울특별시 마포구 성산동 533-1</td>\n",
       "      <td>공공</td>\n",
       "      <td>공공기관</td>\n",
       "      <td>마포구시설관리공단</td>\n",
       "      <td>37.5667030</td>\n",
       "      <td>126.9783130</td>\n",
       "    </tr>\n",
       "    <tr>\n",
       "      <th>47531</th>\n",
       "      <td>15a38c81fe946d9170e4ac4e5</td>\n",
       "      <td>322764</td>\n",
       "      <td>롯데카드</td>\n",
       "      <td>3</td>\n",
       "      <td>10200.0</td>\n",
       "      <td>서울특별시 마포구 성산동 533-1</td>\n",
       "      <td>공공</td>\n",
       "      <td>공공기관</td>\n",
       "      <td>마포구시설관리공단</td>\n",
       "      <td>37.5728003</td>\n",
       "      <td>126.9647050</td>\n",
       "    </tr>\n",
       "    <tr>\n",
       "      <th>64841</th>\n",
       "      <td>15a38cf376259ad0a9e3192f3</td>\n",
       "      <td>322764</td>\n",
       "      <td>삼성카드</td>\n",
       "      <td>1</td>\n",
       "      <td>4700.0</td>\n",
       "      <td>서울특별시 마포구 성산동 533-1</td>\n",
       "      <td>공공</td>\n",
       "      <td>공공기관</td>\n",
       "      <td>마포구시설관리공단</td>\n",
       "      <td>37.5113723</td>\n",
       "      <td>127.0628389</td>\n",
       "    </tr>\n",
       "    <tr>\n",
       "      <th>91644</th>\n",
       "      <td>15a38d7606259ad0a9e319db7</td>\n",
       "      <td>322764</td>\n",
       "      <td>현대카드</td>\n",
       "      <td>2</td>\n",
       "      <td>4400.0</td>\n",
       "      <td>서울특별시 마포구 성산동 533-1</td>\n",
       "      <td>공공</td>\n",
       "      <td>공공기관</td>\n",
       "      <td>마포구시설관리공단</td>\n",
       "      <td>37.5311155</td>\n",
       "      <td>126.9248774</td>\n",
       "    </tr>\n",
       "    <tr>\n",
       "      <th>115238</th>\n",
       "      <td>15a38dd906259ad0a9e31a798</td>\n",
       "      <td>5764271</td>\n",
       "      <td>KB국민카드</td>\n",
       "      <td>2</td>\n",
       "      <td>7800.0</td>\n",
       "      <td>서울 구로구 구로동 741-27</td>\n",
       "      <td>공공</td>\n",
       "      <td>공공기관</td>\n",
       "      <td>구로구시설관리공단</td>\n",
       "      <td>37.5667030</td>\n",
       "      <td>126.9783130</td>\n",
       "    </tr>\n",
       "  </tbody>\n",
       "</table>\n",
       "</div>"
      ],
      "text/plain": [
       "                       EPOPCON_ID  COMPANY_ID CARD_NAME  CNT_PAY  SUM_PAY  \\\n",
       "14085   15a38b7406259ad0a9e317ede      322764      농협카드        1    400.0   \n",
       "47531   15a38c81fe946d9170e4ac4e5      322764      롯데카드        3  10200.0   \n",
       "64841   15a38cf376259ad0a9e3192f3      322764      삼성카드        1   4700.0   \n",
       "91644   15a38d7606259ad0a9e319db7      322764      현대카드        2   4400.0   \n",
       "115238  15a38dd906259ad0a9e31a798     5764271    KB국민카드        2   7800.0   \n",
       "\n",
       "                       ADDR CATE CATE1     CO_NAME   LATITUDE1   LONGITUDE1  \n",
       "14085   서울특별시 마포구 성산동 533-1   공공  공공기관  마포구시설관리공단   37.5667030  126.9783130  \n",
       "47531   서울특별시 마포구 성산동 533-1   공공  공공기관  마포구시설관리공단   37.5728003  126.9647050  \n",
       "64841   서울특별시 마포구 성산동 533-1   공공  공공기관  마포구시설관리공단   37.5113723  127.0628389  \n",
       "91644   서울특별시 마포구 성산동 533-1   공공  공공기관  마포구시설관리공단   37.5311155  126.9248774  \n",
       "115238    서울 구로구 구로동 741-27   공공  공공기관  구로구시설관리공단   37.5667030  126.9783130  "
      ]
     },
     "execution_count": 129,
     "metadata": {},
     "output_type": "execute_result"
    }
   ],
   "source": [
    "refined.head()"
   ]
  },
  {
   "cell_type": "raw",
   "metadata": {},
   "source": [
    "def refine(row):\n",
    "    if '화장실' in row[8] : \n",
    "        if row[6]=='공공':\n",
    "            if '주유소' in row[8] :\n",
    "                row['CATE'] = '교통'\n",
    "                row['CATE1'] = '주유소'\n",
    "            elif ('충전소' in row[8]) or ('가스' in row[8]) :\n",
    "                row['CATE'] = '교통'\n",
    "                row['CATE1'] = '충전소'\n",
    "            elif '병원' in row[8] :\n",
    "                row['CATE'] = '의료/건강'\n",
    "                row['CATE1'] = '병원'\n",
    "            elif '수련관' in row[8] :\n",
    "                row['CATE'] = '교육'\n",
    "                row['CATE1'] = '수련원'\n",
    "            elif '복지관' in row[8] :\n",
    "                row['CATE1'] = '사회복지시설'\n",
    "\n",
    "    row[8].replace('공중화장실','')\n",
    "    row[8].replace('개방화장실','')\n",
    "    row[8].replace('화장실','')\n",
    "\n",
    "    return row\n",
    "\n",
    "data=data.apply(refine, axis=1)"
   ]
  },
  {
   "cell_type": "code",
   "execution_count": 31,
   "metadata": {},
   "outputs": [],
   "source": [
    "#https://stackoverflow.com/questions/18574108/how-do-convert-a-pandas-dataframe-to-xml\n",
    "\n",
    "def to_xml(df, filename=None, mode='w'):\n",
    "    bigxml=['<?xml version=\"1.0\"?>','<resultset xmlns:xsi=\"http://www.w3.org/2001/XMLSchema-instance\">']\n",
    "    def row_to_xml(row):\n",
    "        xml = [' <row>']\n",
    "        for i, col_name in enumerate(row.index):\n",
    "            xml.append('  <field name=\"{0}\">{1}</field>'.format(col_name, row.iloc[i]))\n",
    "        xml.append(' </row>')\n",
    "        return '\\n'.join(xml)\n",
    "    resultset = '\\n'.join(df.apply(row_to_xml, axis=1))\n",
    "    bigxml.append(resultset)\n",
    "    bigxml.append('</resultset>')\n",
    "    res = '\\n'.join(bigxml)\n",
    "    \n",
    "    if filename is None:\n",
    "        return res\n",
    "    with open(filename, mode, encoding='utf8') as f:\n",
    "        f.write(res)\n",
    "\n",
    "pd.DataFrame.to_xml = to_xml\n",
    "\n",
    "#tmp.to_xml('test.csv')\n",
    "\n",
    "p=refined\n",
    "p.iloc[:2500000,].to_xml('hana_march1.xml')\n",
    "p.iloc[2500000:5000000,].to_xml('hana_march2.xml')\n",
    "p.iloc[5000000:7500000,].to_xml('hana_march3.xml')\n",
    "p.iloc[7500000:9962239,].to_xml('hana_march4.xml')"
   ]
  },
  {
   "cell_type": "code",
   "execution_count": 32,
   "metadata": {},
   "outputs": [
    {
     "data": {
      "text/html": [
       "<div>\n",
       "<style>\n",
       "    .dataframe thead tr:only-child th {\n",
       "        text-align: right;\n",
       "    }\n",
       "\n",
       "    .dataframe thead th {\n",
       "        text-align: left;\n",
       "    }\n",
       "\n",
       "    .dataframe tbody tr th {\n",
       "        vertical-align: top;\n",
       "    }\n",
       "</style>\n",
       "<table border=\"1\" class=\"dataframe\">\n",
       "  <thead>\n",
       "    <tr style=\"text-align: right;\">\n",
       "      <th></th>\n",
       "      <th>EPOPCON_ID</th>\n",
       "      <th>COMPANY_ID</th>\n",
       "      <th>CARD_NAME</th>\n",
       "      <th>CNT_PAY</th>\n",
       "      <th>SUM_PAY</th>\n",
       "      <th>ADDR</th>\n",
       "      <th>CATE</th>\n",
       "      <th>CATE1</th>\n",
       "      <th>CO_NAME</th>\n",
       "      <th>LATITUDE1</th>\n",
       "      <th>LONGITUDE1</th>\n",
       "    </tr>\n",
       "  </thead>\n",
       "  <tbody>\n",
       "    <tr>\n",
       "      <th>0</th>\n",
       "      <td>15a0e888b71e42719f785db8b</td>\n",
       "      <td>27879</td>\n",
       "      <td>기업BC</td>\n",
       "      <td>2</td>\n",
       "      <td>12000.0</td>\n",
       "      <td>경기도 수원시 장안구 송죽동 453-29번지</td>\n",
       "      <td>마트</td>\n",
       "      <td>편의점</td>\n",
       "      <td>CU 수원경기일보점</td>\n",
       "      <td>37.4960912</td>\n",
       "      <td>127.0183798</td>\n",
       "    </tr>\n",
       "    <tr>\n",
       "      <th>1</th>\n",
       "      <td>15a0e888b71e42719f785db8b</td>\n",
       "      <td>46177</td>\n",
       "      <td>기업BC</td>\n",
       "      <td>2</td>\n",
       "      <td>99300.0</td>\n",
       "      <td>경기 성남시 분당구 정자동 178-1 NAVER 그린팩토리 1층</td>\n",
       "      <td>온라인쇼핑</td>\n",
       "      <td>온라인쇼핑</td>\n",
       "      <td>네이버</td>\n",
       "      <td>37.4960912</td>\n",
       "      <td>127.0183798</td>\n",
       "    </tr>\n",
       "    <tr>\n",
       "      <th>2</th>\n",
       "      <td>15a0e888b71e42719f785db8b</td>\n",
       "      <td>207811</td>\n",
       "      <td>기업BC</td>\n",
       "      <td>1</td>\n",
       "      <td>2000.0</td>\n",
       "      <td>서울 서초구 서초동 1690-1 삼풍프라자 지하1층</td>\n",
       "      <td>생활</td>\n",
       "      <td>생활용품</td>\n",
       "      <td>다이소 교대역점</td>\n",
       "      <td>37.4960912</td>\n",
       "      <td>127.0183798</td>\n",
       "    </tr>\n",
       "    <tr>\n",
       "      <th>3</th>\n",
       "      <td>15a0e888b71e42719f785db8b</td>\n",
       "      <td>255730</td>\n",
       "      <td>기업BC</td>\n",
       "      <td>1</td>\n",
       "      <td>6000.0</td>\n",
       "      <td>서울 서초구 서초동 1669-6 동진빌딩 1층</td>\n",
       "      <td>외식</td>\n",
       "      <td>한식</td>\n",
       "      <td>돌배기집 교대역점</td>\n",
       "      <td>37.4960912</td>\n",
       "      <td>127.0183798</td>\n",
       "    </tr>\n",
       "    <tr>\n",
       "      <th>4</th>\n",
       "      <td>15a0e888b71e42719f785db8b</td>\n",
       "      <td>331119</td>\n",
       "      <td>기업BC</td>\n",
       "      <td>1</td>\n",
       "      <td>7500.0</td>\n",
       "      <td>서울 서초구 서초동 1674-5</td>\n",
       "      <td>외식</td>\n",
       "      <td>패스트푸드</td>\n",
       "      <td>맥도날드 서울교대점</td>\n",
       "      <td>37.4960912</td>\n",
       "      <td>127.0183798</td>\n",
       "    </tr>\n",
       "  </tbody>\n",
       "</table>\n",
       "</div>"
      ],
      "text/plain": [
       "                  EPOPCON_ID  COMPANY_ID CARD_NAME  CNT_PAY  SUM_PAY  \\\n",
       "0  15a0e888b71e42719f785db8b       27879      기업BC        2  12000.0   \n",
       "1  15a0e888b71e42719f785db8b       46177      기업BC        2  99300.0   \n",
       "2  15a0e888b71e42719f785db8b      207811      기업BC        1   2000.0   \n",
       "3  15a0e888b71e42719f785db8b      255730      기업BC        1   6000.0   \n",
       "4  15a0e888b71e42719f785db8b      331119      기업BC        1   7500.0   \n",
       "\n",
       "                                  ADDR   CATE  CATE1     CO_NAME   LATITUDE1  \\\n",
       "0             경기도 수원시 장안구 송죽동 453-29번지     마트    편의점  CU 수원경기일보점  37.4960912   \n",
       "1  경기 성남시 분당구 정자동 178-1 NAVER 그린팩토리 1층  온라인쇼핑  온라인쇼핑         네이버  37.4960912   \n",
       "2         서울 서초구 서초동 1690-1 삼풍프라자 지하1층     생활   생활용품    다이소 교대역점  37.4960912   \n",
       "3            서울 서초구 서초동 1669-6 동진빌딩 1층     외식     한식   돌배기집 교대역점  37.4960912   \n",
       "4                    서울 서초구 서초동 1674-5     외식  패스트푸드  맥도날드 서울교대점  37.4960912   \n",
       "\n",
       "    LONGITUDE1  \n",
       "0  127.0183798  \n",
       "1  127.0183798  \n",
       "2  127.0183798  \n",
       "3  127.0183798  \n",
       "4  127.0183798  "
      ]
     },
     "execution_count": 32,
     "metadata": {},
     "output_type": "execute_result"
    }
   ],
   "source": [
    "p.head()"
   ]
  },
  {
   "cell_type": "code",
   "execution_count": 36,
   "metadata": {},
   "outputs": [
    {
     "name": "stdout",
     "output_type": "stream",
     "text": [
      "Empty DataFrame\n",
      "Columns: [EPOPCON_ID, COMPANY_ID, CARD_NAME, CNT_PAY, SUM_PAY, ADDR, CATE, CATE1, CO_NAME, LATITUDE1, LONGITUDE1]\n",
      "Index: []\n"
     ]
    }
   ],
   "source": [
    "print(p[p[\"CO_NAME\"].str.contains(\"'\")])"
   ]
  }
 ],
 "metadata": {
  "kernelspec": {
   "display_name": "Python 3",
   "language": "python",
   "name": "python3"
  },
  "language_info": {
   "codemirror_mode": {
    "name": "ipython",
    "version": 3
   },
   "file_extension": ".py",
   "mimetype": "text/x-python",
   "name": "python",
   "nbconvert_exporter": "python",
   "pygments_lexer": "ipython3",
   "version": "3.6.3"
  }
 },
 "nbformat": 4,
 "nbformat_minor": 2
}
