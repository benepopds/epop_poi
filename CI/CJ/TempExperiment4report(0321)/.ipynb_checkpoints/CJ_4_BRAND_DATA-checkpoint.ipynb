{
 "cells": [
  {
   "cell_type": "markdown",
   "metadata": {},
   "source": [
    "1. 청년다방, 태영생막창, 에머이, 감성타코 의 COMPANY_ID 리스트 뽑기 -ok \n",
    "2. COMPANY_ID의 REVISIT DATA 뽑기\n",
    " - ID기준 1백만개씩 가져온다.\n",
    " - 1백만개 내에서 4개의 각 브랜드별 결제데이터를 걸러 각 DF에 누적하기\n",
    "3. DF를 시점별로 나눠서 저장한다....\n",
    " * 아니면 애초에 시점별로 나눠서 각자 저장?\n"
   ]
  },
  {
   "cell_type": "code",
   "execution_count": 12,
   "metadata": {},
   "outputs": [],
   "source": [
    "import pymysql, pandas as pd"
   ]
  },
  {
   "cell_type": "code",
   "execution_count": 14,
   "metadata": {},
   "outputs": [],
   "source": [
    "corp_list = ['청년다방','태영생막창','에머이','감성타코'] #corp_id_list = []\n",
    "\n",
    "type(corp_list[0]) # str\n",
    "conn = pymysql.connect(host='133.186.143.151', port=13306, user='eums', password='eums00!q', db='eums-shared', charset='utf8')\n",
    "curs = conn.cursor(pymysql.cursors.DictCursor)\n",
    "curs.execute(\"select * FROM MEUMS_COMPANY WHERE co_name regexp '청년다방|태영생막창|에머이|감성타코';\") #ID AS COMPANY_ID\n",
    "temp = pd.DataFrame(curs.fetchall())\n",
    "# curs.execute(\"select ID AS COMPANY_ID FROM MEUMS_COMPANY WHERE CATE_CODE = 'C12' AND co_name regexp '\"+corp_list[0]+\"' limit 10;\")\n",
    "# list1 = pd.DataFrame(curs.fetchall())\n",
    "# curs.execute(\"select ID AS COMPANY_ID FROM MEUMS_COMPANY WHERE CATE_CODE = 'C12' AND co_name regexp '\"+corp_list[1]+\"' limit 10;\")\n",
    "# list2 = pd.DataFrame(curs.fetchall())\n",
    "# curs.execute(\"select ID AS COMPANY_ID FROM MEUMS_COMPANY WHERE CATE_CODE = 'C12' AND co_name regexp '\"+corp_list[2]+\"' limit 10;\")\n",
    "# list3 = pd.DataFrame(curs.fetchall())\n",
    "# curs.execute(\"select ID AS COMPANY_ID FROM MEUMS_COMPANY WHERE CATE_CODE = 'C12' AND co_name regexp '\"+corp_list[3]+\"' limit 10;\")\n",
    "# list4 = pd.DataFrame(curs.fetchall())\n",
    "conn.close()"
   ]
  },
  {
   "cell_type": "code",
   "execution_count": 15,
   "metadata": {},
   "outputs": [
    {
     "data": {
      "text/plain": [
       "0    감성타코앤그릴 신사점\n",
       "1     청년다방서울숭실대점\n",
       "2          태영생막창\n",
       "3      청년다방 망원역점\n",
       "4      태영생막창서울본점\n",
       "Name: CO_NAME, dtype: object"
      ]
     },
     "execution_count": 15,
     "metadata": {},
     "output_type": "execute_result"
    }
   ],
   "source": [
    "temp['COMPANY_ID']=temp['ID']\n",
    "temp['CO_NAME'].head()"
   ]
  },
  {
   "cell_type": "code",
   "execution_count": 18,
   "metadata": {},
   "outputs": [],
   "source": [
    "from datetime import datetime, timedelta\n",
    "import pickle\n",
    "# List= list1.COMPANY_ID.unique().tolist()\n",
    "# len(List)"
   ]
  },
  {
   "cell_type": "raw",
   "metadata": {},
   "source": [
    "# corp_id_ dataframe = list1, list2, list3, list4\n",
    "List1 = list1.COMPANY_ID.unique().tolist()\n",
    "List2 = list2.COMPANY_ID.unique().tolist()\n",
    "List3 = list3.COMPANY_ID.unique().tolist()\n",
    "List4 = list4.COMPANY_ID.unique().tolist()"
   ]
  },
  {
   "cell_type": "code",
   "execution_count": 19,
   "metadata": {},
   "outputs": [],
   "source": [
    "List = temp.COMPANY_ID.unique().tolist()"
   ]
  },
  {
   "cell_type": "code",
   "execution_count": 22,
   "metadata": {},
   "outputs": [
    {
     "data": {
      "text/plain": [
       "datetime.timedelta(0, 0, 33061)"
      ]
     },
     "execution_count": 22,
     "metadata": {},
     "output_type": "execute_result"
    }
   ],
   "source": [
    "start_time = datetime.now()\n",
    "\n",
    "\n",
    "conn = pymysql.connect(host='192.168.0.50', user='eums', password='eums00!q', db='eums', charset='utf8')\n",
    "#conn = pymysql.connect(host='133.186.135.21', user='eums', password='eums00!q', db='eums', charset='utf8')\n",
    "curs = conn.cursor(pymysql.cursors.DictCursor)\n",
    "# 1 ~ 115080093 ID \n",
    "#EPOPCON_ID, COMPANY_ID,DEAL_DT,CARD_NAME,PAYMENT\n",
    "curs.execute(\"select EPOPCON_ID, COMPANY_ID,DEAL_DT,CARD_NAME,PAYMENT from MEUMS_COMP_REVISIT_HIS WHERE COMPANY_ID in \"+str(tuple(List)) +\";\")\n",
    "data=pd.DataFrame(curs.fetchall())\n",
    "# pd=pd.DataFrame(curs.fetchall())\n",
    "conn.close()\n",
    "\n",
    "# print(pd.shape)\n",
    "datetime.now()-start_time\n"
   ]
  },
  {
   "cell_type": "code",
   "execution_count": 33,
   "metadata": {},
   "outputs": [
    {
     "name": "stdout",
     "output_type": "stream",
     "text": [
      "(838, 63)\n"
     ]
    }
   ],
   "source": [
    "#[{'COUNT(*)': 836}]\n",
    "\n",
    "# import pandas as pd\n",
    "# test = pd.DataFrame(test)\n",
    "test = pd.merge(data, temp, how='inner',on='COMPANY_ID')\n",
    "print(test.shape)\n",
    "test[['EPOPCON_ID','DEAL_DT','PAYMENT','COMPANY_ID','CO_NAME']].head()\n",
    "list(test)\n",
    "testt=test[['EPOPCON_ID','COMPANY_ID', 'DEAL_DT', 'PAYMENT', 'ADDR','CO_NAME','LATITUDE', 'LONGITUDE']]\n"
   ]
  },
  {
   "cell_type": "code",
   "execution_count": 34,
   "metadata": {},
   "outputs": [],
   "source": [
    "copy = test\n",
    "test = testt"
   ]
  },
  {
   "cell_type": "markdown",
   "metadata": {},
   "source": [
    "# 컬럼추가하기\n",
    "- 브랜드 컬럼\n",
    "- BEFORE /AFTER 컬럼"
   ]
  },
  {
   "cell_type": "code",
   "execution_count": 73,
   "metadata": {},
   "outputs": [
    {
     "name": "stderr",
     "output_type": "stream",
     "text": [
      "C:\\Users\\epopc\\Anaconda3\\lib\\site-packages\\ipykernel_launcher.py:1: SettingWithCopyWarning: \n",
      "A value is trying to be set on a copy of a slice from a DataFrame.\n",
      "Try using .loc[row_indexer,col_indexer] = value instead\n",
      "\n",
      "See the caveats in the documentation: http://pandas.pydata.org/pandas-docs/stable/indexing.html#indexing-view-versus-copy\n",
      "  \"\"\"Entry point for launching an IPython kernel.\n",
      "C:\\Users\\epopc\\Anaconda3\\lib\\site-packages\\ipykernel_launcher.py:2: SettingWithCopyWarning: \n",
      "A value is trying to be set on a copy of a slice from a DataFrame.\n",
      "Try using .loc[row_indexer,col_indexer] = value instead\n",
      "\n",
      "See the caveats in the documentation: http://pandas.pydata.org/pandas-docs/stable/indexing.html#indexing-view-versus-copy\n",
      "  \n",
      "C:\\Users\\epopc\\Anaconda3\\lib\\site-packages\\ipykernel_launcher.py:3: SettingWithCopyWarning: \n",
      "A value is trying to be set on a copy of a slice from a DataFrame.\n",
      "Try using .loc[row_indexer,col_indexer] = value instead\n",
      "\n",
      "See the caveats in the documentation: http://pandas.pydata.org/pandas-docs/stable/indexing.html#indexing-view-versus-copy\n",
      "  This is separate from the ipykernel package so we can avoid doing imports until\n",
      "C:\\Users\\epopc\\Anaconda3\\lib\\site-packages\\ipykernel_launcher.py:4: SettingWithCopyWarning: \n",
      "A value is trying to be set on a copy of a slice from a DataFrame.\n",
      "Try using .loc[row_indexer,col_indexer] = value instead\n",
      "\n",
      "See the caveats in the documentation: http://pandas.pydata.org/pandas-docs/stable/indexing.html#indexing-view-versus-copy\n",
      "  after removing the cwd from sys.path.\n"
     ]
    },
    {
     "data": {
      "text/html": [
       "<div>\n",
       "<style>\n",
       "    .dataframe thead tr:only-child th {\n",
       "        text-align: right;\n",
       "    }\n",
       "\n",
       "    .dataframe thead th {\n",
       "        text-align: left;\n",
       "    }\n",
       "\n",
       "    .dataframe tbody tr th {\n",
       "        vertical-align: top;\n",
       "    }\n",
       "</style>\n",
       "<table border=\"1\" class=\"dataframe\">\n",
       "  <thead>\n",
       "    <tr style=\"text-align: right;\">\n",
       "      <th></th>\n",
       "      <th>EPOPCON_ID</th>\n",
       "      <th>COMPANY_ID</th>\n",
       "      <th>DEAL_DT</th>\n",
       "      <th>PAYMENT</th>\n",
       "      <th>ADDR</th>\n",
       "      <th>CO_NAME</th>\n",
       "      <th>LATITUDE</th>\n",
       "      <th>LONGITUDE</th>\n",
       "      <th>year</th>\n",
       "      <th>month</th>\n",
       "      <th>day</th>\n",
       "      <th>new</th>\n",
       "    </tr>\n",
       "  </thead>\n",
       "  <tbody>\n",
       "    <tr>\n",
       "      <th>0</th>\n",
       "      <td>eppcn15749d61199bd035ee606e16b</td>\n",
       "      <td>44253</td>\n",
       "      <td>2016-05-24 22:04:00</td>\n",
       "      <td>53000</td>\n",
       "      <td>서울 강남구 신사동 523-16</td>\n",
       "      <td>감성타코앤그릴 신사점</td>\n",
       "      <td>37.52061921226647</td>\n",
       "      <td>127.02096807969622</td>\n",
       "      <td>2016</td>\n",
       "      <td>05</td>\n",
       "      <td>24</td>\n",
       "      <td>201605</td>\n",
       "    </tr>\n",
       "    <tr>\n",
       "      <th>1</th>\n",
       "      <td>eppcn15785f04f99bd0319726bb0ae</td>\n",
       "      <td>44253</td>\n",
       "      <td>2016-03-29 20:55:00</td>\n",
       "      <td>54000</td>\n",
       "      <td>서울 강남구 신사동 523-16</td>\n",
       "      <td>감성타코앤그릴 신사점</td>\n",
       "      <td>37.52061921226647</td>\n",
       "      <td>127.02096807969622</td>\n",
       "      <td>2016</td>\n",
       "      <td>03</td>\n",
       "      <td>29</td>\n",
       "      <td>201603</td>\n",
       "    </tr>\n",
       "    <tr>\n",
       "      <th>2</th>\n",
       "      <td>eppcn1577a8ccb99bd034b626731d1</td>\n",
       "      <td>44253</td>\n",
       "      <td>2016-02-17 21:02:00</td>\n",
       "      <td>61000</td>\n",
       "      <td>서울 강남구 신사동 523-16</td>\n",
       "      <td>감성타코앤그릴 신사점</td>\n",
       "      <td>37.52061921226647</td>\n",
       "      <td>127.02096807969622</td>\n",
       "      <td>2016</td>\n",
       "      <td>02</td>\n",
       "      <td>17</td>\n",
       "      <td>201602</td>\n",
       "    </tr>\n",
       "    <tr>\n",
       "      <th>3</th>\n",
       "      <td>eppcn15750159099bd035ee606e56f</td>\n",
       "      <td>44253</td>\n",
       "      <td>2015-09-24 13:17:00</td>\n",
       "      <td>50200</td>\n",
       "      <td>서울 강남구 신사동 523-16</td>\n",
       "      <td>감성타코앤그릴 신사점</td>\n",
       "      <td>37.52061921226647</td>\n",
       "      <td>127.02096807969622</td>\n",
       "      <td>2015</td>\n",
       "      <td>09</td>\n",
       "      <td>24</td>\n",
       "      <td>201509</td>\n",
       "    </tr>\n",
       "    <tr>\n",
       "      <th>4</th>\n",
       "      <td>eppcn15730adfb99bd03267fa61672</td>\n",
       "      <td>44253</td>\n",
       "      <td>2016-05-05 20:40:00</td>\n",
       "      <td>54000</td>\n",
       "      <td>서울 강남구 신사동 523-16</td>\n",
       "      <td>감성타코앤그릴 신사점</td>\n",
       "      <td>37.52061921226647</td>\n",
       "      <td>127.02096807969622</td>\n",
       "      <td>2016</td>\n",
       "      <td>05</td>\n",
       "      <td>5</td>\n",
       "      <td>201605</td>\n",
       "    </tr>\n",
       "  </tbody>\n",
       "</table>\n",
       "</div>"
      ],
      "text/plain": [
       "                       EPOPCON_ID  COMPANY_ID             DEAL_DT PAYMENT  \\\n",
       "0  eppcn15749d61199bd035ee606e16b       44253 2016-05-24 22:04:00   53000   \n",
       "1  eppcn15785f04f99bd0319726bb0ae       44253 2016-03-29 20:55:00   54000   \n",
       "2  eppcn1577a8ccb99bd034b626731d1       44253 2016-02-17 21:02:00   61000   \n",
       "3  eppcn15750159099bd035ee606e56f       44253 2015-09-24 13:17:00   50200   \n",
       "4  eppcn15730adfb99bd03267fa61672       44253 2016-05-05 20:40:00   54000   \n",
       "\n",
       "                ADDR      CO_NAME           LATITUDE           LONGITUDE  \\\n",
       "0  서울 강남구 신사동 523-16  감성타코앤그릴 신사점  37.52061921226647  127.02096807969622   \n",
       "1  서울 강남구 신사동 523-16  감성타코앤그릴 신사점  37.52061921226647  127.02096807969622   \n",
       "2  서울 강남구 신사동 523-16  감성타코앤그릴 신사점  37.52061921226647  127.02096807969622   \n",
       "3  서울 강남구 신사동 523-16  감성타코앤그릴 신사점  37.52061921226647  127.02096807969622   \n",
       "4  서울 강남구 신사동 523-16  감성타코앤그릴 신사점  37.52061921226647  127.02096807969622   \n",
       "\n",
       "   year month  day     new  \n",
       "0  2016    05   24  201605  \n",
       "1  2016    03   29  201603  \n",
       "2  2016    02   17  201602  \n",
       "3  2015    09   24  201509  \n",
       "4  2016    05    5  201605  "
      ]
     },
     "execution_count": 73,
     "metadata": {},
     "output_type": "execute_result"
    }
   ],
   "source": [
    "test[\"year\"] = test[\"DEAL_DT\"].dt.year\n",
    "test[\"month\"] = test[\"DEAL_DT\"].dt.strftime(\"%m\")\n",
    "test[\"day\"] = test[\"DEAL_DT\"].dt.day\n",
    "test['new'] = test['year'].astype(str)+test['month']\n",
    "# test['time'] =test[\"year\"]*10000+str(test[\"month\"])*100+str(test[\"day\"])\n",
    "# del test['time']\n",
    "test.head()\n",
    "# type(test['month'])"
   ]
  },
  {
   "cell_type": "code",
   "execution_count": 74,
   "metadata": {},
   "outputs": [
    {
     "data": {
      "text/html": [
       "<div>\n",
       "<style>\n",
       "    .dataframe thead tr:only-child th {\n",
       "        text-align: right;\n",
       "    }\n",
       "\n",
       "    .dataframe thead th {\n",
       "        text-align: left;\n",
       "    }\n",
       "\n",
       "    .dataframe tbody tr th {\n",
       "        vertical-align: top;\n",
       "    }\n",
       "</style>\n",
       "<table border=\"1\" class=\"dataframe\">\n",
       "  <thead>\n",
       "    <tr style=\"text-align: right;\">\n",
       "      <th></th>\n",
       "      <th>EPOPCON_ID</th>\n",
       "      <th>COMPANY_ID</th>\n",
       "      <th>DEAL_DT</th>\n",
       "      <th>PAYMENT</th>\n",
       "      <th>ADDR</th>\n",
       "      <th>CO_NAME</th>\n",
       "      <th>LATITUDE</th>\n",
       "      <th>LONGITUDE</th>\n",
       "      <th>year</th>\n",
       "      <th>month</th>\n",
       "      <th>day</th>\n",
       "      <th>new</th>\n",
       "    </tr>\n",
       "  </thead>\n",
       "  <tbody>\n",
       "    <tr>\n",
       "      <th>0</th>\n",
       "      <td>eppcn15749d61199bd035ee606e16b</td>\n",
       "      <td>44253</td>\n",
       "      <td>2016-05-24 22:04:00</td>\n",
       "      <td>53000</td>\n",
       "      <td>서울 강남구 신사동 523-16</td>\n",
       "      <td>감성타코앤그릴 신사점</td>\n",
       "      <td>37.52061921226647</td>\n",
       "      <td>127.02096807969622</td>\n",
       "      <td>2016</td>\n",
       "      <td>05</td>\n",
       "      <td>24</td>\n",
       "      <td>201605</td>\n",
       "    </tr>\n",
       "    <tr>\n",
       "      <th>1</th>\n",
       "      <td>eppcn15785f04f99bd0319726bb0ae</td>\n",
       "      <td>44253</td>\n",
       "      <td>2016-03-29 20:55:00</td>\n",
       "      <td>54000</td>\n",
       "      <td>서울 강남구 신사동 523-16</td>\n",
       "      <td>감성타코앤그릴 신사점</td>\n",
       "      <td>37.52061921226647</td>\n",
       "      <td>127.02096807969622</td>\n",
       "      <td>2016</td>\n",
       "      <td>03</td>\n",
       "      <td>29</td>\n",
       "      <td>201603</td>\n",
       "    </tr>\n",
       "    <tr>\n",
       "      <th>2</th>\n",
       "      <td>eppcn1577a8ccb99bd034b626731d1</td>\n",
       "      <td>44253</td>\n",
       "      <td>2016-02-17 21:02:00</td>\n",
       "      <td>61000</td>\n",
       "      <td>서울 강남구 신사동 523-16</td>\n",
       "      <td>감성타코앤그릴 신사점</td>\n",
       "      <td>37.52061921226647</td>\n",
       "      <td>127.02096807969622</td>\n",
       "      <td>2016</td>\n",
       "      <td>02</td>\n",
       "      <td>17</td>\n",
       "      <td>201602</td>\n",
       "    </tr>\n",
       "    <tr>\n",
       "      <th>3</th>\n",
       "      <td>eppcn15750159099bd035ee606e56f</td>\n",
       "      <td>44253</td>\n",
       "      <td>2015-09-24 13:17:00</td>\n",
       "      <td>50200</td>\n",
       "      <td>서울 강남구 신사동 523-16</td>\n",
       "      <td>감성타코앤그릴 신사점</td>\n",
       "      <td>37.52061921226647</td>\n",
       "      <td>127.02096807969622</td>\n",
       "      <td>2015</td>\n",
       "      <td>09</td>\n",
       "      <td>24</td>\n",
       "      <td>201509</td>\n",
       "    </tr>\n",
       "    <tr>\n",
       "      <th>4</th>\n",
       "      <td>eppcn15730adfb99bd03267fa61672</td>\n",
       "      <td>44253</td>\n",
       "      <td>2016-05-05 20:40:00</td>\n",
       "      <td>54000</td>\n",
       "      <td>서울 강남구 신사동 523-16</td>\n",
       "      <td>감성타코앤그릴 신사점</td>\n",
       "      <td>37.52061921226647</td>\n",
       "      <td>127.02096807969622</td>\n",
       "      <td>2016</td>\n",
       "      <td>05</td>\n",
       "      <td>5</td>\n",
       "      <td>201605</td>\n",
       "    </tr>\n",
       "  </tbody>\n",
       "</table>\n",
       "</div>"
      ],
      "text/plain": [
       "                       EPOPCON_ID  COMPANY_ID             DEAL_DT PAYMENT  \\\n",
       "0  eppcn15749d61199bd035ee606e16b       44253 2016-05-24 22:04:00   53000   \n",
       "1  eppcn15785f04f99bd0319726bb0ae       44253 2016-03-29 20:55:00   54000   \n",
       "2  eppcn1577a8ccb99bd034b626731d1       44253 2016-02-17 21:02:00   61000   \n",
       "3  eppcn15750159099bd035ee606e56f       44253 2015-09-24 13:17:00   50200   \n",
       "4  eppcn15730adfb99bd03267fa61672       44253 2016-05-05 20:40:00   54000   \n",
       "\n",
       "                ADDR      CO_NAME           LATITUDE           LONGITUDE  \\\n",
       "0  서울 강남구 신사동 523-16  감성타코앤그릴 신사점  37.52061921226647  127.02096807969622   \n",
       "1  서울 강남구 신사동 523-16  감성타코앤그릴 신사점  37.52061921226647  127.02096807969622   \n",
       "2  서울 강남구 신사동 523-16  감성타코앤그릴 신사점  37.52061921226647  127.02096807969622   \n",
       "3  서울 강남구 신사동 523-16  감성타코앤그릴 신사점  37.52061921226647  127.02096807969622   \n",
       "4  서울 강남구 신사동 523-16  감성타코앤그릴 신사점  37.52061921226647  127.02096807969622   \n",
       "\n",
       "   year month  day     new  \n",
       "0  2016    05   24  201605  \n",
       "1  2016    03   29  201603  \n",
       "2  2016    02   17  201602  \n",
       "3  2015    09   24  201509  \n",
       "4  2016    05    5  201605  "
      ]
     },
     "execution_count": 74,
     "metadata": {},
     "output_type": "execute_result"
    }
   ],
   "source": [
    "# 청년다방|태영생막창|에머이|감성타코\n",
    "# test[\"DEAL_DAY\"] = test[\"DEAL_DT\"].dt.day\n",
    "test1= test[test['CO_NAME'].str.contains('청년다방')]\n",
    "test2= test[test['CO_NAME'].str.contains('태영생막창')]\n",
    "test3= test[test['CO_NAME'].str.contains('에머이')]\n",
    "test4= test[test['CO_NAME'].str.contains('감성타코')]\n",
    "# test1.head()\n",
    "test4.head()"
   ]
  },
  {
   "cell_type": "code",
   "execution_count": 36,
   "metadata": {},
   "outputs": [],
   "source": [
    "%matplotlib inline\n",
    "import seaborn as sns\n",
    "import matplotlib.pyplot as plt"
   ]
  },
  {
   "cell_type": "code",
   "execution_count": 78,
   "metadata": {},
   "outputs": [
    {
     "data": {
      "text/plain": [
       "<matplotlib.axes._subplots.AxesSubplot at 0x1dd6641d400>"
      ]
     },
     "execution_count": 78,
     "metadata": {},
     "output_type": "execute_result"
    },
    {
     "data": {
      "image/png": "[encoded data removed]",
      "text/plain": [
       "<matplotlib.figure.Figure at 0x1dd663e39b0>"
      ]
     },
     "metadata": {},
     "output_type": "display_data"
    }
   ],
   "source": [
    "figure, ax1= plt.subplots(nrows=1, ncols=1)\n",
    "\n",
    "figure.set_size_inches(18, 8)\n",
    "\n",
    "sns.countplot(data=test1, x=\"new\", ax=ax1)\n",
    "# sns.countplot(data=test1, x=\"new\")"
   ]
  },
  {
   "cell_type": "code",
   "execution_count": 79,
   "metadata": {},
   "outputs": [
    {
     "data": {
      "text/plain": [
       "<matplotlib.axes._subplots.AxesSubplot at 0x1dd664983c8>"
      ]
     },
     "execution_count": 79,
     "metadata": {},
     "output_type": "execute_result"
    },
    {
     "data": {
      "image/png": "[encoded data removed]",
      "text/plain": [
       "<matplotlib.figure.Figure at 0x1dd664b7be0>"
      ]
     },
     "metadata": {},
     "output_type": "display_data"
    }
   ],
   "source": [
    "figure, ax1= plt.subplots(nrows=1, ncols=1)\n",
    "\n",
    "figure.set_size_inches(18, 8)\n",
    "\n",
    "sns.countplot(data=test2, x=\"new\", ax=ax1)"
   ]
  },
  {
   "cell_type": "code",
   "execution_count": 80,
   "metadata": {},
   "outputs": [
    {
     "data": {
      "text/plain": [
       "<matplotlib.axes._subplots.AxesSubplot at 0x1dd6655aef0>"
      ]
     },
     "execution_count": 80,
     "metadata": {},
     "output_type": "execute_result"
    },
    {
     "data": {
      "image/png": "[encoded data removed]",
      "text/plain": [
       "<matplotlib.figure.Figure at 0x1dd664f5ba8>"
      ]
     },
     "metadata": {},
     "output_type": "display_data"
    }
   ],
   "source": [
    "figure, ax1= plt.subplots(nrows=1, ncols=1)\n",
    "\n",
    "figure.set_size_inches(18, 8)\n",
    "\n",
    "sns.countplot(data=test3, x=\"new\", ax=ax1)"
   ]
  },
  {
   "cell_type": "code",
   "execution_count": 81,
   "metadata": {},
   "outputs": [
    {
     "data": {
      "text/plain": [
       "<matplotlib.axes._subplots.AxesSubplot at 0x1dd66cfae48>"
      ]
     },
     "execution_count": 81,
     "metadata": {},
     "output_type": "execute_result"
    },
    {
     "data": {
      "image/png": "[encoded data removed]",
      "text/plain": [
       "<matplotlib.figure.Figure at 0x1dd66d0c5c0>"
      ]
     },
     "metadata": {},
     "output_type": "display_data"
    }
   ],
   "source": [
    "figure, ax1= plt.subplots(nrows=1, ncols=1)\n",
    "\n",
    "figure.set_size_inches(18, 8)\n",
    "\n",
    "sns.countplot(data=test4, x=\"new\", ax=ax1)"
   ]
  },
  {
   "cell_type": "raw",
   "metadata": {},
   "source": [
    "test1['explore']= test1[test1['new'].astype(int)<=201605]\n",
    "# test2['explore']= test2[test2['new'].astype(float)<=201512]\n",
    "# test3['explore']= test3[test3['new'].astype(float)<=201604]\n",
    "# test4['explore']= test4[test4['new'].astype(float)<=201603]\n",
    "test1.head()"
   ]
  },
  {
   "cell_type": "code",
   "execution_count": null,
   "metadata": {},
   "outputs": [],
   "source": [
    "test1= test[test['CO_NAME'].str.contains('청년다방')]\n",
    "test2= test[test['CO_NAME'].str.contains('태영생막창')]\n",
    "test3= test[test['CO_NAME'].str.contains('에머이')]\n",
    "test4= test[test['CO_NAME'].str.contains('감성타코')]"
   ]
  },
  {
   "cell_type": "raw",
   "metadata": {},
   "source": [
    "# DF1_before=pd.DataFrame([])\n",
    "# DF2_before=pd.DataFrame([])\n",
    "# DF3_before=pd.DataFrame([])\n",
    "# DF4_before=pd.DataFrame([])\n",
    "\n",
    "# DF1_after=pd.DataFrame([])\n",
    "# DF2_after=pd.DataFrame([])\n",
    "# DF3_after=pd.DataFrame([])\n",
    "# DF4_after=pd.DataFrame([])\n",
    "\n",
    "start_time = datetime.now()\n",
    "\n",
    "\n",
    "conn = pymysql.connect(host='192.168.0.50', user='eums', password='eums00!q', db='eums', charset='utf8')\n",
    "#conn = pymysql.connect(host='133.186.135.21', user='eums', password='eums00!q', db='eums', charset='utf8')\n",
    "curs = conn.cursor(pymysql.cursors.DictCursor)\n",
    "# 1 ~ 115080093 ID\n",
    "curs.execute(\"select EPOPCON_ID, COMPANY_ID,DEAL_DT,CARD_NAME,PAYMENT,REG_DT from MEUMS_COMP_REVISIT_HIS WHERE ID BETWEEN 1 AND 10000000;\")\n",
    "try :\n",
    "    bb = pd.DataFrame(curs.fetchall())\n",
    "    df1 = pd.merge(bb,list1, how='inner', on='COMPANY_ID')\n",
    "    df2 = pd.merge(bb,list2, how='inner', on='COMPANY_ID')\n",
    "    df3 = pd.merge(bb,list3, how='inner', on='COMPANY_ID')\n",
    "    df4 = pd.merge(bb,list4, how='inner', on='COMPANY_ID')\n",
    "except: \n",
    "    print('error')\n",
    "    \n",
    "    \n",
    "DF1_before=DF1_before.append(df1[df1['DEAL_DT']<'2016-07-31 23:59:59'])\n",
    "DF2_before=DF2_before.append(df2[df2['DEAL_DT']<'2016-07-31 23:59:59'])\n",
    "DF3_before=DF3_before.append(df3[df3['DEAL_DT']<'2016-07-31 23:59:59'])\n",
    "DF4_before=DF4_before.append(df4[df4['DEAL_DT']<'2016-07-31 23:59:59'])\n",
    "\n",
    "DF1_after=DF1_after.append(df1[df1['DEAL_DT']>='2016-07-01 00:00:00'])\n",
    "DF2_after=DF2_after.append(df2[df2['DEAL_DT']>='2016-07-01 00:00:00'])\n",
    "DF3_after=DF3_after.append(df3[df3['DEAL_DT']>='2016-07-01 00:00:00'])\n",
    "DF4_after=DF4_after.append(df3[df3['DEAL_DT']>='2016-07-01 00:00:00'])\n",
    "\n",
    "conn.close()\n",
    "\n",
    "print(DF1_before.shape,DF2_before.shape,DF3_before.shape,DF4_before.shape)\n",
    "print(DF1_after.shape,DF2_after.shape,DF3_after.shape,DF4_after.shape)\n",
    "datetime.now()-start_time\n"
   ]
  },
  {
   "cell_type": "code",
   "execution_count": 53,
   "metadata": {},
   "outputs": [],
   "source": [
    "import pandas as pd\n",
    "import pymysql\n",
    "import webbrowser\n",
    "import random\n",
    "import pickle\n",
    "import os\n",
    "from matplotlib import font_manager, rc\n",
    "import pylab as plot\n",
    "import matplotlib.pyplot as plt\n",
    "from datetime import datetime\n",
    "from datetime import timedelta\n",
    "from pandas import ExcelWriter\n",
    "import winsound\n",
    "import math\n",
    "import locale\n",
    "#import feather\n",
    "from multiprocessing import Pool\n",
    "from multiprocessing import Process\n",
    "from functools import partial\n",
    "\n",
    "def get_revisit_id_range():\n",
    "    conn = pymysql.connect(host='133.186.135.21', user='eums', password='eums00!q', db='eums', charset='utf8')\n",
    "#     conn = pymysql.connect(host='133.186.135.222', port=13306, user='eums', password='eums00!q', db='eums-business', charset='utf8')\n",
    "    curs = conn.cursor(pymysql.cursors.DictCursor)\n",
    "\n",
    "    queryString = \"select MIN(ID) as MIN_ID, MAX(ID) as MAX_ID from MEUMS_COMP_REVISIT_HIS;\" \n",
    "\n",
    "    curs.execute(queryString)\n",
    "    p = pd.DataFrame( curs.fetchall() )\n",
    "    \n",
    "    conn.close()\n",
    "    return p.MIN_ID[0], p.MAX_ID[0]\n",
    "\n",
    "def get_revisit_cj(id_list, comp_id_list):\n",
    "    conn = pymysql.connect(host='133.186.135.21', user='eums', password='eums00!q', db='eums', charset='utf8')\n",
    "#     conn = pymysql.connect(host='133.186.135.222', port=13306, user='eums', password='eums00!q', db='eums-business', charset='utf8')\n",
    "    curs = conn.cursor(pymysql.cursors.DictCursor)\n",
    "\n",
    "    t1 = datetime.now()\n",
    "    #queryString = \"select * from MEUMS_COMP_REVISIT_HIS where ID in ({}) and COMPANY_ID in ({});\".format(','.join(str(i) for i in id_list), ','.join(str(i) for i in comp_id_list))\n",
    "    queryString = \"select * from MEUMS_COMP_REVISIT_HIS where ID in ({});\".format(','.join(str(i) for i in id_list))\n",
    "    #print(queryString)\n",
    "    curs.execute(queryString)\n",
    "\n",
    "    try:\n",
    "        p = pd.DataFrame( curs.fetchall() )\n",
    "        p = p[p.COMPANY_ID.isin(comp_id_list)]\n",
    "        print(datetime.now()-t1, len(p), min(id_list), max(id_list))\n",
    "    except:\n",
    "        print(datetime.now()-t1, len(p), min(id_list), max(id_list))\n",
    "        p = pd.DataFrame([])\n",
    "\n",
    "    conn.close()\n",
    "    return p\n",
    "\n",
    "def task_revisit(id_list, company_id_list):\n",
    "    dfRevisit = get_revisit_cj(id_list, company_id_list)\n",
    "    return dfRevisit\n",
    "\n",
    "\n",
    "def dump_revisit(company_id_list):\n",
    "    chunk_size = 200000\n",
    "    min_id, max_id = get_revisit_id_range()\n",
    "    print(min_id, max_id)\n",
    "    id_list = (range(min_id, max_id+1))\n",
    "    split_list = [ id_list[x : x+chunk_size] for x in range(0, len(id_list), chunk_size) ]\n",
    "\n",
    "    with Pool(processes=20) as pool:\n",
    "        result_list = pool.map(partial(task_revisit, company_id_list=company_id_list), split_list  ) # for operation\n",
    "\n",
    "    df = pd.concat(result_list)\n",
    "    pickle.dump(df, open('REVISIT_HIS.DF', 'wb'))\n",
    "    return df"
   ]
  },
  {
   "cell_type": "code",
   "execution_count": null,
   "metadata": {},
   "outputs": [
    {
     "name": "stdout",
     "output_type": "stream",
     "text": [
      "1 115093994\n"
     ]
    }
   ],
   "source": [
    "df = dump_revisit(List)"
   ]
  },
  {
   "cell_type": "code",
   "execution_count": null,
   "metadata": {},
   "outputs": [],
   "source": [
    "type(List)\n",
    "len(List)"
   ]
  }
 ],
 "metadata": {
  "kernelspec": {
   "display_name": "Python 3",
   "language": "python",
   "name": "python3"
  },
  "language_info": {
   "codemirror_mode": {
    "name": "ipython",
    "version": 3
   },
   "file_extension": ".py",
   "mimetype": "text/x-python",
   "name": "python",
   "nbconvert_exporter": "python",
   "pygments_lexer": "ipython3",
   "version": "3.6.3"
  }
 },
 "nbformat": 4,
 "nbformat_minor": 2
}
