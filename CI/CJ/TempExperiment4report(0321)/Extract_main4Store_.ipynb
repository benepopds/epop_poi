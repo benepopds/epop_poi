{
 "cells": [
  {
   "cell_type": "markdown",
   "metadata": {},
   "source": [
    "# 외식 150건 이상 , 2017년 이전 4개상점 방문자 id"
   ]
  },
  {
   "cell_type": "code",
   "execution_count": 1,
   "metadata": {},
   "outputs": [
    {
     "name": "stdout",
     "output_type": "stream",
     "text": [
      "(939766, 3)\n",
      "(217846, 3)\n"
     ]
    },
    {
     "data": {
      "text/html": [
       "<div>\n",
       "<style>\n",
       "    .dataframe thead tr:only-child th {\n",
       "        text-align: right;\n",
       "    }\n",
       "\n",
       "    .dataframe thead th {\n",
       "        text-align: left;\n",
       "    }\n",
       "\n",
       "    .dataframe tbody tr th {\n",
       "        vertical-align: top;\n",
       "    }\n",
       "</style>\n",
       "<table border=\"1\" class=\"dataframe\">\n",
       "  <thead>\n",
       "    <tr style=\"text-align: right;\">\n",
       "      <th></th>\n",
       "      <th>name</th>\n",
       "      <th>branch</th>\n",
       "    </tr>\n",
       "  </thead>\n",
       "  <tbody>\n",
       "    <tr>\n",
       "      <th>2</th>\n",
       "      <td>(북면)한식전문점</td>\n",
       "      <td>None</td>\n",
       "    </tr>\n",
       "    <tr>\n",
       "      <th>9</th>\n",
       "      <td>(서백자)명인간장게장(삼성점)</td>\n",
       "      <td>None</td>\n",
       "    </tr>\n",
       "    <tr>\n",
       "      <th>14</th>\n",
       "      <td>돈까스클럽</td>\n",
       "      <td>전주서신점</td>\n",
       "    </tr>\n",
       "    <tr>\n",
       "      <th>15</th>\n",
       "      <td>베지나랑</td>\n",
       "      <td>본점</td>\n",
       "    </tr>\n",
       "    <tr>\n",
       "      <th>32</th>\n",
       "      <td>KT문화재단</td>\n",
       "      <td>고양점</td>\n",
       "    </tr>\n",
       "  </tbody>\n",
       "</table>\n",
       "</div>"
      ],
      "text/plain": [
       "                name branch\n",
       "2          (북면)한식전문점   None\n",
       "9   (서백자)명인간장게장(삼성점)   None\n",
       "14             돈까스클럽  전주서신점\n",
       "15              베지나랑     본점\n",
       "32            KT문화재단    고양점"
      ]
     },
     "execution_count": 1,
     "metadata": {},
     "output_type": "execute_result"
    }
   ],
   "source": [
    "import pymysql, pandas as pd\n",
    "\n",
    "conn = pymysql.connect(host='133.186.143.151', port=13306, user='eums', password='eums00!q', db='eums-shared', charset='utf8')\n",
    "curs = conn.cursor(pymysql.cursors.DictCursor)\n",
    "curs.execute(\"select ID AS COMPANY_ID, CO_NAME, ADDR,SIDO,SIGUNGU,DONG FROM MEUMS_COMPANY WHERE CATE_CODE = 'C12';\")\n",
    "restaurant = pd.DataFrame( curs.fetchall() )[['COMPANY_ID','CO_NAME','ADDR']]\n",
    "conn.close()\n",
    "print(restaurant.shape)\n",
    "restaurant.head()\n",
    "\n",
    "rstt= restaurant[restaurant['CO_NAME'].str.contains('점')]\n",
    "print(rstt.shape)\n",
    "rstt.head()\n",
    "\n",
    "rstt['CO_NAME'].str.split(' ', expand=True).loc[:,0:1].head()\n",
    "temp = rstt['CO_NAME'].str.split(' ', expand=True).loc[:,0:1]\n",
    "rstt_coName= pd.DataFrame([])\n",
    "rstt_coName['name'] = temp.loc[:,0]\n",
    "rstt_coName['branch'] = temp.loc[:,1]\n",
    "rstt_coName.head()"
   ]
  },
  {
   "cell_type": "code",
   "execution_count": null,
   "metadata": {},
   "outputs": [],
   "source": [
    "rstt_count = pd.DataFrame(rstt_coName['name'].value_counts())\n",
    "print(rstt_count.shape)\n",
    "rstt_count.head()\n",
    "\n",
    "#지점이 7개이상 1000개 이하인 상점\n",
    "# 1000개이상은 롯데리아, BBQ처럼 오래전부터 외식최강기업 : 너무 유명한 곳 제거(불필요한 데이터를 상당부분 차지하기 때문) \n",
    "temp = rstt_count[(rstt_count['name']<800)&(rstt_count['name']>6)]\n",
    "temp.shape#.shape #3364\n",
    "temp=temp.reset_index()\n",
    "temp.head()\n",
    "rstt['name'] = rstt['CO_NAME'].str.split(' ', expand=True).loc[:,0]\n",
    "rstt.head()\n",
    "\n",
    "rstt_temp = pd.merge(rstt,temp,how='inner',left_on='name',right_on='index')\n",
    "del rstt_temp['index']\n",
    "print(rstt_temp.shape)\n",
    "rstt_temp = rstt_temp.sort_values(by=['name_x','COMPANY_ID'])[['name_x','COMPANY_ID','CO_NAME','ADDR','name_y']]\n",
    "rstt_temp.head()"
   ]
  },
  {
   "cell_type": "markdown",
   "metadata": {},
   "source": [
    "1-1) 150건 이상 user_뽑기"
   ]
  },
  {
   "cell_type": "code",
   "execution_count": null,
   "metadata": {},
   "outputs": [],
   "source": [
    "for i in range(0,len(rlist)):\n",
    "    aa= rstt_temp[rstt_temp['name_x']==rlist[i]]['COMPANY_ID'].tolist()\n",
    "    #conn = pymysql.connect(host='133.186.135.21', user='eums', password='eums00!q', db='eums', charset='utf8')\n",
    "    conn = pymysql.connect(host='192.168.0.50', user='eums', password='eums00!q', db='eums', charset='utf8')\n",
    "    curs = conn.cursor(pymysql.cursors.DictCursor)\n",
    "    curs.execute(\"select sum(PAYMENT) as Q1 from MEUMS_COMP_REVISIT_HIS WHERE COMPANY_ID IN \"+str(tuple(aa))+\" AND deal_dt between '2016-01-01 00:00:00' and '2016-03-31 23:59:59';\")\n",
    "    p1 = pd.DataFrame( curs.fetchall() )\n",
    "   \n",
    "    conn.close()\n",
    "   \n",
    "    rstt_sales=rstt_sales.append(bb)\n",
    "rstt_sales"
   ]
  },
  {
   "cell_type": "code",
   "execution_count": null,
   "metadata": {},
   "outputs": [],
   "source": []
  },
  {
   "cell_type": "markdown",
   "metadata": {},
   "source": [
    "1-2) 주요상점 company_id 뽑기"
   ]
  },
  {
   "cell_type": "code",
   "execution_count": null,
   "metadata": {},
   "outputs": [],
   "source": [
    "temp = rstt_temp[rstt_temp['CO_NAME'].str.contains('감성타코|걸작떡볶이')]#청년다방|에머이|감성타코|걸작떡볶이\n",
    "print(temp.shape)\n",
    "temp.head()"
   ]
  }
 ],
 "metadata": {
  "kernelspec": {
   "display_name": "Python 3",
   "language": "python",
   "name": "python3"
  },
  "language_info": {
   "codemirror_mode": {
    "name": "ipython",
    "version": 3
   },
   "file_extension": ".py",
   "mimetype": "text/x-python",
   "name": "python",
   "nbconvert_exporter": "python",
   "pygments_lexer": "ipython3",
   "version": "3.6.3"
  }
 },
 "nbformat": 4,
 "nbformat_minor": 2
}
