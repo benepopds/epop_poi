{
 "cells": [
  {
   "cell_type": "code",
   "execution_count": 3,
   "metadata": {
    "collapsed": true
   },
   "outputs": [
    {
     "data": {
      "text/plain": [
       "'C:\\\\Users\\\\epopc\\\\Desktop\\\\Python_project'"
      ]
     },
     "execution_count": 3,
     "metadata": {},
     "output_type": "execute_result"
    }
   ],
   "source": [
    "import xml.etree.cElementTree as et\n",
    "import pandas as pd\n",
    "import os\n",
    "os.getcwd()"
   ]
  },
  {
   "cell_type": "code",
   "execution_count": null,
   "metadata": {
    "collapsed": false
   },
   "outputs": [],
   "source": [
    "parsed_xml = et.parse(\"hana3.xml\")\n",
    "parsed_xml"
   ]
  },
  {
   "cell_type": "code",
   "execution_count": 10,
   "metadata": {
    "collapsed": true
   },
   "outputs": [],
   "source": []
  },
  {
   "cell_type": "code",
   "execution_count": 1,
   "metadata": {},
   "outputs": [
    {
     "ename": "UnicodeDecodeError",
     "evalue": "'cp949' codec can't decode byte 0xec in position 329: illegal multibyte sequence",
     "output_type": "error",
     "traceback": [
      "\u001b[1;31m---------------------------------------------------------------------------\u001b[0m",
      "\u001b[1;31mUnicodeDecodeError\u001b[0m                        Traceback (most recent call last)",
      "\u001b[1;32m<ipython-input-1-0d868f1cb2bf>\u001b[0m in \u001b[0;36m<module>\u001b[1;34m()\u001b[0m\n\u001b[0;32m      1\u001b[0m \u001b[1;32mimport\u001b[0m \u001b[0mxml\u001b[0m\u001b[1;33m.\u001b[0m\u001b[0mparsers\u001b[0m\u001b[1;33m.\u001b[0m\u001b[0mexpat\u001b[0m\u001b[1;33m\u001b[0m\u001b[0m\n\u001b[0;32m      2\u001b[0m \u001b[0mparser\u001b[0m \u001b[1;33m=\u001b[0m \u001b[0mxml\u001b[0m\u001b[1;33m.\u001b[0m\u001b[0mparsers\u001b[0m\u001b[1;33m.\u001b[0m\u001b[0mexpat\u001b[0m\u001b[1;33m.\u001b[0m\u001b[0mParserCreate\u001b[0m\u001b[1;33m(\u001b[0m\u001b[1;33m)\u001b[0m\u001b[1;33m\u001b[0m\u001b[0m\n\u001b[1;32m----> 3\u001b[1;33m \u001b[0mparsed_xml\u001b[0m\u001b[1;33m=\u001b[0m\u001b[0mparser\u001b[0m\u001b[1;33m.\u001b[0m\u001b[0mParseFile\u001b[0m\u001b[1;33m(\u001b[0m\u001b[0mopen\u001b[0m\u001b[1;33m(\u001b[0m\u001b[1;34m'hana3.xml'\u001b[0m\u001b[1;33m,\u001b[0m \u001b[1;34m'r'\u001b[0m\u001b[1;33m)\u001b[0m\u001b[1;33m)\u001b[0m\u001b[1;33m\u001b[0m\u001b[0m\n\u001b[0m",
      "\u001b[1;31mUnicodeDecodeError\u001b[0m: 'cp949' codec can't decode byte 0xec in position 329: illegal multibyte sequence"
     ]
    }
   ],
   "source": [
    "import xml.parsers.expat\n",
    "parser = xml.parsers.expat.ParserCreate()\n",
    "parsed_xml=parser.ParseFile(open('hana3.xml', 'r'))"
   ]
  },
  {
   "cell_type": "code",
   "execution_count": null,
   "metadata": {},
   "outputs": [],
   "source": []
  },
  {
   "cell_type": "code",
   "execution_count": null,
   "metadata": {},
   "outputs": [],
   "source": []
  },
  {
   "cell_type": "code",
   "execution_count": 47,
   "metadata": {
    "collapsed": false
   },
   "outputs": [],
   "source": [
    "def getvalueofnode(node):\n",
    "    \"\"\" return node text or None \"\"\"\n",
    "    return node.text if node is not None else None\n",
    "\n",
    "def main():\n",
    "    \"\"\" main \"\"\"\n",
    "    parsed_xml = et.parse(\"hana3.xml\")\n",
    "    dfcols = ['epopcon_id', 'company_id', 'cnt', 'sum','card_name','lat','long']\n",
    "    df_xml = pd.DataFrame(columns=dfcols)\n",
    " \n",
    "    for node in parsed_xml.getroot():\n",
    "        epopcon_id = node[0].text\n",
    "        company_id = node[1].text\n",
    "        cnt = node[2].text \n",
    "        sums = node[3].text  \n",
    "        card_name = node[4].text\n",
    "        lat = node[5].text\n",
    "        long = node[6].text\n",
    "        co_name = node[7].text\n",
    "        cate = node[8].text\n",
    "        cate1 = node[9].text\n",
    "        addr = node[10].text\n",
    "        df_xml = df_xml.append(\n",
    "            pd.Series([epopcon_id,company_id,cnt,sums,card_name,lat,long], index=dfcols),\n",
    "            ignore_index=True)\n",
    "    return df_xml\n",
    "#     print(df_xml)"
   ]
  },
  {
   "cell_type": "code",
   "execution_count": 49,
   "metadata": {
    "collapsed": false
   },
   "outputs": [
    {
     "name": "stdout",
     "output_type": "stream",
     "text": [
      "(5, 7)\n"
     ]
    },
    {
     "data": {
      "text/html": [
       "<div>\n",
       "<table border=\"1\" class=\"dataframe\">\n",
       "  <thead>\n",
       "    <tr style=\"text-align: right;\">\n",
       "      <th></th>\n",
       "      <th>epopcon_id</th>\n",
       "      <th>company_id</th>\n",
       "      <th>cnt</th>\n",
       "      <th>sum</th>\n",
       "      <th>card_name</th>\n",
       "      <th>lat</th>\n",
       "      <th>long</th>\n",
       "    </tr>\n",
       "  </thead>\n",
       "  <tbody>\n",
       "    <tr>\n",
       "      <th>0</th>\n",
       "      <td>cjcis15a0c273a71e42706814f6329</td>\n",
       "      <td>518821</td>\n",
       "      <td>1</td>\n",
       "      <td>15400</td>\n",
       "      <td>삼성카드</td>\n",
       "      <td>37.6064064</td>\n",
       "      <td>127.0404099</td>\n",
       "    </tr>\n",
       "    <tr>\n",
       "      <th>1</th>\n",
       "      <td>cjcis15a0c273a71e42706814f6329</td>\n",
       "      <td>5299175</td>\n",
       "      <td>1</td>\n",
       "      <td>33300</td>\n",
       "      <td>삼성카드</td>\n",
       "      <td>37.6064064</td>\n",
       "      <td>127.0404099</td>\n",
       "    </tr>\n",
       "    <tr>\n",
       "      <th>2</th>\n",
       "      <td>cjcis15a0e888b71e42719f785db8b</td>\n",
       "      <td>23981</td>\n",
       "      <td>2</td>\n",
       "      <td>15000</td>\n",
       "      <td>기업BC</td>\n",
       "      <td>37.4960912</td>\n",
       "      <td>127.0183798</td>\n",
       "    </tr>\n",
       "    <tr>\n",
       "      <th>3</th>\n",
       "      <td>cjcis15a0e888b71e42719f785db8b</td>\n",
       "      <td>24149</td>\n",
       "      <td>1</td>\n",
       "      <td>32580</td>\n",
       "      <td>기업BC</td>\n",
       "      <td>37.4960912</td>\n",
       "      <td>127.0183798</td>\n",
       "    </tr>\n",
       "    <tr>\n",
       "      <th>4</th>\n",
       "      <td>cjcis15a0e888b71e42719f785db8b</td>\n",
       "      <td>25716</td>\n",
       "      <td>1</td>\n",
       "      <td>17000</td>\n",
       "      <td>기업BC</td>\n",
       "      <td>37.4960912</td>\n",
       "      <td>127.0183798</td>\n",
       "    </tr>\n",
       "  </tbody>\n",
       "</table>\n",
       "</div>"
      ],
      "text/plain": [
       "                       epopcon_id company_id cnt    sum card_name         lat  \\\n",
       "0  cjcis15a0c273a71e42706814f6329     518821   1  15400      삼성카드  37.6064064   \n",
       "1  cjcis15a0c273a71e42706814f6329    5299175   1  33300      삼성카드  37.6064064   \n",
       "2  cjcis15a0e888b71e42719f785db8b      23981   2  15000      기업BC  37.4960912   \n",
       "3  cjcis15a0e888b71e42719f785db8b      24149   1  32580      기업BC  37.4960912   \n",
       "4  cjcis15a0e888b71e42719f785db8b      25716   1  17000      기업BC  37.4960912   \n",
       "\n",
       "          long  \n",
       "0  127.0404099  \n",
       "1  127.0404099  \n",
       "2  127.0183798  \n",
       "3  127.0183798  \n",
       "4  127.0183798  "
      ]
     },
     "execution_count": 49,
     "metadata": {},
     "output_type": "execute_result"
    }
   ],
   "source": [
    "df=main()\n",
    "print(df.shape)\n",
    "df.head()\n",
    "#     epopcon_id = node.attrib.get('epopcon_id')\n",
    "#     company_id = node.attrib.get('company_id')\n",
    "#     cnt = node.attrib.get('cnt')    \n",
    "#     sums = node.attrib.get('sums')    \n",
    "#     card_name = node.attrib.get('card_name')\n",
    "#     lat = node.attrib.get('lat')\n",
    "#     long = node.attrib.get('long')"
   ]
  },
  {
   "cell_type": "raw",
   "metadata": {},
   "source": [
    "for row in parsed_xml.getroot(): #resultset\n",
    "    print(row)\n",
    "    print(row[0].text)\n",
    "    print(row[1].text)\n",
    "    print(row[2].text)\n",
    "    print(row[3].text)\n",
    "    print(row[4].text)\n",
    "    print(row[5].text)\n",
    "    print(row[6].text)\n",
    "\n",
    "    \n",
    "#     for field in row:\n",
    "#         print(field.text)\n",
    "       \n",
    "            \n"
   ]
  }
 ],
 "metadata": {
  "kernelspec": {
   "display_name": "Python 3",
   "language": "python",
   "name": "python3"
  },
  "language_info": {
   "codemirror_mode": {
    "name": "ipython",
    "version": 3
   },
   "file_extension": ".py",
   "mimetype": "text/x-python",
   "name": "python",
   "nbconvert_exporter": "python",
   "pygments_lexer": "ipython3",
   "version": "3.6.3"
  }
 },
 "nbformat": 4,
 "nbformat_minor": 2
}
