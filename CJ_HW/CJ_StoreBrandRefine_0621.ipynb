{
 "cells": [
  {
   "cell_type": "code",
   "execution_count": 1,
   "metadata": {
    "collapsed": true
   },
   "outputs": [],
   "source": [
    "from sqlalchemy import create_engine\n",
    "import pymysql, pandas as pd\n",
    "pymysql.install_as_MySQLdb()\n",
    "import MySQLdb,pyarrow"
   ]
  },
  {
   "cell_type": "markdown",
   "metadata": {},
   "source": [
    "### COMPANY INFO  - 우선순위 1번째"
   ]
  },
  {
   "cell_type": "code",
   "execution_count": 2,
   "metadata": {},
   "outputs": [
    {
     "name": "stdout",
     "output_type": "stream",
     "text": [
      "(458268, 5)\n"
     ]
    }
   ],
   "source": [
    "company=pd.read_pickle('data/company_true.pick')\n",
    "print(company.shape)"
   ]
  },
  {
   "cell_type": "markdown",
   "metadata": {},
   "source": [
    "### Brand data - 우선순위 2번째"
   ]
  },
  {
   "cell_type": "code",
   "execution_count": 5,
   "metadata": {},
   "outputs": [
    {
     "data": {
      "text/html": [
       "<div>\n",
       "<style>\n",
       "    .dataframe thead tr:only-child th {\n",
       "        text-align: right;\n",
       "    }\n",
       "\n",
       "    .dataframe thead th {\n",
       "        text-align: left;\n",
       "    }\n",
       "\n",
       "    .dataframe tbody tr th {\n",
       "        vertical-align: top;\n",
       "    }\n",
       "</style>\n",
       "<table border=\"1\" class=\"dataframe\">\n",
       "  <thead>\n",
       "    <tr style=\"text-align: right;\">\n",
       "      <th></th>\n",
       "      <th>코드그룹</th>\n",
       "      <th>코드그룹명</th>\n",
       "      <th>코드</th>\n",
       "      <th>코드명</th>\n",
       "      <th>동의어</th>\n",
       "      <th>불용어</th>\n",
       "    </tr>\n",
       "  </thead>\n",
       "  <tbody>\n",
       "    <tr>\n",
       "      <th>0</th>\n",
       "      <td>1</td>\n",
       "      <td>영화</td>\n",
       "      <td>0</td>\n",
       "      <td>CGV</td>\n",
       "      <td>^CGV[^점]</td>\n",
       "      <td>투썸|스타벅스|이디야|엔제리너스|커피|카페|할리스|파스쿠찌|탐앤탐</td>\n",
       "    </tr>\n",
       "    <tr>\n",
       "      <th>1</th>\n",
       "      <td>1</td>\n",
       "      <td>영화</td>\n",
       "      <td>1</td>\n",
       "      <td>롯데시네마</td>\n",
       "      <td>롯데시네마[^점]</td>\n",
       "      <td>투썸|스타벅스|이디야|엔제리너스|커피|카페|할리스|파스쿠찌|탐앤탐|망고|갈릭|브레드...</td>\n",
       "    </tr>\n",
       "    <tr>\n",
       "      <th>2</th>\n",
       "      <td>1</td>\n",
       "      <td>영화</td>\n",
       "      <td>2</td>\n",
       "      <td>메가박스</td>\n",
       "      <td>메가박스[^점]|megabox</td>\n",
       "      <td>투썸|스타벅스|이디야|엔제리너스|커피|카페|할리스|파스쿠찌|탐앤탐|pc|피씨|올리브영</td>\n",
       "    </tr>\n",
       "    <tr>\n",
       "      <th>3</th>\n",
       "      <td>1</td>\n",
       "      <td>영화</td>\n",
       "      <td>999</td>\n",
       "      <td>영화기타</td>\n",
       "      <td>^(이봄씨어터|씨네드쉐프|시네마파크|아트시네마|아트나인|상상마당시네마|산마을극장|필...</td>\n",
       "      <td>{null}</td>\n",
       "    </tr>\n",
       "  </tbody>\n",
       "</table>\n",
       "</div>"
      ],
      "text/plain": [
       "    코드그룹 코드그룹명   코드    코드명                                                동의어  \\\n",
       "0      1    영화    0    CGV                                           ^CGV[^점]   \n",
       "1      1    영화    1  롯데시네마                                          롯데시네마[^점]   \n",
       "2      1    영화    2   메가박스                                   메가박스[^점]|megabox   \n",
       "3      1    영화  999   영화기타  ^(이봄씨어터|씨네드쉐프|시네마파크|아트시네마|아트나인|상상마당시네마|산마을극장|필...   \n",
       "\n",
       "                                                 불용어  \n",
       "0               투썸|스타벅스|이디야|엔제리너스|커피|카페|할리스|파스쿠찌|탐앤탐  \n",
       "1  투썸|스타벅스|이디야|엔제리너스|커피|카페|할리스|파스쿠찌|탐앤탐|망고|갈릭|브레드...  \n",
       "2    투썸|스타벅스|이디야|엔제리너스|커피|카페|할리스|파스쿠찌|탐앤탐|pc|피씨|올리브영  \n",
       "3                                             {null}  "
      ]
     },
     "execution_count": 5,
     "metadata": {},
     "output_type": "execute_result"
    }
   ],
   "source": [
    "brandCode = pd.read_excel('BRANDCODE.xlsx')\n",
    "brandCode = brandCode.fillna('{null}')\n",
    "brandCode.head(4)"
   ]
  },
  {
   "cell_type": "code",
   "execution_count": 22,
   "metadata": {},
   "outputs": [
    {
     "name": "stderr",
     "output_type": "stream",
     "text": [
      "C:\\Users\\epopc\\Anaconda3\\lib\\site-packages\\ipykernel_launcher.py:12: UserWarning: This pattern has match groups. To actually get the groups, use str.extract.\n",
      "  if sys.path[0] == '':\n"
     ]
    }
   ],
   "source": [
    "def lowerNospace(row):\n",
    "    import re\n",
    "    return re.sub(r'\\s','',row.lower())\n",
    "\n",
    "test = company[['COMPANY_ID','CO_NAME','CATE','CATE1']]\n",
    "test = test.assign(CO_NAME = test.CO_NAME.apply(lowerNospace))\n",
    "\n",
    "\n",
    "for index, obj in brandCode.iterrows():\n",
    "    value = lowerNospace(obj['동의어'])\n",
    "    if obj['불용어'] =='{null}': \n",
    "        test.loc[test.CO_NAME.str.contains(value),'BRAND']=  obj['코드명']\n",
    "#         test[obj['코드명']]= test.CO_NAME.str.contains(value).astype(int)\n",
    "    else:\n",
    "        test.loc[~test.CO_NAME.str.contains(obj['불용어'])&test.CO_NAME.str.contains(value),'BRAND']=  obj['코드명']\n",
    "#         test[obj['코드명']]= (~test.CO_NAME.str.contains(obj['불용어'])&test.CO_NAME.str.contains(value)).astype(int)\n",
    "\n",
    "\n",
    "# 675개\n",
    "test.loc[(test['BRAND'].isnull())&(test['CATE1']==\"화장품\"),'BRAND']='뷰티기타'\n",
    "#22744\n",
    "test.loc[(test['BRAND'].isnull())&(test['CATE1']==\"카페\"),'BRAND']='커피기타'"
   ]
  },
  {
   "cell_type": "code",
   "execution_count": 23,
   "metadata": {},
   "outputs": [
    {
     "data": {
      "text/plain": [
       "(34189, 5)"
      ]
     },
     "execution_count": 23,
     "metadata": {},
     "output_type": "execute_result"
    }
   ],
   "source": [
    "test[~test['BRAND'].isnull()].shape"
   ]
  },
  {
   "cell_type": "code",
   "execution_count": 24,
   "metadata": {},
   "outputs": [
    {
     "data": {
      "text/plain": [
       "(23612, 5)"
      ]
     },
     "execution_count": 24,
     "metadata": {},
     "output_type": "execute_result"
    }
   ],
   "source": [
    "test[test['BRAND'].isin(['뷰티기타','커피기타'])].shape"
   ]
  },
  {
   "cell_type": "code",
   "execution_count": 33,
   "metadata": {},
   "outputs": [
    {
     "name": "stdout",
     "output_type": "stream",
     "text": [
      "(23620, 5)\n"
     ]
    },
    {
     "data": {
      "text/html": [
       "<div>\n",
       "<style>\n",
       "    .dataframe thead tr:only-child th {\n",
       "        text-align: right;\n",
       "    }\n",
       "\n",
       "    .dataframe thead th {\n",
       "        text-align: left;\n",
       "    }\n",
       "\n",
       "    .dataframe tbody tr th {\n",
       "        vertical-align: top;\n",
       "    }\n",
       "</style>\n",
       "<table border=\"1\" class=\"dataframe\">\n",
       "  <thead>\n",
       "    <tr style=\"text-align: right;\">\n",
       "      <th></th>\n",
       "      <th>COMPANY_ID</th>\n",
       "      <th>CO_NAME</th>\n",
       "      <th>CATE</th>\n",
       "      <th>CATE1</th>\n",
       "      <th>BRAND</th>\n",
       "    </tr>\n",
       "  </thead>\n",
       "  <tbody>\n",
       "    <tr>\n",
       "      <th>56</th>\n",
       "      <td>3088</td>\n",
       "      <td>다경</td>\n",
       "      <td>카페/디저트</td>\n",
       "      <td>카페</td>\n",
       "      <td>커피기타</td>\n",
       "    </tr>\n",
       "    <tr>\n",
       "      <th>77</th>\n",
       "      <td>3788</td>\n",
       "      <td>동빙고</td>\n",
       "      <td>카페/디저트</td>\n",
       "      <td>카페</td>\n",
       "      <td>커피기타</td>\n",
       "    </tr>\n",
       "    <tr>\n",
       "      <th>184</th>\n",
       "      <td>7236</td>\n",
       "      <td>아모제푸드</td>\n",
       "      <td>카페/디저트</td>\n",
       "      <td>카페</td>\n",
       "      <td>커피기타</td>\n",
       "    </tr>\n",
       "    <tr>\n",
       "      <th>293</th>\n",
       "      <td>10454</td>\n",
       "      <td>르돌치일구사육(주)</td>\n",
       "      <td>카페/디저트</td>\n",
       "      <td>카페</td>\n",
       "      <td>커피기타</td>\n",
       "    </tr>\n",
       "    <tr>\n",
       "      <th>435</th>\n",
       "      <td>14951</td>\n",
       "      <td>1940나한정역커피가게</td>\n",
       "      <td>카페/디저트</td>\n",
       "      <td>카페</td>\n",
       "      <td>커피기타</td>\n",
       "    </tr>\n",
       "  </tbody>\n",
       "</table>\n",
       "</div>"
      ],
      "text/plain": [
       "     COMPANY_ID       CO_NAME    CATE CATE1 BRAND\n",
       "56         3088            다경  카페/디저트    카페  커피기타\n",
       "77         3788           동빙고  카페/디저트    카페  커피기타\n",
       "184        7236         아모제푸드  카페/디저트    카페  커피기타\n",
       "293       10454    르돌치일구사육(주)  카페/디저트    카페  커피기타\n",
       "435       14951  1940나한정역커피가게  카페/디저트    카페  커피기타"
      ]
     },
     "execution_count": 33,
     "metadata": {},
     "output_type": "execute_result"
    }
   ],
   "source": [
    "test=test.fillna('na')#[test['BRAND'].str.contains('기타')].head()\n",
    "print(test[test['BRAND'].str.contains('기타')].shape)\n",
    "test[test['BRAND'].str.contains('기타')].head()"
   ]
  },
  {
   "cell_type": "code",
   "execution_count": 35,
   "metadata": {
    "collapsed": true
   },
   "outputs": [],
   "source": [
    "test.to_pickle('data/company_true.pick')"
   ]
  }
 ],
 "metadata": {
  "kernelspec": {
   "display_name": "Python 3",
   "language": "python",
   "name": "python3"
  },
  "language_info": {
   "codemirror_mode": {
    "name": "ipython",
    "version": 3
   },
   "file_extension": ".py",
   "mimetype": "text/x-python",
   "name": "python",
   "nbconvert_exporter": "python",
   "pygments_lexer": "ipython3",
   "version": "3.6.3"
  }
 },
 "nbformat": 4,
 "nbformat_minor": 2
}
