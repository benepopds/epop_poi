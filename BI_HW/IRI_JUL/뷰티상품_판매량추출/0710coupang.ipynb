{
 "cells": [
  {
   "cell_type": "code",
   "execution_count": 1,
   "metadata": {},
   "outputs": [],
   "source": [
    "from joblib import Parallel, delayed\n",
    "import joblib, pandas as pd\n",
    "import numpy as np, gc\n",
    "from SK import *"
   ]
  },
  {
   "cell_type": "code",
   "execution_count": 6,
   "metadata": {},
   "outputs": [],
   "source": [
    "# COU = pd.read_pickle(\"data/COUPANG.pickle\")\n",
    "COU = pd.read_pickle(\"data/GSS_STOCK.pk\")\n",
    "\n",
    "COU_LIST =np.random.permutation(COU.ITEM_ID.unique())\n",
    "n = COU.ITEM_ID.nunique()\n",
    "cs = n // 100\n",
    "chunk = (n // cs) + 1\n",
    "COU_dict = {i:COU[COU.ITEM_ID.isin(COU_LIST[cs*i:cs*(i+1)])] for i in range(chunk)}"
   ]
  },
  {
   "cell_type": "code",
   "execution_count": 7,
   "metadata": {},
   "outputs": [
    {
     "name": "stdout",
     "output_type": "stream",
     "text": [
      "(765853, 5)\n"
     ]
    },
    {
     "data": {
      "text/html": [
       "<div>\n",
       "<style scoped>\n",
       "    .dataframe tbody tr th:only-of-type {\n",
       "        vertical-align: middle;\n",
       "    }\n",
       "\n",
       "    .dataframe tbody tr th {\n",
       "        vertical-align: top;\n",
       "    }\n",
       "\n",
       "    .dataframe thead th {\n",
       "        text-align: right;\n",
       "    }\n",
       "</style>\n",
       "<table border=\"1\" class=\"dataframe\">\n",
       "  <thead>\n",
       "    <tr style=\"text-align: right;\">\n",
       "      <th></th>\n",
       "      <th>ITEM_ID</th>\n",
       "      <th>STOCK_ID</th>\n",
       "      <th>STOCK_AMOUNT</th>\n",
       "      <th>COLLECT_DAY</th>\n",
       "      <th>REG_DT</th>\n",
       "    </tr>\n",
       "  </thead>\n",
       "  <tbody>\n",
       "    <tr>\n",
       "      <th>0</th>\n",
       "      <td>1806022</td>\n",
       "      <td>13062930</td>\n",
       "      <td>986</td>\n",
       "      <td>20180601</td>\n",
       "      <td>2018-06-01 05:40:11</td>\n",
       "    </tr>\n",
       "  </tbody>\n",
       "</table>\n",
       "</div>"
      ],
      "text/plain": [
       "   ITEM_ID  STOCK_ID  STOCK_AMOUNT COLLECT_DAY              REG_DT\n",
       "0  1806022  13062930           986    20180601 2018-06-01 05:40:11"
      ]
     },
     "execution_count": 7,
     "metadata": {},
     "output_type": "execute_result"
    }
   ],
   "source": [
    "print(COU.shape);COU.head(1)"
   ]
  },
  {
   "cell_type": "code",
   "execution_count": 8,
   "metadata": {},
   "outputs": [
    {
     "name": "stdout",
     "output_type": "stream",
     "text": [
      "Wall time: 8min 6s\n"
     ]
    }
   ],
   "source": [
    "%%time\n",
    "gc.collect()\n",
    "par_res = Parallel(n_jobs=-1)(joblib.delayed(apply_model)(value) for key,value in COU_dict.items()) #COU_dict.get(key)=value\n",
    "res = pd.concat([par_res[i] for i in range(len(par_res))])\n",
    "res.to_pickle('data/res_gsshop.pic')"
   ]
  },
  {
   "cell_type": "raw",
   "metadata": {},
   "source": [
    "for key,item in COU_dict.items():\n",
    "    print(item.shape)"
   ]
  },
  {
   "cell_type": "code",
   "execution_count": 17,
   "metadata": {},
   "outputs": [
    {
     "data": {
      "text/plain": [
       "(744116, 9)"
      ]
     },
     "execution_count": 17,
     "metadata": {},
     "output_type": "execute_result"
    }
   ],
   "source": [
    "res[res.duplicated('STOCK_ID')].shape\n",
    "# COU.duplicated('STOCK_ID')"
   ]
  },
  {
   "cell_type": "code",
   "execution_count": 29,
   "metadata": {},
   "outputs": [
    {
     "name": "stdout",
     "output_type": "stream",
     "text": [
      "(10346, 2)\n"
     ]
    },
    {
     "data": {
      "text/plain": [
       "(3731, 2)"
      ]
     },
     "execution_count": 29,
     "metadata": {},
     "output_type": "execute_result"
    }
   ],
   "source": [
    "res[res['ITEM_ID']==1044720].shape#[['STOCK_ID','SELL_AMMOUNT','COLLECT_DAY']]\n",
    "## GROUPBY ROW COUNT = SELL_AMOUNT 가 0인 ROW의 COUNT\n",
    "\n",
    "GSS_SELL=res.groupby(\"ITEM_ID\").SELL_AMOUNT.sum().reset_index()\n",
    "print(GSS_SELL.shape)\n",
    "GSS_SELL[GSS_SELL.SELL_AMOUNT>0].shape\n",
    "# OLI_FINAL = OLI_SELL.merge(OLI_ITEM, on=\"ITEM_ID\").merge(MLF, on=\"ITEM_NUM\")\n",
    "# OLI_FINAL[\"SELL\"] = OLI_FINAL.SELL_AMOUNT * OLI_FINAL.NORMAL_PRICE_SITE"
   ]
  },
  {
   "cell_type": "code",
   "execution_count": 76,
   "metadata": {},
   "outputs": [
    {
     "data": {
      "text/html": [
       "<div>\n",
       "<style scoped>\n",
       "    .dataframe tbody tr th:only-of-type {\n",
       "        vertical-align: middle;\n",
       "    }\n",
       "\n",
       "    .dataframe tbody tr th {\n",
       "        vertical-align: top;\n",
       "    }\n",
       "\n",
       "    .dataframe thead th {\n",
       "        text-align: right;\n",
       "    }\n",
       "</style>\n",
       "<table border=\"1\" class=\"dataframe\">\n",
       "  <thead>\n",
       "    <tr style=\"text-align: right;\">\n",
       "      <th></th>\n",
       "      <th>ITEM_ID</th>\n",
       "      <th>SELL_AMOUNT</th>\n",
       "    </tr>\n",
       "  </thead>\n",
       "  <tbody>\n",
       "    <tr>\n",
       "      <th>71</th>\n",
       "      <td>845160</td>\n",
       "      <td>85.0</td>\n",
       "    </tr>\n",
       "    <tr>\n",
       "      <th>72</th>\n",
       "      <td>846364</td>\n",
       "      <td>46.0</td>\n",
       "    </tr>\n",
       "    <tr>\n",
       "      <th>92</th>\n",
       "      <td>1806329</td>\n",
       "      <td>37.0</td>\n",
       "    </tr>\n",
       "    <tr>\n",
       "      <th>93</th>\n",
       "      <td>1806500</td>\n",
       "      <td>19.0</td>\n",
       "    </tr>\n",
       "    <tr>\n",
       "      <th>94</th>\n",
       "      <td>1806690</td>\n",
       "      <td>14.0</td>\n",
       "    </tr>\n",
       "    <tr>\n",
       "      <th>98</th>\n",
       "      <td>1807560</td>\n",
       "      <td>41.0</td>\n",
       "    </tr>\n",
       "    <tr>\n",
       "      <th>100</th>\n",
       "      <td>1807901</td>\n",
       "      <td>53.0</td>\n",
       "    </tr>\n",
       "    <tr>\n",
       "      <th>103</th>\n",
       "      <td>1808110</td>\n",
       "      <td>32.0</td>\n",
       "    </tr>\n",
       "    <tr>\n",
       "      <th>107</th>\n",
       "      <td>1808581</td>\n",
       "      <td>14.0</td>\n",
       "    </tr>\n",
       "    <tr>\n",
       "      <th>115</th>\n",
       "      <td>1809164</td>\n",
       "      <td>16.0</td>\n",
       "    </tr>\n",
       "  </tbody>\n",
       "</table>\n",
       "</div>"
      ],
      "text/plain": [
       "     ITEM_ID  SELL_AMOUNT\n",
       "71    845160         85.0\n",
       "72    846364         46.0\n",
       "92   1806329         37.0\n",
       "93   1806500         19.0\n",
       "94   1806690         14.0\n",
       "98   1807560         41.0\n",
       "100  1807901         53.0\n",
       "103  1808110         32.0\n",
       "107  1808581         14.0\n",
       "115  1809164         16.0"
      ]
     },
     "execution_count": 76,
     "metadata": {},
     "output_type": "execute_result"
    }
   ],
   "source": [
    "GSS_SELL[GSS_SELL.SELL_AMOUNT>10].head(10)"
   ]
  },
  {
   "cell_type": "code",
   "execution_count": 41,
   "metadata": {},
   "outputs": [
    {
     "data": {
      "text/html": [
       "<div>\n",
       "<style scoped>\n",
       "    .dataframe tbody tr th:only-of-type {\n",
       "        vertical-align: middle;\n",
       "    }\n",
       "\n",
       "    .dataframe tbody tr th {\n",
       "        vertical-align: top;\n",
       "    }\n",
       "\n",
       "    .dataframe thead th {\n",
       "        text-align: right;\n",
       "    }\n",
       "</style>\n",
       "<table border=\"1\" class=\"dataframe\">\n",
       "  <thead>\n",
       "    <tr style=\"text-align: right;\">\n",
       "      <th></th>\n",
       "      <th>SELL_AMOUNT</th>\n",
       "      <th>STOCK_AMOUNT</th>\n",
       "      <th>REVISE_STOCK_AMOUNT</th>\n",
       "      <th>STOCK_ID</th>\n",
       "      <th>ITEM_ID</th>\n",
       "      <th>UPT_DT</th>\n",
       "      <th>COLLECT_DAY</th>\n",
       "      <th>UPT_ID</th>\n",
       "      <th>REG_DT</th>\n",
       "    </tr>\n",
       "  </thead>\n",
       "  <tbody>\n",
       "    <tr>\n",
       "      <th>30</th>\n",
       "      <td>0</td>\n",
       "      <td>10188</td>\n",
       "      <td>10188</td>\n",
       "      <td>13062930</td>\n",
       "      <td>2726884</td>\n",
       "      <td>2018-07-11 11:00:50</td>\n",
       "      <td>2018-06-01</td>\n",
       "      <td>FILTER ALGO</td>\n",
       "      <td>2018-06-01</td>\n",
       "    </tr>\n",
       "  </tbody>\n",
       "</table>\n",
       "</div>"
      ],
      "text/plain": [
       "   SELL_AMOUNT STOCK_AMOUNT REVISE_STOCK_AMOUNT  STOCK_ID  ITEM_ID  \\\n",
       "30           0        10188               10188  13062930  2726884   \n",
       "\n",
       "                UPT_DT COLLECT_DAY       UPT_ID     REG_DT  \n",
       "30 2018-07-11 11:00:50  2018-06-01  FILTER ALGO 2018-06-01  "
      ]
     },
     "execution_count": 41,
     "metadata": {},
     "output_type": "execute_result"
    }
   ],
   "source": [
    "pos_res = res[res.ITEM_ID.isin(GSS_SELL[GSS_SELL.SELL_AMOUNT>0].ITEM_ID)]\n",
    "pos_res.head(1)"
   ]
  },
  {
   "cell_type": "code",
   "execution_count": 70,
   "metadata": {},
   "outputs": [
    {
     "data": {
      "text/html": [
       "<div>\n",
       "<style scoped>\n",
       "    .dataframe tbody tr th:only-of-type {\n",
       "        vertical-align: middle;\n",
       "    }\n",
       "\n",
       "    .dataframe tbody tr th {\n",
       "        vertical-align: top;\n",
       "    }\n",
       "\n",
       "    .dataframe thead th {\n",
       "        text-align: right;\n",
       "    }\n",
       "</style>\n",
       "<table border=\"1\" class=\"dataframe\">\n",
       "  <thead>\n",
       "    <tr style=\"text-align: right;\">\n",
       "      <th></th>\n",
       "      <th>SELL_AMOUNT</th>\n",
       "      <th>STOCK_AMOUNT</th>\n",
       "      <th>REVISE_STOCK_AMOUNT</th>\n",
       "      <th>STOCK_ID</th>\n",
       "      <th>ITEM_ID</th>\n",
       "      <th>UPT_DT</th>\n",
       "      <th>COLLECT_DAY</th>\n",
       "      <th>UPT_ID</th>\n",
       "      <th>REG_DT</th>\n",
       "    </tr>\n",
       "  </thead>\n",
       "  <tbody>\n",
       "    <tr>\n",
       "      <th>30</th>\n",
       "      <td>0</td>\n",
       "      <td>10188</td>\n",
       "      <td>10188</td>\n",
       "      <td>13062930</td>\n",
       "      <td>2726884</td>\n",
       "      <td>2018-07-11 11:00:50</td>\n",
       "      <td>2018-06-01</td>\n",
       "      <td>FILTER ALGO</td>\n",
       "      <td>2018-06-01</td>\n",
       "    </tr>\n",
       "  </tbody>\n",
       "</table>\n",
       "</div>"
      ],
      "text/plain": [
       "   SELL_AMOUNT STOCK_AMOUNT REVISE_STOCK_AMOUNT  STOCK_ID  ITEM_ID  \\\n",
       "30           0        10188               10188  13062930  2726884   \n",
       "\n",
       "                UPT_DT COLLECT_DAY       UPT_ID     REG_DT  \n",
       "30 2018-07-11 11:00:50  2018-06-01  FILTER ALGO 2018-06-01  "
      ]
     },
     "execution_count": 70,
     "metadata": {},
     "output_type": "execute_result"
    }
   ],
   "source": [
    "pos_res[(pos_res.STOCK_ID=='13062930')&(pos_res.ITEM_ID==2726884)].sort_values(by=['COLLECT_DAY'])[0:1]"
   ]
  },
  {
   "cell_type": "code",
   "execution_count": 71,
   "metadata": {},
   "outputs": [
    {
     "data": {
      "text/plain": [
       "30   2018-06-01\n",
       "31   2018-06-02\n",
       "32   2018-06-03\n",
       "33   2018-06-04\n",
       "34   2018-06-05\n",
       "35   2018-06-06\n",
       "36   2018-06-07\n",
       "37   2018-06-08\n",
       "38   2018-06-09\n",
       "39   2018-06-10\n",
       "Name: COLLECT_DAY, dtype: datetime64[ns]"
      ]
     },
     "execution_count": 71,
     "metadata": {},
     "output_type": "execute_result"
    }
   ],
   "source": [
    "pos_res[(pos_res.STOCK_ID=='13062930')&(pos_res.ITEM_ID==2726884)].sort_values(by=['COLLECT_DAY']).COLLECT_DAY[0:10]\n",
    "# pos_res[pos_res.STOCK_ID=='13062930'].sort_values(by=['COLLECT_DAY']).SELL_AMOUNT[0:2]"
   ]
  },
  {
   "cell_type": "code",
   "execution_count": 79,
   "metadata": {},
   "outputs": [
    {
     "data": {
      "image/png": "[encoded data removed]",
      "text/plain": [
       "<matplotlib.figure.Figure at 0x2096ec32eb8>"
      ]
     },
     "metadata": {},
     "output_type": "display_data"
    },
    {
     "data": {
      "text/plain": [
       "<matplotlib.figure.Figure at 0x2096ec329b0>"
      ]
     },
     "metadata": {},
     "output_type": "display_data"
    }
   ],
   "source": [
    "import matplotlib.pyplot as plt\n",
    "plt.plot(\n",
    "    \n",
    "    pos_res[(pos_res.STOCK_ID=='13062930')&(pos_res.ITEM_ID==1807901)].sort_values(by=['COLLECT_DAY']).COLLECT_DAY,\n",
    "    pos_res[(pos_res.STOCK_ID=='13062930')&(pos_res.ITEM_ID==1807901)].sort_values(by=['COLLECT_DAY']).SELL_AMOUNT,\n",
    "#     pos_res[(pos_res.STOCK_ID=='13062930')&(pos_res.ITEM_ID==2726884)].sort_values(by=['COLLECT_DAY']).COLLECT_DAY,\n",
    "#     pos_res[(pos_res.STOCK_ID=='13062930')&(pos_res.ITEM_ID==2726884)].sort_values(by=['COLLECT_DAY']).SELL_AMOUNT,\n",
    "    'r.-')\n",
    "plt.ylabel('SELL_AMOUNT')\n",
    "plt.figure(figsize=(20,20))\n",
    "plt.show()"
   ]
  },
  {
   "cell_type": "code",
   "execution_count": 80,
   "metadata": {},
   "outputs": [
    {
     "data": {
      "text/html": [
       "<div>\n",
       "<style scoped>\n",
       "    .dataframe tbody tr th:only-of-type {\n",
       "        vertical-align: middle;\n",
       "    }\n",
       "\n",
       "    .dataframe tbody tr th {\n",
       "        vertical-align: top;\n",
       "    }\n",
       "\n",
       "    .dataframe thead th {\n",
       "        text-align: right;\n",
       "    }\n",
       "</style>\n",
       "<table border=\"1\" class=\"dataframe\">\n",
       "  <thead>\n",
       "    <tr style=\"text-align: right;\">\n",
       "      <th></th>\n",
       "      <th>SELL_AMOUNT</th>\n",
       "      <th>STOCK_AMOUNT</th>\n",
       "      <th>REVISE_STOCK_AMOUNT</th>\n",
       "      <th>STOCK_ID</th>\n",
       "      <th>ITEM_ID</th>\n",
       "      <th>UPT_DT</th>\n",
       "      <th>COLLECT_DAY</th>\n",
       "      <th>UPT_ID</th>\n",
       "      <th>REG_DT</th>\n",
       "    </tr>\n",
       "  </thead>\n",
       "  <tbody>\n",
       "  </tbody>\n",
       "</table>\n",
       "</div>"
      ],
      "text/plain": [
       "Empty DataFrame\n",
       "Columns: [SELL_AMOUNT, STOCK_AMOUNT, REVISE_STOCK_AMOUNT, STOCK_ID, ITEM_ID, UPT_DT, COLLECT_DAY, UPT_ID, REG_DT]\n",
       "Index: []"
      ]
     },
     "execution_count": 80,
     "metadata": {},
     "output_type": "execute_result"
    }
   ],
   "source": [
    "pos_res[(pos_res.STOCK_ID=='13062930')&(pos_res.ITEM_ID==1807901)&(pos_res.SELL_AMOUNT==np.nan)]"
   ]
  }
 ],
 "metadata": {
  "kernelspec": {
   "display_name": "Python 3",
   "language": "python",
   "name": "python3"
  },
  "language_info": {
   "codemirror_mode": {
    "name": "ipython",
    "version": 3
   },
   "file_extension": ".py",
   "mimetype": "text/x-python",
   "name": "python",
   "nbconvert_exporter": "python",
   "pygments_lexer": "ipython3",
   "version": "3.6.3"
  }
 },
 "nbformat": 4,
 "nbformat_minor": 2
}
