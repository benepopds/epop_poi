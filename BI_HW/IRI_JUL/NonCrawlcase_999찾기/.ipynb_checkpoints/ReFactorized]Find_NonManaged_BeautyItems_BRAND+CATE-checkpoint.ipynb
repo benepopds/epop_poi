{
 "cells": [
  {
   "cell_type": "markdown",
   "metadata": {},
   "source": [
    "### Inventory of stock items, not managed for a month."
   ]
  },
  {
   "cell_type": "code",
   "execution_count": 1,
   "metadata": {},
   "outputs": [],
   "source": [
    "import pandas as pd"
   ]
  },
  {
   "cell_type": "code",
   "execution_count": 3,
   "metadata": {},
   "outputs": [],
   "source": [
    "gsshop=pd.read_pickle('../data/GSS0713.pk')\n",
    "olive=pd.read_pickle('../data/OLI0713.pk')\n",
    "hmall=pd.read_pickle('../data/HMA0713.pk')"
   ]
  },
  {
   "cell_type": "markdown",
   "metadata": {},
   "source": [
    "### SELL_AMOUNT == 0 찾기\n",
    "### STOCK_AMOUNT == 9999 찾기"
   ]
  },
  {
   "cell_type": "code",
   "execution_count": 4,
   "metadata": {},
   "outputs": [],
   "source": [
    "def sell_0_and_stock_999(data):\n",
    "    Q_SALES = data.groupby('ITEM_ID').SELL_AMOUNT.sum().reset_index()\n",
    "    Q_SALES_ZERO = Q_SALES[Q_SALES.SELL_AMOUNT==0]\n",
    "    print('Q_SALES: ',Q_SALES.shape,'Q_SALES_ZERO: ',Q_SALES_ZERO.shape)\n",
    "    \n",
    "    DATA_ZERO = \\\n",
    "    data[data.ITEM_ID.isin(Q_SALES_ZERO.ITEM_ID\n",
    "                          )][['ITEM_ID','STOCK_ID','SELL_AMOUNT','STOCK_AMOUNT','COLLECT_DAY','BRAND','CATE_NAMES']]\n",
    "\n",
    "\n",
    "    DATA_ZERO.loc[DATA_ZERO['STOCK_AMOUNT'].isna(),'STOCK_AMOUNT']=0\n",
    "    a = DATA_ZERO.groupby('ITEM_ID').STOCK_AMOUNT.nunique()\n",
    "    DATA_ZERO=DATA_ZERO[DATA_ZERO.ITEM_ID.isin(a[a==1].reset_index().ITEM_ID.tolist())]\n",
    "    DATA_ZERO['STOCK_AMOUNT'] = DATA_ZERO['STOCK_AMOUNT'].astype('int')\n",
    "    DATA_ZERO['STOCK_AMOUNT'] = DATA_ZERO['STOCK_AMOUNT'].astype('str')\n",
    "    DATA_ZERO_VALUE_999 = DATA_ZERO[DATA_ZERO.STOCK_AMOUNT.str.contains('^99+$')]\n",
    "    print('DATA_ZERO: ',DATA_ZERO.shape,'DATA_ZERO_VALUE_999: ',DATA_ZERO_VALUE_999.shape) \n",
    "    print('DATA_ZERO_VALUE_999 : %d'%DATA_ZERO_VALUE_999.ITEM_ID.nunique())\n",
    "    return DATA_ZERO_VALUE_999"
   ]
  },
  {
   "cell_type": "code",
   "execution_count": 5,
   "metadata": {},
   "outputs": [],
   "source": [
    "def get_brand_cate_ivt(data,site):#'GSSHOP'\n",
    "    IVT_SITE = data.groupby(['CATE_NAMES','BRAND']).ITEM_ID.nunique().reset_index().pivot(\n",
    "    index='CATE_NAMES',columns='BRAND',values='ITEM_ID')\n",
    "    IVT_SITE['SITE_NAME']= site \n",
    "    print('IVT_%s : '%site, IVT_SITE.shape)\n",
    "    return IVT_SITE\n",
    "def get_brand(DATA_ZERO_VALUE_999,site):#'GSSHOP'\n",
    "    DATA_ZERO_VALUE_999_pivot= \\\n",
    "    DATA_ZERO_VALUE_999.groupby(['CATE_NAMES','BRAND']).ITEM_ID.nunique().reset_index().pivot(\n",
    "    index='CATE_NAMES',columns='BRAND',values='ITEM_ID')\n",
    "    DATA_ZERO_VALUE_999_pivot=DATA_ZERO_VALUE_999_pivot.fillna(0)\n",
    "    DATA_ZERO_VALUE_999_pivot['SITE_NAME']=site\n",
    "    DATA_SITE = DATA_ZERO_VALUE_999_pivot\n",
    "    print('DATA_%s : '%site, DATA_SITE.shape)\n",
    "    return DATA_SITE\n",
    "    "
   ]
  },
  {
   "cell_type": "markdown",
   "metadata": {},
   "source": [
    "# [ALL] Inventory by Brand & CATE"
   ]
  },
  {
   "cell_type": "code",
   "execution_count": 6,
   "metadata": {},
   "outputs": [
    {
     "name": "stdout",
     "output_type": "stream",
     "text": [
      "Q_SALES:  (49614, 2) Q_SALES_ZERO:  (28626, 2)\n",
      "DATA_ZERO:  (7208, 7) DATA_ZERO_VALUE_999:  (984, 7)\n",
      "DATA_ZERO_VALUE_999 : 692\n",
      "Q_SALES:  (35133, 2) Q_SALES_ZERO:  (21913, 2)\n",
      "DATA_ZERO:  (78170, 7) DATA_ZERO_VALUE_999:  (16895, 7)\n",
      "DATA_ZERO_VALUE_999 : 780\n",
      "Q_SALES:  (7334, 2) Q_SALES_ZERO:  (666, 2)\n",
      "DATA_ZERO:  (10048, 7) DATA_ZERO_VALUE_999:  (87, 7)\n",
      "DATA_ZERO_VALUE_999 : 1\n",
      "IVT_GSSHOP :  (28, 6)\n",
      "IVT_HMALL :  (28, 6)\n",
      "IVT_OLIVE :  (28, 6)\n",
      "DATA_GSSHOP :  (26, 6)\n",
      "DATA_HMALL :  (26, 6)\n",
      "DATA_OLIVE :  (1, 2)\n"
     ]
    }
   ],
   "source": [
    "# gsshop=pd.read_pickle('data/GSS_SELL.pk')\n",
    "# olive=pd.read_pickle('data/OLI_SELL.pk')\n",
    "# hmall=pd.read_pickle('data/HMA_SELL.pk')\n",
    "\n",
    "GSSHOP= sell_0_and_stock_999(gsshop)\n",
    "HMALL= sell_0_and_stock_999(hmall)\n",
    "OLIVE= sell_0_and_stock_999(olive)\n",
    "\n",
    "IVT_GS=get_brand_cate_ivt(gsshop,'GSSHOP')\n",
    "IVT_HML=get_brand_cate_ivt(hmall,'HMALL')\n",
    "IVT_OLI=get_brand_cate_ivt(olive,'OLIVE')\n",
    "\n",
    "DATA_GS=get_brand(GSSHOP,'GSSHOP')\n",
    "DATA_HML=get_brand(HMALL,'HMALL')\n",
    "DATA_OLI=get_brand(OLIVE,'OLIVE')"
   ]
  },
  {
   "cell_type": "code",
   "execution_count": 7,
   "metadata": {},
   "outputs": [
    {
     "data": {
      "text/html": [
       "<div>\n",
       "<style scoped>\n",
       "    .dataframe tbody tr th:only-of-type {\n",
       "        vertical-align: middle;\n",
       "    }\n",
       "\n",
       "    .dataframe tbody tr th {\n",
       "        vertical-align: top;\n",
       "    }\n",
       "\n",
       "    .dataframe thead th {\n",
       "        text-align: right;\n",
       "    }\n",
       "</style>\n",
       "<table border=\"1\" class=\"dataframe\">\n",
       "  <thead>\n",
       "    <tr style=\"text-align: right;\">\n",
       "      <th>BRAND</th>\n",
       "      <th>AP</th>\n",
       "      <th>LG</th>\n",
       "      <th>LOREAL</th>\n",
       "      <th>LVMH</th>\n",
       "      <th>init</th>\n",
       "      <th>SITE_NAME</th>\n",
       "    </tr>\n",
       "    <tr>\n",
       "      <th>CATE_NAMES</th>\n",
       "      <th></th>\n",
       "      <th></th>\n",
       "      <th></th>\n",
       "      <th></th>\n",
       "      <th></th>\n",
       "      <th></th>\n",
       "    </tr>\n",
       "  </thead>\n",
       "  <tbody>\n",
       "    <tr>\n",
       "      <th>기획세트&gt;기획세트</th>\n",
       "      <td>4.0</td>\n",
       "      <td>27.0</td>\n",
       "      <td>14.0</td>\n",
       "      <td>NaN</td>\n",
       "      <td>113.0</td>\n",
       "      <td>OLIVE</td>\n",
       "    </tr>\n",
       "    <tr>\n",
       "      <th>메이크업&gt;기타</th>\n",
       "      <td>NaN</td>\n",
       "      <td>NaN</td>\n",
       "      <td>NaN</td>\n",
       "      <td>1.0</td>\n",
       "      <td>19.0</td>\n",
       "      <td>OLIVE</td>\n",
       "    </tr>\n",
       "    <tr>\n",
       "      <th>메이크업&gt;네일</th>\n",
       "      <td>NaN</td>\n",
       "      <td>1.0</td>\n",
       "      <td>NaN</td>\n",
       "      <td>NaN</td>\n",
       "      <td>417.0</td>\n",
       "      <td>OLIVE</td>\n",
       "    </tr>\n",
       "  </tbody>\n",
       "</table>\n",
       "</div>"
      ],
      "text/plain": [
       "BRAND        AP    LG  LOREAL  LVMH   init SITE_NAME\n",
       "CATE_NAMES                                          \n",
       "기획세트>기획세트   4.0  27.0    14.0   NaN  113.0     OLIVE\n",
       "메이크업>기타     NaN   NaN     NaN   1.0   19.0     OLIVE\n",
       "메이크업>네일     NaN   1.0     NaN   NaN  417.0     OLIVE"
      ]
     },
     "execution_count": 7,
     "metadata": {},
     "output_type": "execute_result"
    }
   ],
   "source": [
    "IVT_OLI.head(3)"
   ]
  },
  {
   "cell_type": "code",
   "execution_count": 8,
   "metadata": {},
   "outputs": [
    {
     "name": "stdout",
     "output_type": "stream",
     "text": [
      "(84, 5)\n"
     ]
    },
    {
     "data": {
      "text/html": [
       "<div>\n",
       "<style scoped>\n",
       "    .dataframe tbody tr th:only-of-type {\n",
       "        vertical-align: middle;\n",
       "    }\n",
       "\n",
       "    .dataframe tbody tr th {\n",
       "        vertical-align: top;\n",
       "    }\n",
       "\n",
       "    .dataframe thead th {\n",
       "        text-align: right;\n",
       "    }\n",
       "</style>\n",
       "<table border=\"1\" class=\"dataframe\">\n",
       "  <thead>\n",
       "    <tr style=\"text-align: right;\">\n",
       "      <th>BRAND</th>\n",
       "      <th>SITE_NAME</th>\n",
       "      <th>AP</th>\n",
       "      <th>LG</th>\n",
       "      <th>LOREAL</th>\n",
       "      <th>LVMH</th>\n",
       "    </tr>\n",
       "    <tr>\n",
       "      <th>CATE_NAMES</th>\n",
       "      <th></th>\n",
       "      <th></th>\n",
       "      <th></th>\n",
       "      <th></th>\n",
       "      <th></th>\n",
       "    </tr>\n",
       "  </thead>\n",
       "  <tbody>\n",
       "    <tr>\n",
       "      <th>기획세트&gt;기획세트</th>\n",
       "      <td>GSSHOP</td>\n",
       "      <td>201.0</td>\n",
       "      <td>243.0</td>\n",
       "      <td>67.0</td>\n",
       "      <td>6.0</td>\n",
       "    </tr>\n",
       "    <tr>\n",
       "      <th>기획세트&gt;기획세트</th>\n",
       "      <td>HMALL</td>\n",
       "      <td>47.0</td>\n",
       "      <td>154.0</td>\n",
       "      <td>23.0</td>\n",
       "      <td>4.0</td>\n",
       "    </tr>\n",
       "  </tbody>\n",
       "</table>\n",
       "</div>"
      ],
      "text/plain": [
       "BRAND      SITE_NAME     AP     LG  LOREAL  LVMH\n",
       "CATE_NAMES                                      \n",
       "기획세트>기획세트     GSSHOP  201.0  243.0    67.0   6.0\n",
       "기획세트>기획세트      HMALL   47.0  154.0    23.0   4.0"
      ]
     },
     "execution_count": 8,
     "metadata": {},
     "output_type": "execute_result"
    }
   ],
   "source": [
    "TOTAL_IVT = pd.concat([\n",
    "    IVT_GS.reset_index(),\n",
    "    IVT_HML.reset_index(),\n",
    "    IVT_OLI.reset_index()\n",
    "])[['CATE_NAMES','SITE_NAME','AP','LG','LOREAL','LVMH']]\n",
    "TOTAL_IVT=TOTAL_IVT.fillna(0)\n",
    "TOTAL_IVT.sort_values(by=['CATE_NAMES','SITE_NAME']).set_index('CATE_NAMES').to_csv('countAll.csv')\n",
    "print(TOTAL_IVT.sort_values(by=['CATE_NAMES','SITE_NAME']).set_index('CATE_NAMES').shape)\n",
    "TOTAL_IVT.sort_values(by=['CATE_NAMES','SITE_NAME']).set_index('CATE_NAMES').head(2)"
   ]
  },
  {
   "cell_type": "markdown",
   "metadata": {},
   "source": [
    "# [999case] Inventory by Brand & CATE"
   ]
  },
  {
   "cell_type": "code",
   "execution_count": 9,
   "metadata": {},
   "outputs": [
    {
     "data": {
      "text/html": [
       "<div>\n",
       "<style scoped>\n",
       "    .dataframe tbody tr th:only-of-type {\n",
       "        vertical-align: middle;\n",
       "    }\n",
       "\n",
       "    .dataframe tbody tr th {\n",
       "        vertical-align: top;\n",
       "    }\n",
       "\n",
       "    .dataframe thead th {\n",
       "        text-align: right;\n",
       "    }\n",
       "</style>\n",
       "<table border=\"1\" class=\"dataframe\">\n",
       "  <thead>\n",
       "    <tr style=\"text-align: right;\">\n",
       "      <th>BRAND</th>\n",
       "      <th>init</th>\n",
       "      <th>SITE_NAME</th>\n",
       "    </tr>\n",
       "    <tr>\n",
       "      <th>CATE_NAMES</th>\n",
       "      <th></th>\n",
       "      <th></th>\n",
       "    </tr>\n",
       "  </thead>\n",
       "  <tbody>\n",
       "    <tr>\n",
       "      <th>스킨케어&gt;마스크/팩</th>\n",
       "      <td>1</td>\n",
       "      <td>OLIVE</td>\n",
       "    </tr>\n",
       "  </tbody>\n",
       "</table>\n",
       "</div>"
      ],
      "text/plain": [
       "BRAND       init SITE_NAME\n",
       "CATE_NAMES                \n",
       "스킨케어>마스크/팩     1     OLIVE"
      ]
     },
     "execution_count": 9,
     "metadata": {},
     "output_type": "execute_result"
    }
   ],
   "source": [
    "DATA_OLI.head(1)"
   ]
  },
  {
   "cell_type": "code",
   "execution_count": 12,
   "metadata": {},
   "outputs": [
    {
     "name": "stdout",
     "output_type": "stream",
     "text": [
      "(26, 5)\n"
     ]
    },
    {
     "name": "stderr",
     "output_type": "stream",
     "text": [
      "c:\\python36\\lib\\site-packages\\ipykernel_launcher.py:3: SettingWithCopyWarning: \n",
      "A value is trying to be set on a copy of a slice from a DataFrame.\n",
      "Try using .loc[row_indexer,col_indexer] = value instead\n",
      "\n",
      "See the caveats in the documentation: http://pandas.pydata.org/pandas-docs/stable/indexing.html#indexing-view-versus-copy\n",
      "  This is separate from the ipykernel package so we can avoid doing imports until\n",
      "c:\\python36\\lib\\site-packages\\ipykernel_launcher.py:4: SettingWithCopyWarning: \n",
      "A value is trying to be set on a copy of a slice from a DataFrame.\n",
      "Try using .loc[row_indexer,col_indexer] = value instead\n",
      "\n",
      "See the caveats in the documentation: http://pandas.pydata.org/pandas-docs/stable/indexing.html#indexing-view-versus-copy\n",
      "  after removing the cwd from sys.path.\n",
      "c:\\python36\\lib\\site-packages\\ipykernel_launcher.py:5: SettingWithCopyWarning: \n",
      "A value is trying to be set on a copy of a slice from a DataFrame.\n",
      "Try using .loc[row_indexer,col_indexer] = value instead\n",
      "\n",
      "See the caveats in the documentation: http://pandas.pydata.org/pandas-docs/stable/indexing.html#indexing-view-versus-copy\n",
      "  \"\"\"\n",
      "c:\\python36\\lib\\site-packages\\ipykernel_launcher.py:6: SettingWithCopyWarning: \n",
      "A value is trying to be set on a copy of a slice from a DataFrame.\n",
      "Try using .loc[row_indexer,col_indexer] = value instead\n",
      "\n",
      "See the caveats in the documentation: http://pandas.pydata.org/pandas-docs/stable/indexing.html#indexing-view-versus-copy\n",
      "  \n",
      "c:\\python36\\lib\\site-packages\\ipykernel_launcher.py:7: SettingWithCopyWarning: \n",
      "A value is trying to be set on a copy of a slice from a DataFrame.\n",
      "Try using .loc[row_indexer,col_indexer] = value instead\n",
      "\n",
      "See the caveats in the documentation: http://pandas.pydata.org/pandas-docs/stable/indexing.html#indexing-view-versus-copy\n",
      "  import sys\n"
     ]
    },
    {
     "data": {
      "text/html": [
       "<div>\n",
       "<style scoped>\n",
       "    .dataframe tbody tr th:only-of-type {\n",
       "        vertical-align: middle;\n",
       "    }\n",
       "\n",
       "    .dataframe tbody tr th {\n",
       "        vertical-align: top;\n",
       "    }\n",
       "\n",
       "    .dataframe thead th {\n",
       "        text-align: right;\n",
       "    }\n",
       "</style>\n",
       "<table border=\"1\" class=\"dataframe\">\n",
       "  <thead>\n",
       "    <tr style=\"text-align: right;\">\n",
       "      <th>BRAND</th>\n",
       "      <th>AP</th>\n",
       "      <th>LG</th>\n",
       "      <th>LOREAL</th>\n",
       "      <th>LVMH</th>\n",
       "      <th>SITE_NAME</th>\n",
       "    </tr>\n",
       "    <tr>\n",
       "      <th>CATE_NAMES</th>\n",
       "      <th></th>\n",
       "      <th></th>\n",
       "      <th></th>\n",
       "      <th></th>\n",
       "      <th></th>\n",
       "    </tr>\n",
       "  </thead>\n",
       "  <tbody>\n",
       "    <tr>\n",
       "      <th>메이크업&gt;기타</th>\n",
       "      <td>0</td>\n",
       "      <td>0</td>\n",
       "      <td>0</td>\n",
       "      <td>0</td>\n",
       "      <td>OLIVE</td>\n",
       "    </tr>\n",
       "    <tr>\n",
       "      <th>메이크업&gt;네일</th>\n",
       "      <td>0</td>\n",
       "      <td>0</td>\n",
       "      <td>0</td>\n",
       "      <td>0</td>\n",
       "      <td>OLIVE</td>\n",
       "    </tr>\n",
       "    <tr>\n",
       "      <th>메이크업&gt;립</th>\n",
       "      <td>0</td>\n",
       "      <td>0</td>\n",
       "      <td>0</td>\n",
       "      <td>0</td>\n",
       "      <td>OLIVE</td>\n",
       "    </tr>\n",
       "    <tr>\n",
       "      <th>메이크업&gt;베이스</th>\n",
       "      <td>0</td>\n",
       "      <td>0</td>\n",
       "      <td>0</td>\n",
       "      <td>0</td>\n",
       "      <td>OLIVE</td>\n",
       "    </tr>\n",
       "    <tr>\n",
       "      <th>메이크업&gt;아이</th>\n",
       "      <td>0</td>\n",
       "      <td>0</td>\n",
       "      <td>0</td>\n",
       "      <td>0</td>\n",
       "      <td>OLIVE</td>\n",
       "    </tr>\n",
       "    <tr>\n",
       "      <th>메이크업&gt;툴/소품</th>\n",
       "      <td>0</td>\n",
       "      <td>0</td>\n",
       "      <td>0</td>\n",
       "      <td>0</td>\n",
       "      <td>OLIVE</td>\n",
       "    </tr>\n",
       "    <tr>\n",
       "      <th>메이크업&gt;페이스</th>\n",
       "      <td>0</td>\n",
       "      <td>0</td>\n",
       "      <td>0</td>\n",
       "      <td>0</td>\n",
       "      <td>OLIVE</td>\n",
       "    </tr>\n",
       "    <tr>\n",
       "      <th>미분류&gt;미분류</th>\n",
       "      <td>0</td>\n",
       "      <td>0</td>\n",
       "      <td>0</td>\n",
       "      <td>0</td>\n",
       "      <td>OLIVE</td>\n",
       "    </tr>\n",
       "  </tbody>\n",
       "</table>\n",
       "</div>"
      ],
      "text/plain": [
       "BRAND       AP  LG  LOREAL  LVMH SITE_NAME\n",
       "CATE_NAMES                                \n",
       "메이크업>기타      0   0       0     0     OLIVE\n",
       "메이크업>네일      0   0       0     0     OLIVE\n",
       "메이크업>립       0   0       0     0     OLIVE\n",
       "메이크업>베이스     0   0       0     0     OLIVE\n",
       "메이크업>아이      0   0       0     0     OLIVE\n",
       "메이크업>툴/소품    0   0       0     0     OLIVE\n",
       "메이크업>페이스     0   0       0     0     OLIVE\n",
       "미분류>미분류      0   0       0     0     OLIVE"
      ]
     },
     "execution_count": 12,
     "metadata": {},
     "output_type": "execute_result"
    }
   ],
   "source": [
    "# DATA_OLI= \n",
    "temp=DATA_HML[['AP','LG','LOREAL','LVMH','init']]\n",
    "temp['AP']=0\n",
    "temp['LG']=0\n",
    "temp['LOREAL']=0\n",
    "temp['LVMH']=0\n",
    "temp['init']=0\n",
    "temp['SITE_NAME']='OLIVE'\n",
    "print(temp.shape);temp.head(8)\n"
   ]
  },
  {
   "cell_type": "code",
   "execution_count": 13,
   "metadata": {},
   "outputs": [
    {
     "name": "stdout",
     "output_type": "stream",
     "text": [
      "(78, 5)\n"
     ]
    },
    {
     "data": {
      "text/html": [
       "<div>\n",
       "<style scoped>\n",
       "    .dataframe tbody tr th:only-of-type {\n",
       "        vertical-align: middle;\n",
       "    }\n",
       "\n",
       "    .dataframe tbody tr th {\n",
       "        vertical-align: top;\n",
       "    }\n",
       "\n",
       "    .dataframe thead th {\n",
       "        text-align: right;\n",
       "    }\n",
       "</style>\n",
       "<table border=\"1\" class=\"dataframe\">\n",
       "  <thead>\n",
       "    <tr style=\"text-align: right;\">\n",
       "      <th></th>\n",
       "      <th>SITE_NAME</th>\n",
       "      <th>AP</th>\n",
       "      <th>LG</th>\n",
       "      <th>LOREAL</th>\n",
       "      <th>LVMH</th>\n",
       "    </tr>\n",
       "    <tr>\n",
       "      <th>CATE_NAMES</th>\n",
       "      <th></th>\n",
       "      <th></th>\n",
       "      <th></th>\n",
       "      <th></th>\n",
       "      <th></th>\n",
       "    </tr>\n",
       "  </thead>\n",
       "  <tbody>\n",
       "    <tr>\n",
       "      <th>기획세트&gt;기획세트</th>\n",
       "      <td>GSSHOP</td>\n",
       "      <td>1.0</td>\n",
       "      <td>19.0</td>\n",
       "      <td>0.0</td>\n",
       "      <td>0.0</td>\n",
       "    </tr>\n",
       "    <tr>\n",
       "      <th>메이크업&gt;기타</th>\n",
       "      <td>GSSHOP</td>\n",
       "      <td>0.0</td>\n",
       "      <td>0.0</td>\n",
       "      <td>0.0</td>\n",
       "      <td>0.0</td>\n",
       "    </tr>\n",
       "  </tbody>\n",
       "</table>\n",
       "</div>"
      ],
      "text/plain": [
       "           SITE_NAME   AP    LG  LOREAL  LVMH\n",
       "CATE_NAMES                                   \n",
       "기획세트>기획세트     GSSHOP  1.0  19.0     0.0   0.0\n",
       "메이크업>기타       GSSHOP  0.0   0.0     0.0   0.0"
      ]
     },
     "execution_count": 13,
     "metadata": {},
     "output_type": "execute_result"
    }
   ],
   "source": [
    "TOTAL = pd.concat([\n",
    "    DATA_GS.reset_index(),\n",
    "    DATA_HML.reset_index(),\n",
    "    temp.reset_index()\n",
    "])[['CATE_NAMES','SITE_NAME','AP','LG','LOREAL','LVMH']]\n",
    "TOTAL=TOTAL.fillna(0)\n",
    "TOTAL.sort_values(by=['CATE_NAMES','SITE_NAME']).set_index('CATE_NAMES').to_csv('count999.csv')\n",
    "print(TOTAL.sort_values(by=['CATE_NAMES','SITE_NAME']).set_index('CATE_NAMES').shape)\n",
    "TOTAL.sort_values(by=['CATE_NAMES','SITE_NAME']).set_index('CATE_NAMES').head(2)"
   ]
  },
  {
   "cell_type": "code",
   "execution_count": null,
   "metadata": {},
   "outputs": [],
   "source": []
  }
 ],
 "metadata": {
  "kernelspec": {
   "display_name": "Python 3",
   "language": "python",
   "name": "python3"
  },
  "language_info": {
   "codemirror_mode": {
    "name": "ipython",
    "version": 3
   },
   "file_extension": ".py",
   "mimetype": "text/x-python",
   "name": "python",
   "nbconvert_exporter": "python",
   "pygments_lexer": "ipython3",
   "version": "3.6.3"
  }
 },
 "nbformat": 4,
 "nbformat_minor": 2
}
