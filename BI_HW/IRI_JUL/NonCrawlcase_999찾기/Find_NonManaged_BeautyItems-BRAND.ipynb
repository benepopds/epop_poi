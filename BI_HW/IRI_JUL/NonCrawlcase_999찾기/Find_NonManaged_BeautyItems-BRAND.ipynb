{
 "cells": [
  {
   "cell_type": "markdown",
   "metadata": {},
   "source": [
    "### Inventory of stock items, not managed for a month."
   ]
  },
  {
   "cell_type": "code",
   "execution_count": 2,
   "metadata": {},
   "outputs": [],
   "source": [
    "import pandas as pd"
   ]
  },
  {
   "cell_type": "code",
   "execution_count": 3,
   "metadata": {},
   "outputs": [],
   "source": [
    "# gsshop=pd.read_pickle('data/GSS_SELL.pk')\n",
    "# oliveYoung=pd.read_pickle('data/OLI_SELL.pk')\n",
    "# hmall=pd.read_pickle('data/HMA_SELL.pk')\n",
    "gsshop=pd.read_pickle('data/GSS0713.pk')\n",
    "oliveYoung=pd.read_pickle('data/OLI0713.pk')\n",
    "hmall=pd.read_pickle('data/HMA0713.pk')\n"
   ]
  },
  {
   "cell_type": "code",
   "execution_count": 4,
   "metadata": {},
   "outputs": [
    {
     "name": "stdout",
     "output_type": "stream",
     "text": [
      "(263808, 18)\n"
     ]
    },
    {
     "data": {
      "text/html": [
       "<div>\n",
       "<style scoped>\n",
       "    .dataframe tbody tr th:only-of-type {\n",
       "        vertical-align: middle;\n",
       "    }\n",
       "\n",
       "    .dataframe tbody tr th {\n",
       "        vertical-align: top;\n",
       "    }\n",
       "\n",
       "    .dataframe thead th {\n",
       "        text-align: right;\n",
       "    }\n",
       "</style>\n",
       "<table border=\"1\" class=\"dataframe\">\n",
       "  <thead>\n",
       "    <tr style=\"text-align: right;\">\n",
       "      <th></th>\n",
       "      <th>SELL_AMOUNT</th>\n",
       "      <th>STOCK_AMOUNT</th>\n",
       "      <th>REVISE_STOCK_AMOUNT</th>\n",
       "      <th>STOCK_ID</th>\n",
       "      <th>ITEM_ID</th>\n",
       "      <th>UPT_DT</th>\n",
       "      <th>COLLECT_DAY</th>\n",
       "      <th>UPT_ID</th>\n",
       "      <th>REG_DT</th>\n",
       "      <th>ITEM_NUM</th>\n",
       "      <th>GOODS_NAME</th>\n",
       "      <th>COLLECT_URL</th>\n",
       "      <th>NORMAL_PRICE_SITE</th>\n",
       "      <th>BRAND_NAME</th>\n",
       "      <th>SITE_NO</th>\n",
       "      <th>CATE_NAMES</th>\n",
       "      <th>BRAND</th>\n",
       "      <th>SELL</th>\n",
       "    </tr>\n",
       "  </thead>\n",
       "  <tbody>\n",
       "    <tr>\n",
       "      <th>0</th>\n",
       "      <td>0</td>\n",
       "      <td>16</td>\n",
       "      <td>16</td>\n",
       "      <td>-1560235313357406774</td>\n",
       "      <td>8758383</td>\n",
       "      <td>2018-07-13 13:07:00</td>\n",
       "      <td>2018-06-02</td>\n",
       "      <td>FILTER ALGO</td>\n",
       "      <td>2018-06-02</td>\n",
       "      <td>A000000000638</td>\n",
       "      <td>불가리 쁘띠마망 EDT 100ml</td>\n",
       "      <td>http://www.oliveyoung.co.kr/store/goods/getGoo...</td>\n",
       "      <td>69000</td>\n",
       "      <td>불가리</td>\n",
       "      <td>4</td>\n",
       "      <td>향수&gt;여성향수</td>\n",
       "      <td>LVMH</td>\n",
       "      <td>0</td>\n",
       "    </tr>\n",
       "  </tbody>\n",
       "</table>\n",
       "</div>"
      ],
      "text/plain": [
       "  SELL_AMOUNT STOCK_AMOUNT REVISE_STOCK_AMOUNT              STOCK_ID  ITEM_ID  \\\n",
       "0           0           16                  16  -1560235313357406774  8758383   \n",
       "\n",
       "               UPT_DT COLLECT_DAY       UPT_ID     REG_DT       ITEM_NUM  \\\n",
       "0 2018-07-13 13:07:00  2018-06-02  FILTER ALGO 2018-06-02  A000000000638   \n",
       "\n",
       "           GOODS_NAME                                        COLLECT_URL  \\\n",
       "0  불가리 쁘띠마망 EDT 100ml  http://www.oliveyoung.co.kr/store/goods/getGoo...   \n",
       "\n",
       "   NORMAL_PRICE_SITE BRAND_NAME  SITE_NO CATE_NAMES BRAND SELL  \n",
       "0              69000        불가리        4    향수>여성향수  LVMH    0  "
      ]
     },
     "execution_count": 4,
     "metadata": {},
     "output_type": "execute_result"
    }
   ],
   "source": [
    "data = oliveYoung;\n",
    "# data = gsshop;\n",
    "# data = hmall;\n",
    "print(data.shape)\n",
    "data.head(1)"
   ]
  },
  {
   "cell_type": "code",
   "execution_count": null,
   "metadata": {},
   "outputs": [],
   "source": []
  },
  {
   "cell_type": "markdown",
   "metadata": {},
   "source": [
    "## SELL_AMOUNT == 0 찾기"
   ]
  },
  {
   "cell_type": "code",
   "execution_count": 54,
   "metadata": {},
   "outputs": [
    {
     "name": "stdout",
     "output_type": "stream",
     "text": [
      "(7334, 2) (665, 2)\n"
     ]
    },
    {
     "data": {
      "text/html": [
       "<div>\n",
       "<style scoped>\n",
       "    .dataframe tbody tr th:only-of-type {\n",
       "        vertical-align: middle;\n",
       "    }\n",
       "\n",
       "    .dataframe tbody tr th {\n",
       "        vertical-align: top;\n",
       "    }\n",
       "\n",
       "    .dataframe thead th {\n",
       "        text-align: right;\n",
       "    }\n",
       "</style>\n",
       "<table border=\"1\" class=\"dataframe\">\n",
       "  <thead>\n",
       "    <tr style=\"text-align: right;\">\n",
       "      <th></th>\n",
       "      <th>ITEM_ID</th>\n",
       "      <th>SELL_AMOUNT</th>\n",
       "    </tr>\n",
       "  </thead>\n",
       "  <tbody>\n",
       "    <tr>\n",
       "      <th>74</th>\n",
       "      <td>8757891</td>\n",
       "      <td>0.0</td>\n",
       "    </tr>\n",
       "  </tbody>\n",
       "</table>\n",
       "</div>"
      ],
      "text/plain": [
       "    ITEM_ID  SELL_AMOUNT\n",
       "74  8757891          0.0"
      ]
     },
     "execution_count": 54,
     "metadata": {},
     "output_type": "execute_result"
    }
   ],
   "source": [
    "Q_SALES = data.groupby('ITEM_ID').SELL_AMOUNT.sum().reset_index()\n",
    "Q_SALES_ZERO = Q_SALES[Q_SALES.SELL_AMOUNT==0]\n",
    "print(Q_SALES.shape,Q_SALES_ZERO.shape)\n",
    "Q_SALES_ZERO.head(1)"
   ]
  },
  {
   "cell_type": "code",
   "execution_count": 55,
   "metadata": {},
   "outputs": [
    {
     "data": {
      "text/plain": [
       "(13148, 7)"
      ]
     },
     "execution_count": 55,
     "metadata": {},
     "output_type": "execute_result"
    }
   ],
   "source": [
    "DATA_ZERO = \\\n",
    "data[data.ITEM_ID.isin(Q_SALES_ZERO.ITEM_ID\n",
    "                      )][['ITEM_ID','STOCK_ID','SELL_AMOUNT','STOCK_AMOUNT','COLLECT_DAY','BRAND','CATE_NAMES']]\n",
    "DATA_ZERO.shape"
   ]
  },
  {
   "cell_type": "markdown",
   "metadata": {},
   "source": [
    "## STOCK_AMOUNT == 9999 찾기"
   ]
  },
  {
   "cell_type": "code",
   "execution_count": 56,
   "metadata": {},
   "outputs": [
    {
     "name": "stdout",
     "output_type": "stream",
     "text": [
      "(13148, 7) (120, 7)\n"
     ]
    },
    {
     "data": {
      "text/html": [
       "<div>\n",
       "<style scoped>\n",
       "    .dataframe tbody tr th:only-of-type {\n",
       "        vertical-align: middle;\n",
       "    }\n",
       "\n",
       "    .dataframe tbody tr th {\n",
       "        vertical-align: top;\n",
       "    }\n",
       "\n",
       "    .dataframe thead th {\n",
       "        text-align: right;\n",
       "    }\n",
       "</style>\n",
       "<table border=\"1\" class=\"dataframe\">\n",
       "  <thead>\n",
       "    <tr style=\"text-align: right;\">\n",
       "      <th></th>\n",
       "      <th>ITEM_ID</th>\n",
       "      <th>STOCK_ID</th>\n",
       "      <th>SELL_AMOUNT</th>\n",
       "      <th>STOCK_AMOUNT</th>\n",
       "      <th>COLLECT_DAY</th>\n",
       "      <th>BRAND</th>\n",
       "      <th>CATE_NAMES</th>\n",
       "    </tr>\n",
       "  </thead>\n",
       "  <tbody>\n",
       "    <tr>\n",
       "      <th>198305</th>\n",
       "      <td>8759898</td>\n",
       "      <td>7995800085043919441</td>\n",
       "      <td>0</td>\n",
       "      <td>99999</td>\n",
       "      <td>2018-06-02</td>\n",
       "      <td>init</td>\n",
       "      <td>바디/헤어&gt;덴탈케어</td>\n",
       "    </tr>\n",
       "  </tbody>\n",
       "</table>\n",
       "</div>"
      ],
      "text/plain": [
       "        ITEM_ID             STOCK_ID SELL_AMOUNT STOCK_AMOUNT COLLECT_DAY  \\\n",
       "198305  8759898  7995800085043919441           0        99999  2018-06-02   \n",
       "\n",
       "       BRAND  CATE_NAMES  \n",
       "198305  init  바디/헤어>덴탈케어  "
      ]
     },
     "execution_count": 56,
     "metadata": {},
     "output_type": "execute_result"
    }
   ],
   "source": [
    "DATA_ZERO.loc[DATA_ZERO['STOCK_AMOUNT'].isna(),'STOCK_AMOUNT']=0\n",
    "DATA_ZERO['STOCK_AMOUNT'] = DATA_ZERO['STOCK_AMOUNT'].astype('int')\n",
    "DATA_ZERO['STOCK_AMOUNT'] = DATA_ZERO['STOCK_AMOUNT'].astype('str')\n",
    "DATA_ZERO_VALUE_999 = DATA_ZERO[DATA_ZERO.STOCK_AMOUNT.str.contains('^99+$')]\n",
    "print(DATA_ZERO.shape,DATA_ZERO_VALUE_999.shape) \n",
    "#(212026, 6) (15127, 6)  : ^99+$\n",
    "# (212026, 6) (20354, 6) : ^99+\n",
    "DATA_ZERO_VALUE_999.head(1)\n",
    "\n"
   ]
  },
  {
   "cell_type": "code",
   "execution_count": 57,
   "metadata": {},
   "outputs": [
    {
     "data": {
      "text/plain": [
       "4"
      ]
     },
     "execution_count": 57,
     "metadata": {},
     "output_type": "execute_result"
    }
   ],
   "source": [
    "DATA_ZERO_VALUE_999.ITEM_ID.nunique() # TOTAL AMOUNT z"
   ]
  },
  {
   "cell_type": "code",
   "execution_count": null,
   "metadata": {},
   "outputs": [],
   "source": []
  },
  {
   "cell_type": "markdown",
   "metadata": {},
   "source": [
    "# [ALL] Inventory by Brand"
   ]
  },
  {
   "cell_type": "code",
   "execution_count": 27,
   "metadata": {},
   "outputs": [
    {
     "name": "stdout",
     "output_type": "stream",
     "text": [
      "(1, 5)\n"
     ]
    },
    {
     "data": {
      "text/html": [
       "<div>\n",
       "<style scoped>\n",
       "    .dataframe tbody tr th:only-of-type {\n",
       "        vertical-align: middle;\n",
       "    }\n",
       "\n",
       "    .dataframe tbody tr th {\n",
       "        vertical-align: top;\n",
       "    }\n",
       "\n",
       "    .dataframe thead th {\n",
       "        text-align: right;\n",
       "    }\n",
       "</style>\n",
       "<table border=\"1\" class=\"dataframe\">\n",
       "  <thead>\n",
       "    <tr style=\"text-align: right;\">\n",
       "      <th>BRAND</th>\n",
       "      <th>AP</th>\n",
       "      <th>LG</th>\n",
       "      <th>LOREAL</th>\n",
       "      <th>LVMH</th>\n",
       "      <th>init</th>\n",
       "    </tr>\n",
       "    <tr>\n",
       "      <th>SITE_NAME</th>\n",
       "      <th></th>\n",
       "      <th></th>\n",
       "      <th></th>\n",
       "      <th></th>\n",
       "      <th></th>\n",
       "    </tr>\n",
       "  </thead>\n",
       "  <tbody>\n",
       "    <tr>\n",
       "      <th>GSSHOP</th>\n",
       "      <td>3823</td>\n",
       "      <td>3386</td>\n",
       "      <td>1303</td>\n",
       "      <td>1895</td>\n",
       "      <td>39213</td>\n",
       "    </tr>\n",
       "  </tbody>\n",
       "</table>\n",
       "</div>"
      ],
      "text/plain": [
       "BRAND        AP    LG  LOREAL  LVMH   init\n",
       "SITE_NAME                                 \n",
       "GSSHOP     3823  3386    1303  1895  39213"
      ]
     },
     "execution_count": 27,
     "metadata": {},
     "output_type": "execute_result"
    }
   ],
   "source": [
    "# data['SITE_NAME']='GSSHOP'\n",
    "# IVT_GS = data.groupby(['SITE_NAME','BRAND']).ITEM_ID.nunique().reset_index().pivot(\n",
    "#     index='SITE_NAME',columns='BRAND',values='ITEM_ID')\n",
    "\n",
    "print(IVT_GS.shape);IVT_GS.head(1)"
   ]
  },
  {
   "cell_type": "code",
   "execution_count": 49,
   "metadata": {},
   "outputs": [
    {
     "name": "stdout",
     "output_type": "stream",
     "text": [
      "(1, 5)\n"
     ]
    },
    {
     "data": {
      "text/html": [
       "<div>\n",
       "<style scoped>\n",
       "    .dataframe tbody tr th:only-of-type {\n",
       "        vertical-align: middle;\n",
       "    }\n",
       "\n",
       "    .dataframe tbody tr th {\n",
       "        vertical-align: top;\n",
       "    }\n",
       "\n",
       "    .dataframe thead th {\n",
       "        text-align: right;\n",
       "    }\n",
       "</style>\n",
       "<table border=\"1\" class=\"dataframe\">\n",
       "  <thead>\n",
       "    <tr style=\"text-align: right;\">\n",
       "      <th>BRAND</th>\n",
       "      <th>AP</th>\n",
       "      <th>LG</th>\n",
       "      <th>LOREAL</th>\n",
       "      <th>LVMH</th>\n",
       "      <th>init</th>\n",
       "    </tr>\n",
       "    <tr>\n",
       "      <th>SITE_NAME</th>\n",
       "      <th></th>\n",
       "      <th></th>\n",
       "      <th></th>\n",
       "      <th></th>\n",
       "      <th></th>\n",
       "    </tr>\n",
       "  </thead>\n",
       "  <tbody>\n",
       "    <tr>\n",
       "      <th>HMALL</th>\n",
       "      <td>4424</td>\n",
       "      <td>2839</td>\n",
       "      <td>1210</td>\n",
       "      <td>1401</td>\n",
       "      <td>25259</td>\n",
       "    </tr>\n",
       "  </tbody>\n",
       "</table>\n",
       "</div>"
      ],
      "text/plain": [
       "BRAND        AP    LG  LOREAL  LVMH   init\n",
       "SITE_NAME                                 \n",
       "HMALL      4424  2839    1210  1401  25259"
      ]
     },
     "execution_count": 49,
     "metadata": {},
     "output_type": "execute_result"
    }
   ],
   "source": [
    "data['SITE_NAME']='HMALL'\n",
    "IVT_HML = data.groupby(['SITE_NAME','BRAND']).ITEM_ID.nunique().reset_index().pivot(\n",
    "    index='SITE_NAME',columns='BRAND',values='ITEM_ID')\n",
    "print(IVT_HML.shape);IVT_HML.head(1)"
   ]
  },
  {
   "cell_type": "code",
   "execution_count": 58,
   "metadata": {},
   "outputs": [
    {
     "name": "stdout",
     "output_type": "stream",
     "text": [
      "(1, 5)\n"
     ]
    },
    {
     "data": {
      "text/html": [
       "<div>\n",
       "<style scoped>\n",
       "    .dataframe tbody tr th:only-of-type {\n",
       "        vertical-align: middle;\n",
       "    }\n",
       "\n",
       "    .dataframe tbody tr th {\n",
       "        vertical-align: top;\n",
       "    }\n",
       "\n",
       "    .dataframe thead th {\n",
       "        text-align: right;\n",
       "    }\n",
       "</style>\n",
       "<table border=\"1\" class=\"dataframe\">\n",
       "  <thead>\n",
       "    <tr style=\"text-align: right;\">\n",
       "      <th>BRAND</th>\n",
       "      <th>AP</th>\n",
       "      <th>LG</th>\n",
       "      <th>LOREAL</th>\n",
       "      <th>LVMH</th>\n",
       "      <th>init</th>\n",
       "    </tr>\n",
       "    <tr>\n",
       "      <th>SITE_NAME</th>\n",
       "      <th></th>\n",
       "      <th></th>\n",
       "      <th></th>\n",
       "      <th></th>\n",
       "      <th></th>\n",
       "    </tr>\n",
       "  </thead>\n",
       "  <tbody>\n",
       "    <tr>\n",
       "      <th>OLIVE</th>\n",
       "      <td>244</td>\n",
       "      <td>468</td>\n",
       "      <td>193</td>\n",
       "      <td>85</td>\n",
       "      <td>6344</td>\n",
       "    </tr>\n",
       "  </tbody>\n",
       "</table>\n",
       "</div>"
      ],
      "text/plain": [
       "BRAND       AP   LG  LOREAL  LVMH  init\n",
       "SITE_NAME                              \n",
       "OLIVE      244  468     193    85  6344"
      ]
     },
     "execution_count": 58,
     "metadata": {},
     "output_type": "execute_result"
    }
   ],
   "source": [
    "data['SITE_NAME']='OLIVE'\n",
    "IVT_OLI = data.groupby(['SITE_NAME','BRAND']).ITEM_ID.nunique().reset_index().pivot(\n",
    "    index='SITE_NAME',columns='BRAND',values='ITEM_ID')\n",
    "print(IVT_OLI.shape);IVT_OLI.head(1)"
   ]
  },
  {
   "cell_type": "code",
   "execution_count": 71,
   "metadata": {},
   "outputs": [
    {
     "data": {
      "text/html": [
       "<div>\n",
       "<style scoped>\n",
       "    .dataframe tbody tr th:only-of-type {\n",
       "        vertical-align: middle;\n",
       "    }\n",
       "\n",
       "    .dataframe tbody tr th {\n",
       "        vertical-align: top;\n",
       "    }\n",
       "\n",
       "    .dataframe thead th {\n",
       "        text-align: right;\n",
       "    }\n",
       "</style>\n",
       "<table border=\"1\" class=\"dataframe\">\n",
       "  <thead>\n",
       "    <tr style=\"text-align: right;\">\n",
       "      <th>BRAND</th>\n",
       "      <th>AP</th>\n",
       "      <th>LG</th>\n",
       "      <th>LOREAL</th>\n",
       "      <th>LVMH</th>\n",
       "    </tr>\n",
       "    <tr>\n",
       "      <th>SITE_NAME</th>\n",
       "      <th></th>\n",
       "      <th></th>\n",
       "      <th></th>\n",
       "      <th></th>\n",
       "    </tr>\n",
       "  </thead>\n",
       "  <tbody>\n",
       "    <tr>\n",
       "      <th>GSSHOP</th>\n",
       "      <td>3823</td>\n",
       "      <td>3386</td>\n",
       "      <td>1303</td>\n",
       "      <td>1895</td>\n",
       "    </tr>\n",
       "    <tr>\n",
       "      <th>HMALL</th>\n",
       "      <td>4424</td>\n",
       "      <td>2839</td>\n",
       "      <td>1210</td>\n",
       "      <td>1401</td>\n",
       "    </tr>\n",
       "    <tr>\n",
       "      <th>OLIVE</th>\n",
       "      <td>244</td>\n",
       "      <td>468</td>\n",
       "      <td>193</td>\n",
       "      <td>85</td>\n",
       "    </tr>\n",
       "  </tbody>\n",
       "</table>\n",
       "</div>"
      ],
      "text/plain": [
       "BRAND        AP    LG  LOREAL  LVMH\n",
       "SITE_NAME                          \n",
       "GSSHOP     3823  3386    1303  1895\n",
       "HMALL      4424  2839    1210  1401\n",
       "OLIVE       244   468     193    85"
      ]
     },
     "execution_count": 71,
     "metadata": {},
     "output_type": "execute_result"
    }
   ],
   "source": [
    "TOTAL_IVT = pd.concat([\n",
    "    IVT_GS.reset_index(),\n",
    "    IVT_HML.reset_index(),\n",
    "    IVT_OLI.reset_index()\n",
    "])[['SITE_NAME','AP','LG','LOREAL','LVMH']]\n",
    "TOTAL_IVT.sort_values(by=['SITE_NAME']).set_index('SITE_NAME')"
   ]
  },
  {
   "cell_type": "markdown",
   "metadata": {},
   "source": [
    "# [999case] Inventory by Brand"
   ]
  },
  {
   "cell_type": "code",
   "execution_count": 75,
   "metadata": {},
   "outputs": [
    {
     "name": "stdout",
     "output_type": "stream",
     "text": [
      "4\n"
     ]
    },
    {
     "data": {
      "text/html": [
       "<div>\n",
       "<style scoped>\n",
       "    .dataframe tbody tr th:only-of-type {\n",
       "        vertical-align: middle;\n",
       "    }\n",
       "\n",
       "    .dataframe tbody tr th {\n",
       "        vertical-align: top;\n",
       "    }\n",
       "\n",
       "    .dataframe thead th {\n",
       "        text-align: right;\n",
       "    }\n",
       "</style>\n",
       "<table border=\"1\" class=\"dataframe\">\n",
       "  <thead>\n",
       "    <tr style=\"text-align: right;\">\n",
       "      <th></th>\n",
       "      <th>ITEM_ID</th>\n",
       "      <th>STOCK_ID</th>\n",
       "      <th>SELL_AMOUNT</th>\n",
       "      <th>STOCK_AMOUNT</th>\n",
       "      <th>COLLECT_DAY</th>\n",
       "      <th>BRAND</th>\n",
       "      <th>CATE_NAMES</th>\n",
       "      <th>SITE_NAME</th>\n",
       "    </tr>\n",
       "  </thead>\n",
       "  <tbody>\n",
       "    <tr>\n",
       "      <th>198305</th>\n",
       "      <td>8759898</td>\n",
       "      <td>7995800085043919441</td>\n",
       "      <td>0</td>\n",
       "      <td>99999</td>\n",
       "      <td>2018-06-02</td>\n",
       "      <td>init</td>\n",
       "      <td>바디/헤어&gt;덴탈케어</td>\n",
       "      <td>OLIVE</td>\n",
       "    </tr>\n",
       "    <tr>\n",
       "      <th>198306</th>\n",
       "      <td>8759898</td>\n",
       "      <td>7995800085043919441</td>\n",
       "      <td>0</td>\n",
       "      <td>99999</td>\n",
       "      <td>2018-06-03</td>\n",
       "      <td>init</td>\n",
       "      <td>바디/헤어&gt;덴탈케어</td>\n",
       "      <td>OLIVE</td>\n",
       "    </tr>\n",
       "    <tr>\n",
       "      <th>198307</th>\n",
       "      <td>8759898</td>\n",
       "      <td>7995800085043919441</td>\n",
       "      <td>0</td>\n",
       "      <td>99999</td>\n",
       "      <td>2018-06-04</td>\n",
       "      <td>init</td>\n",
       "      <td>바디/헤어&gt;덴탈케어</td>\n",
       "      <td>OLIVE</td>\n",
       "    </tr>\n",
       "    <tr>\n",
       "      <th>198308</th>\n",
       "      <td>8759898</td>\n",
       "      <td>7995800085043919441</td>\n",
       "      <td>0</td>\n",
       "      <td>99999</td>\n",
       "      <td>2018-06-05</td>\n",
       "      <td>init</td>\n",
       "      <td>바디/헤어&gt;덴탈케어</td>\n",
       "      <td>OLIVE</td>\n",
       "    </tr>\n",
       "    <tr>\n",
       "      <th>198309</th>\n",
       "      <td>8759898</td>\n",
       "      <td>7995800085043919441</td>\n",
       "      <td>0</td>\n",
       "      <td>99999</td>\n",
       "      <td>2018-06-06</td>\n",
       "      <td>init</td>\n",
       "      <td>바디/헤어&gt;덴탈케어</td>\n",
       "      <td>OLIVE</td>\n",
       "    </tr>\n",
       "  </tbody>\n",
       "</table>\n",
       "</div>"
      ],
      "text/plain": [
       "        ITEM_ID             STOCK_ID SELL_AMOUNT STOCK_AMOUNT COLLECT_DAY  \\\n",
       "198305  8759898  7995800085043919441           0        99999  2018-06-02   \n",
       "198306  8759898  7995800085043919441           0        99999  2018-06-03   \n",
       "198307  8759898  7995800085043919441           0        99999  2018-06-04   \n",
       "198308  8759898  7995800085043919441           0        99999  2018-06-05   \n",
       "198309  8759898  7995800085043919441           0        99999  2018-06-06   \n",
       "\n",
       "       BRAND  CATE_NAMES SITE_NAME  \n",
       "198305  init  바디/헤어>덴탈케어     OLIVE  \n",
       "198306  init  바디/헤어>덴탈케어     OLIVE  \n",
       "198307  init  바디/헤어>덴탈케어     OLIVE  \n",
       "198308  init  바디/헤어>덴탈케어     OLIVE  \n",
       "198309  init  바디/헤어>덴탈케어     OLIVE  "
      ]
     },
     "execution_count": 75,
     "metadata": {},
     "output_type": "execute_result"
    }
   ],
   "source": [
    "print(DATA_ZERO_VALUE_999.ITEM_ID.nunique() )\n",
    "DATA_ZERO_VALUE_999.head()"
   ]
  },
  {
   "cell_type": "code",
   "execution_count": 62,
   "metadata": {},
   "outputs": [
    {
     "name": "stderr",
     "output_type": "stream",
     "text": [
      "c:\\python36\\lib\\site-packages\\ipykernel_launcher.py:3: SettingWithCopyWarning: \n",
      "A value is trying to be set on a copy of a slice from a DataFrame.\n",
      "Try using .loc[row_indexer,col_indexer] = value instead\n",
      "\n",
      "See the caveats in the documentation: http://pandas.pydata.org/pandas-docs/stable/indexing.html#indexing-view-versus-copy\n",
      "  This is separate from the ipykernel package so we can avoid doing imports until\n"
     ]
    }
   ],
   "source": [
    "# DATA_ZERO_VALUE_999['SITE_NAME']='GSSHOP'\n",
    "# DATA_ZERO_VALUE_999['SITE_NAME']='HMALL'\n",
    "DATA_ZERO_VALUE_999['SITE_NAME']='OLIVE'"
   ]
  },
  {
   "cell_type": "code",
   "execution_count": 63,
   "metadata": {},
   "outputs": [],
   "source": [
    "DATA_ZERO_VALUE_999_pivot= \\\n",
    "DATA_ZERO_VALUE_999.groupby(['SITE_NAME','BRAND']).ITEM_ID.nunique().reset_index().pivot(\n",
    "    index='SITE_NAME',columns='BRAND',values='ITEM_ID')\n",
    "DATA_ZERO_VALUE_999_pivot=DATA_ZERO_VALUE_999_pivot.fillna(0)"
   ]
  },
  {
   "cell_type": "code",
   "execution_count": 30,
   "metadata": {},
   "outputs": [
    {
     "name": "stdout",
     "output_type": "stream",
     "text": [
      "(1, 5)\n"
     ]
    },
    {
     "data": {
      "text/html": [
       "<div>\n",
       "<style scoped>\n",
       "    .dataframe tbody tr th:only-of-type {\n",
       "        vertical-align: middle;\n",
       "    }\n",
       "\n",
       "    .dataframe tbody tr th {\n",
       "        vertical-align: top;\n",
       "    }\n",
       "\n",
       "    .dataframe thead th {\n",
       "        text-align: right;\n",
       "    }\n",
       "</style>\n",
       "<table border=\"1\" class=\"dataframe\">\n",
       "  <thead>\n",
       "    <tr style=\"text-align: right;\">\n",
       "      <th>BRAND</th>\n",
       "      <th>AP</th>\n",
       "      <th>LG</th>\n",
       "      <th>LOREAL</th>\n",
       "      <th>LVMH</th>\n",
       "      <th>init</th>\n",
       "    </tr>\n",
       "    <tr>\n",
       "      <th>SITE_NAME</th>\n",
       "      <th></th>\n",
       "      <th></th>\n",
       "      <th></th>\n",
       "      <th></th>\n",
       "      <th></th>\n",
       "    </tr>\n",
       "  </thead>\n",
       "  <tbody>\n",
       "    <tr>\n",
       "      <th>GSSHOP</th>\n",
       "      <td>205</td>\n",
       "      <td>316</td>\n",
       "      <td>94</td>\n",
       "      <td>442</td>\n",
       "      <td>6092</td>\n",
       "    </tr>\n",
       "  </tbody>\n",
       "</table>\n",
       "</div>"
      ],
      "text/plain": [
       "BRAND       AP   LG  LOREAL  LVMH  init\n",
       "SITE_NAME                              \n",
       "GSSHOP     205  316      94   442  6092"
      ]
     },
     "execution_count": 30,
     "metadata": {},
     "output_type": "execute_result"
    }
   ],
   "source": [
    "# DATA_GS = DATA_ZERO_VALUE_999_pivot\n",
    "print(DATA_GS.shape);DATA_GS.head(2)"
   ]
  },
  {
   "cell_type": "code",
   "execution_count": 52,
   "metadata": {},
   "outputs": [
    {
     "name": "stdout",
     "output_type": "stream",
     "text": [
      "(1, 5)\n"
     ]
    },
    {
     "data": {
      "text/html": [
       "<div>\n",
       "<style scoped>\n",
       "    .dataframe tbody tr th:only-of-type {\n",
       "        vertical-align: middle;\n",
       "    }\n",
       "\n",
       "    .dataframe tbody tr th {\n",
       "        vertical-align: top;\n",
       "    }\n",
       "\n",
       "    .dataframe thead th {\n",
       "        text-align: right;\n",
       "    }\n",
       "</style>\n",
       "<table border=\"1\" class=\"dataframe\">\n",
       "  <thead>\n",
       "    <tr style=\"text-align: right;\">\n",
       "      <th>BRAND</th>\n",
       "      <th>AP</th>\n",
       "      <th>LG</th>\n",
       "      <th>LOREAL</th>\n",
       "      <th>LVMH</th>\n",
       "      <th>init</th>\n",
       "    </tr>\n",
       "    <tr>\n",
       "      <th>SITE_NAME</th>\n",
       "      <th></th>\n",
       "      <th></th>\n",
       "      <th></th>\n",
       "      <th></th>\n",
       "      <th></th>\n",
       "    </tr>\n",
       "  </thead>\n",
       "  <tbody>\n",
       "    <tr>\n",
       "      <th>HMALL</th>\n",
       "      <td>316</td>\n",
       "      <td>440</td>\n",
       "      <td>36</td>\n",
       "      <td>124</td>\n",
       "      <td>4525</td>\n",
       "    </tr>\n",
       "  </tbody>\n",
       "</table>\n",
       "</div>"
      ],
      "text/plain": [
       "BRAND       AP   LG  LOREAL  LVMH  init\n",
       "SITE_NAME                              \n",
       "HMALL      316  440      36   124  4525"
      ]
     },
     "execution_count": 52,
     "metadata": {},
     "output_type": "execute_result"
    }
   ],
   "source": [
    "# DATA_HML = DATA_ZERO_VALUE_999_pivot\n",
    "print(DATA_HML.shape);DATA_HML.tail(2)"
   ]
  },
  {
   "cell_type": "code",
   "execution_count": 64,
   "metadata": {},
   "outputs": [
    {
     "name": "stdout",
     "output_type": "stream",
     "text": [
      "(1, 1)\n"
     ]
    },
    {
     "data": {
      "text/html": [
       "<div>\n",
       "<style scoped>\n",
       "    .dataframe tbody tr th:only-of-type {\n",
       "        vertical-align: middle;\n",
       "    }\n",
       "\n",
       "    .dataframe tbody tr th {\n",
       "        vertical-align: top;\n",
       "    }\n",
       "\n",
       "    .dataframe thead th {\n",
       "        text-align: right;\n",
       "    }\n",
       "</style>\n",
       "<table border=\"1\" class=\"dataframe\">\n",
       "  <thead>\n",
       "    <tr style=\"text-align: right;\">\n",
       "      <th>BRAND</th>\n",
       "      <th>init</th>\n",
       "    </tr>\n",
       "    <tr>\n",
       "      <th>SITE_NAME</th>\n",
       "      <th></th>\n",
       "    </tr>\n",
       "  </thead>\n",
       "  <tbody>\n",
       "    <tr>\n",
       "      <th>OLIVE</th>\n",
       "      <td>4</td>\n",
       "    </tr>\n",
       "  </tbody>\n",
       "</table>\n",
       "</div>"
      ],
      "text/plain": [
       "BRAND      init\n",
       "SITE_NAME      \n",
       "OLIVE         4"
      ]
     },
     "execution_count": 64,
     "metadata": {},
     "output_type": "execute_result"
    }
   ],
   "source": [
    "DATA_OLI = DATA_ZERO_VALUE_999_pivot\n",
    "print(DATA_OLI.shape);DATA_OLI.head(2)"
   ]
  },
  {
   "cell_type": "raw",
   "metadata": {},
   "source": [
    "# DATA_OLI= DATA_HML[['AP','LG','LOREAL','LVMH','init']]\n",
    "DATA_OLI['AP']=0\n",
    "DATA_OLI['LOREAL']=0\n",
    "DATA_OLI['LVMH']=0\n",
    "DATA_OLI['SITE_NAME']='OLIVE'\n",
    "DATA_OLI=DATA_OLI[['AP','LG','LOREAL','LVMH','init']]\n",
    "print(DATA_OLI.shape);DATA_OLI.head(2)"
   ]
  },
  {
   "cell_type": "code",
   "execution_count": 72,
   "metadata": {},
   "outputs": [
    {
     "data": {
      "text/html": [
       "<div>\n",
       "<style scoped>\n",
       "    .dataframe tbody tr th:only-of-type {\n",
       "        vertical-align: middle;\n",
       "    }\n",
       "\n",
       "    .dataframe tbody tr th {\n",
       "        vertical-align: top;\n",
       "    }\n",
       "\n",
       "    .dataframe thead th {\n",
       "        text-align: right;\n",
       "    }\n",
       "</style>\n",
       "<table border=\"1\" class=\"dataframe\">\n",
       "  <thead>\n",
       "    <tr style=\"text-align: right;\">\n",
       "      <th></th>\n",
       "      <th>AP</th>\n",
       "      <th>LG</th>\n",
       "      <th>LOREAL</th>\n",
       "      <th>LVMH</th>\n",
       "    </tr>\n",
       "    <tr>\n",
       "      <th>SITE_NAME</th>\n",
       "      <th></th>\n",
       "      <th></th>\n",
       "      <th></th>\n",
       "      <th></th>\n",
       "    </tr>\n",
       "  </thead>\n",
       "  <tbody>\n",
       "    <tr>\n",
       "      <th>GSSHOP</th>\n",
       "      <td>205.0</td>\n",
       "      <td>316.0</td>\n",
       "      <td>94.0</td>\n",
       "      <td>442.0</td>\n",
       "    </tr>\n",
       "    <tr>\n",
       "      <th>HMALL</th>\n",
       "      <td>316.0</td>\n",
       "      <td>440.0</td>\n",
       "      <td>36.0</td>\n",
       "      <td>124.0</td>\n",
       "    </tr>\n",
       "    <tr>\n",
       "      <th>OLIVE</th>\n",
       "      <td>NaN</td>\n",
       "      <td>NaN</td>\n",
       "      <td>NaN</td>\n",
       "      <td>NaN</td>\n",
       "    </tr>\n",
       "  </tbody>\n",
       "</table>\n",
       "</div>"
      ],
      "text/plain": [
       "              AP     LG  LOREAL   LVMH\n",
       "SITE_NAME                             \n",
       "GSSHOP     205.0  316.0    94.0  442.0\n",
       "HMALL      316.0  440.0    36.0  124.0\n",
       "OLIVE        NaN    NaN     NaN    NaN"
      ]
     },
     "execution_count": 72,
     "metadata": {},
     "output_type": "execute_result"
    }
   ],
   "source": [
    "TOTAL = pd.concat([\n",
    "    DATA_GS.reset_index(),\n",
    "    DATA_HML.reset_index(),\n",
    "    DATA_OLI.reset_index()\n",
    "])[['SITE_NAME','AP','LG','LOREAL','LVMH']]\n",
    "TOTAL.sort_values(by=['SITE_NAME']).set_index('SITE_NAME')"
   ]
  },
  {
   "cell_type": "code",
   "execution_count": null,
   "metadata": {},
   "outputs": [],
   "source": []
  }
 ],
 "metadata": {
  "kernelspec": {
   "display_name": "Python 3",
   "language": "python",
   "name": "python3"
  },
  "language_info": {
   "codemirror_mode": {
    "name": "ipython",
    "version": 3
   },
   "file_extension": ".py",
   "mimetype": "text/x-python",
   "name": "python",
   "nbconvert_exporter": "python",
   "pygments_lexer": "ipython3",
   "version": "3.6.3"
  }
 },
 "nbformat": 4,
 "nbformat_minor": 2
}
