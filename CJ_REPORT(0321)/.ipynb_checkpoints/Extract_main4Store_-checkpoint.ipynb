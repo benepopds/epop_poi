{
 "cells": [
  {
   "cell_type": "markdown",
   "metadata": {},
   "source": [
    "# 외식 150건 이상 , 2017년 이전 4개상점 방문자 id"
   ]
  },
  {
   "cell_type": "code",
   "execution_count": null,
   "metadata": {},
   "outputs": [],
   "source": [
    "import pymysql, pandas as pd\n",
    "\n",
    "conn = pymysql.connect(host='133.186.143.151', port=13306, user='eums', password='eums00!q', db='eums-shared', charset='utf8')\n",
    "curs = conn.cursor(pymysql.cursors.DictCursor)\n",
    "curs.execute(\"select ID AS COMPANY_ID, CO_NAME, ADDR,SIDO,SIGUNGU,DONG FROM MEUMS_COMPANY WHERE CATE_CODE = 'C12';\")\n",
    "restaurant = pd.DataFrame( curs.fetchall() )[['COMPANY_ID','CO_NAME','ADDR']]\n",
    "conn.close()\n",
    "print(restaurant.shape)\n",
    "restaurant.head()\n",
    "\n",
    "rstt= restaurant[restaurant['CO_NAME'].str.contains('점')]\n",
    "print(rstt.shape)\n",
    "rstt.head()\n",
    "\n",
    "rstt['CO_NAME'].str.split(' ', expand=True).loc[:,0:1].head()\n",
    "temp = rstt['CO_NAME'].str.split(' ', expand=True).loc[:,0:1]\n",
    "rstt_coName= pd.DataFrame([])\n",
    "rstt_coName['name'] = temp.loc[:,0]\n",
    "rstt_coName['branch'] = temp.loc[:,1]\n",
    "rstt_coName.head()"
   ]
  },
  {
   "cell_type": "code",
   "execution_count": null,
   "metadata": {},
   "outputs": [],
   "source": [
    "rstt_count = pd.DataFrame(rstt_coName['name'].value_counts())\n",
    "print(rstt_count.shape)\n",
    "rstt_count.head()\n",
    "\n",
    "#지점이 7개이상 1000개 이하인 상점\n",
    "# 1000개이상은 롯데리아, BBQ처럼 오래전부터 외식최강기업 : 너무 유명한 곳 제거(불필요한 데이터를 상당부분 차지하기 때문) \n",
    "temp = rstt_count[(rstt_count['name']<800)&(rstt_count['name']>6)]\n",
    "temp.shape#.shape #3364\n",
    "temp=temp.reset_index()\n",
    "temp.head()\n",
    "rstt['name'] = rstt['CO_NAME'].str.split(' ', expand=True).loc[:,0]\n",
    "rstt.head()"
   ]
  }
 ],
 "metadata": {
  "kernelspec": {
   "display_name": "Python 3",
   "language": "python",
   "name": "python3"
  },
  "language_info": {
   "codemirror_mode": {
    "name": "ipython",
    "version": 3
   },
   "file_extension": ".py",
   "mimetype": "text/x-python",
   "name": "python",
   "nbconvert_exporter": "python",
   "pygments_lexer": "ipython3",
   "version": "3.6.3"
  }
 },
 "nbformat": 4,
 "nbformat_minor": 2
}
