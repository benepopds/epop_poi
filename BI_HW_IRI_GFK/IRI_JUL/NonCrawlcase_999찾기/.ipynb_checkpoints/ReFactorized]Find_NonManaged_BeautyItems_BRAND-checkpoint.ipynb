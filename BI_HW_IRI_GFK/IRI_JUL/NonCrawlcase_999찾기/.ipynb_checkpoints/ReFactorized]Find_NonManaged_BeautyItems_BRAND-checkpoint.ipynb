{
 "cells": [
  {
   "cell_type": "markdown",
   "metadata": {},
   "source": [
    "### Inventory of stock items, not managed for a month."
   ]
  },
  {
   "cell_type": "code",
   "execution_count": 1,
   "metadata": {},
   "outputs": [],
   "source": [
    "import pandas as pd"
   ]
  },
  {
   "cell_type": "code",
   "execution_count": 2,
   "metadata": {},
   "outputs": [],
   "source": [
    "gsshop=pd.read_pickle('data/GSS0713.pk')\n",
    "olive=pd.read_pickle('data/OLI0713.pk')\n",
    "hmall=pd.read_pickle('data/HMA0713.pk')"
   ]
  },
  {
   "cell_type": "markdown",
   "metadata": {},
   "source": [
    "### SELL_AMOUNT == 0 찾기\n",
    "### STOCK_AMOUNT == 9999 찾기"
   ]
  },
  {
   "cell_type": "code",
   "execution_count": 3,
   "metadata": {},
   "outputs": [],
   "source": [
    "def sell_0_and_stock_999(data):\n",
    "    Q_SALES = data.groupby('ITEM_ID').SELL_AMOUNT.sum().reset_index()\n",
    "    Q_SALES_ZERO = Q_SALES[Q_SALES.SELL_AMOUNT==0]\n",
    "    print('Q_SALES: ',Q_SALES.shape,'Q_SALES_ZERO: ',Q_SALES_ZERO.shape)\n",
    "    \n",
    "    DATA_ZERO = \\\n",
    "    data[data.ITEM_ID.isin(Q_SALES_ZERO.ITEM_ID\n",
    "                          )][['ITEM_ID','STOCK_ID','SELL_AMOUNT','STOCK_AMOUNT','COLLECT_DAY','BRAND','CATE_NAMES']]\n",
    "\n",
    "\n",
    "    DATA_ZERO.loc[DATA_ZERO['STOCK_AMOUNT'].isna(),'STOCK_AMOUNT']=0\n",
    "    a = DATA_ZERO.groupby('ITEM_ID').STOCK_AMOUNT.nunique()\n",
    "    DATA_ZERO= DATA_ZERO[DATA_ZERO.ITEM_ID.isin(a[a==1].reset_index().ITEM_ID.tolist())]\n",
    "    DATA_ZERO['STOCK_AMOUNT'] = DATA_ZERO['STOCK_AMOUNT'].astype('int')\n",
    "    DATA_ZERO['STOCK_AMOUNT'] = DATA_ZERO['STOCK_AMOUNT'].astype('str')\n",
    "    DATA_ZERO_VALUE_999 = DATA_ZERO[DATA_ZERO.STOCK_AMOUNT.str.contains('^99+$')]\n",
    "    print('DATA_ZERO: ',DATA_ZERO.shape,'DATA_ZERO_VALUE_999: ',DATA_ZERO_VALUE_999.shape) \n",
    "    print('DATA_ZERO_VALUE_999 : %d'%DATA_ZERO_VALUE_999.ITEM_ID.nunique())\n",
    "    return DATA_ZERO_VALUE_999"
   ]
  },
  {
   "cell_type": "code",
   "execution_count": 4,
   "metadata": {},
   "outputs": [],
   "source": [
    "def get_brand_ivt(data,site):#'GSSHOP'\n",
    "    data['SITE_NAME']=site\n",
    "    IVT_SITE = data.groupby(['SITE_NAME','BRAND']).ITEM_ID.nunique().reset_index().pivot(\n",
    "    index='SITE_NAME',columns='BRAND',values='ITEM_ID')\n",
    "    print('IVT_%s : '%site, IVT_SITE.shape)\n",
    "    return IVT_SITE\n",
    "def get_brand(DATA_ZERO_VALUE_999,site):#'GSSHOP'\n",
    "    DATA_ZERO_VALUE_999['SITE_NAME']=site\n",
    "    DATA_ZERO_VALUE_999_pivot= \\\n",
    "    DATA_ZERO_VALUE_999.groupby(['SITE_NAME','BRAND']).ITEM_ID.nunique().reset_index().pivot(\n",
    "    index='SITE_NAME',columns='BRAND',values='ITEM_ID')\n",
    "    DATA_ZERO_VALUE_999_pivot=DATA_ZERO_VALUE_999_pivot.fillna(0)\n",
    "    print('DATA_%s : '%site, DATA_ZERO_VALUE_999_pivot.shape)\n",
    "    return DATA_ZERO_VALUE_999_pivot\n",
    "    "
   ]
  },
  {
   "cell_type": "markdown",
   "metadata": {},
   "source": [
    "# [ALL] Inventory by Brand"
   ]
  },
  {
   "cell_type": "code",
   "execution_count": 5,
   "metadata": {},
   "outputs": [
    {
     "name": "stdout",
     "output_type": "stream",
     "text": [
      "IVT_GSSHOP :  (1, 5)\n",
      "IVT_HMALL :  (1, 5)\n",
      "IVT_OLIVE :  (1, 5)\n",
      "Q_SALES:  (49620, 2) Q_SALES_ZERO:  (28626, 2)\n",
      "DATA_ZERO:  (7208, 7) DATA_ZERO_VALUE_999:  (984, 7)\n",
      "DATA_ZERO_VALUE_999 : 692\n",
      "Q_SALES:  (35133, 2) Q_SALES_ZERO:  (21913, 2)\n",
      "DATA_ZERO:  (78170, 7) DATA_ZERO_VALUE_999:  (16895, 7)\n",
      "DATA_ZERO_VALUE_999 : 780\n",
      "Q_SALES:  (7334, 2) Q_SALES_ZERO:  (665, 2)\n",
      "DATA_ZERO:  (9956, 7) DATA_ZERO_VALUE_999:  (87, 7)\n",
      "DATA_ZERO_VALUE_999 : 1\n",
      "DATA_GSSHOP :  (1, 5)\n",
      "DATA_HMALL :  (1, 5)\n",
      "DATA_OLIVE :  (1, 1)\n"
     ]
    }
   ],
   "source": [
    "# gsshop=pd.read_pickle('data/GSS_SELL.pk')\n",
    "# olive=pd.read_pickle('data/OLI_SELL.pk')\n",
    "# hmall=pd.read_pickle('data/HMA_SELL.pk')\n",
    "\n",
    "IVT_GS=get_brand_ivt(gsshop,'GSSHOP')\n",
    "IVT_HML=get_brand_ivt(hmall,'HMALL')\n",
    "IVT_OLI=get_brand_ivt(olive,'OLIVE')\n",
    "\n",
    "GSSHOP= sell_0_and_stock_999(gsshop)\n",
    "HMALL= sell_0_and_stock_999(hmall)\n",
    "OLIVE= sell_0_and_stock_999(olive)\n",
    "\n",
    "DATA_GS=get_brand(GSSHOP,'GSSHOP')\n",
    "DATA_HML=get_brand(HMALL,'HMALL')\n",
    "DATA_OLI=get_brand(OLIVE,'OLIVE')"
   ]
  },
  {
   "cell_type": "code",
   "execution_count": 6,
   "metadata": {},
   "outputs": [
    {
     "data": {
      "text/html": [
       "<div>\n",
       "<style scoped>\n",
       "    .dataframe tbody tr th:only-of-type {\n",
       "        vertical-align: middle;\n",
       "    }\n",
       "\n",
       "    .dataframe tbody tr th {\n",
       "        vertical-align: top;\n",
       "    }\n",
       "\n",
       "    .dataframe thead th {\n",
       "        text-align: right;\n",
       "    }\n",
       "</style>\n",
       "<table border=\"1\" class=\"dataframe\">\n",
       "  <thead>\n",
       "    <tr style=\"text-align: right;\">\n",
       "      <th>BRAND</th>\n",
       "      <th>AP</th>\n",
       "      <th>LG</th>\n",
       "      <th>LOREAL</th>\n",
       "      <th>LVMH</th>\n",
       "      <th>init</th>\n",
       "    </tr>\n",
       "    <tr>\n",
       "      <th>SITE_NAME</th>\n",
       "      <th></th>\n",
       "      <th></th>\n",
       "      <th></th>\n",
       "      <th></th>\n",
       "      <th></th>\n",
       "    </tr>\n",
       "  </thead>\n",
       "  <tbody>\n",
       "    <tr>\n",
       "      <th>OLIVE</th>\n",
       "      <td>244</td>\n",
       "      <td>468</td>\n",
       "      <td>193</td>\n",
       "      <td>85</td>\n",
       "      <td>6344</td>\n",
       "    </tr>\n",
       "  </tbody>\n",
       "</table>\n",
       "</div>"
      ],
      "text/plain": [
       "BRAND       AP   LG  LOREAL  LVMH  init\n",
       "SITE_NAME                              \n",
       "OLIVE      244  468     193    85  6344"
      ]
     },
     "execution_count": 6,
     "metadata": {},
     "output_type": "execute_result"
    }
   ],
   "source": [
    "IVT_OLI.head(3)"
   ]
  },
  {
   "cell_type": "code",
   "execution_count": 7,
   "metadata": {},
   "outputs": [
    {
     "data": {
      "text/html": [
       "<div>\n",
       "<style scoped>\n",
       "    .dataframe tbody tr th:only-of-type {\n",
       "        vertical-align: middle;\n",
       "    }\n",
       "\n",
       "    .dataframe tbody tr th {\n",
       "        vertical-align: top;\n",
       "    }\n",
       "\n",
       "    .dataframe thead th {\n",
       "        text-align: right;\n",
       "    }\n",
       "</style>\n",
       "<table border=\"1\" class=\"dataframe\">\n",
       "  <thead>\n",
       "    <tr style=\"text-align: right;\">\n",
       "      <th>BRAND</th>\n",
       "      <th>AP</th>\n",
       "      <th>LG</th>\n",
       "      <th>LOREAL</th>\n",
       "      <th>LVMH</th>\n",
       "    </tr>\n",
       "    <tr>\n",
       "      <th>SITE_NAME</th>\n",
       "      <th></th>\n",
       "      <th></th>\n",
       "      <th></th>\n",
       "      <th></th>\n",
       "    </tr>\n",
       "  </thead>\n",
       "  <tbody>\n",
       "    <tr>\n",
       "      <th>GSSHOP</th>\n",
       "      <td>3823</td>\n",
       "      <td>3386</td>\n",
       "      <td>1303</td>\n",
       "      <td>1895</td>\n",
       "    </tr>\n",
       "    <tr>\n",
       "      <th>HMALL</th>\n",
       "      <td>4424</td>\n",
       "      <td>2839</td>\n",
       "      <td>1210</td>\n",
       "      <td>1401</td>\n",
       "    </tr>\n",
       "    <tr>\n",
       "      <th>OLIVE</th>\n",
       "      <td>244</td>\n",
       "      <td>468</td>\n",
       "      <td>193</td>\n",
       "      <td>85</td>\n",
       "    </tr>\n",
       "  </tbody>\n",
       "</table>\n",
       "</div>"
      ],
      "text/plain": [
       "BRAND        AP    LG  LOREAL  LVMH\n",
       "SITE_NAME                          \n",
       "GSSHOP     3823  3386    1303  1895\n",
       "HMALL      4424  2839    1210  1401\n",
       "OLIVE       244   468     193    85"
      ]
     },
     "execution_count": 7,
     "metadata": {},
     "output_type": "execute_result"
    }
   ],
   "source": [
    "TOTAL_IVT = pd.concat([\n",
    "    IVT_GS.reset_index(),\n",
    "    IVT_HML.reset_index(),\n",
    "    IVT_OLI.reset_index()\n",
    "])[['SITE_NAME','AP','LG','LOREAL','LVMH']]\n",
    "TOTAL_IVT.sort_values(by=['SITE_NAME']).set_index('SITE_NAME')"
   ]
  },
  {
   "cell_type": "markdown",
   "metadata": {},
   "source": [
    "# [999case] Inventory by Brand"
   ]
  },
  {
   "cell_type": "code",
   "execution_count": 8,
   "metadata": {},
   "outputs": [
    {
     "data": {
      "text/html": [
       "<div>\n",
       "<style scoped>\n",
       "    .dataframe tbody tr th:only-of-type {\n",
       "        vertical-align: middle;\n",
       "    }\n",
       "\n",
       "    .dataframe tbody tr th {\n",
       "        vertical-align: top;\n",
       "    }\n",
       "\n",
       "    .dataframe thead th {\n",
       "        text-align: right;\n",
       "    }\n",
       "</style>\n",
       "<table border=\"1\" class=\"dataframe\">\n",
       "  <thead>\n",
       "    <tr style=\"text-align: right;\">\n",
       "      <th>BRAND</th>\n",
       "      <th>init</th>\n",
       "    </tr>\n",
       "    <tr>\n",
       "      <th>SITE_NAME</th>\n",
       "      <th></th>\n",
       "    </tr>\n",
       "  </thead>\n",
       "  <tbody>\n",
       "    <tr>\n",
       "      <th>OLIVE</th>\n",
       "      <td>1</td>\n",
       "    </tr>\n",
       "  </tbody>\n",
       "</table>\n",
       "</div>"
      ],
      "text/plain": [
       "BRAND      init\n",
       "SITE_NAME      \n",
       "OLIVE         1"
      ]
     },
     "execution_count": 8,
     "metadata": {},
     "output_type": "execute_result"
    }
   ],
   "source": [
    "DATA_OLI.head(1)"
   ]
  },
  {
   "cell_type": "raw",
   "metadata": {},
   "source": [
    "# DATA_OLI= DATA_HML[['AP','LG','LOREAL','LVMH']]\n",
    "DATA_OLI['AP']=0\n",
    "DATA_OLI['LG']=0\n",
    "DATA_OLI['LOREAL']=0\n",
    "DATA_OLI['LVMH']=0\n",
    "DATA_OLI=DATA_OLI[['AP','LG','LOREAL','LVMH']]\n",
    "print(DATA_OLI.shape);DATA_OLI.head(8)\n"
   ]
  },
  {
   "cell_type": "code",
   "execution_count": 10,
   "metadata": {},
   "outputs": [
    {
     "data": {
      "text/html": [
       "<div>\n",
       "<style scoped>\n",
       "    .dataframe tbody tr th:only-of-type {\n",
       "        vertical-align: middle;\n",
       "    }\n",
       "\n",
       "    .dataframe tbody tr th {\n",
       "        vertical-align: top;\n",
       "    }\n",
       "\n",
       "    .dataframe thead th {\n",
       "        text-align: right;\n",
       "    }\n",
       "</style>\n",
       "<table border=\"1\" class=\"dataframe\">\n",
       "  <thead>\n",
       "    <tr style=\"text-align: right;\">\n",
       "      <th></th>\n",
       "      <th>AP</th>\n",
       "      <th>LG</th>\n",
       "      <th>LOREAL</th>\n",
       "      <th>LVMH</th>\n",
       "    </tr>\n",
       "    <tr>\n",
       "      <th>SITE_NAME</th>\n",
       "      <th></th>\n",
       "      <th></th>\n",
       "      <th></th>\n",
       "      <th></th>\n",
       "    </tr>\n",
       "  </thead>\n",
       "  <tbody>\n",
       "    <tr>\n",
       "      <th>GSSHOP</th>\n",
       "      <td>29</td>\n",
       "      <td>114</td>\n",
       "      <td>47</td>\n",
       "      <td>9</td>\n",
       "    </tr>\n",
       "    <tr>\n",
       "      <th>HMALL</th>\n",
       "      <td>32</td>\n",
       "      <td>165</td>\n",
       "      <td>6</td>\n",
       "      <td>17</td>\n",
       "    </tr>\n",
       "    <tr>\n",
       "      <th>OLIVE</th>\n",
       "      <td>0</td>\n",
       "      <td>0</td>\n",
       "      <td>0</td>\n",
       "      <td>0</td>\n",
       "    </tr>\n",
       "  </tbody>\n",
       "</table>\n",
       "</div>"
      ],
      "text/plain": [
       "           AP   LG  LOREAL  LVMH\n",
       "SITE_NAME                       \n",
       "GSSHOP     29  114      47     9\n",
       "HMALL      32  165       6    17\n",
       "OLIVE       0    0       0     0"
      ]
     },
     "execution_count": 10,
     "metadata": {},
     "output_type": "execute_result"
    }
   ],
   "source": [
    "TOTAL = pd.concat([\n",
    "    DATA_GS.reset_index(),\n",
    "    DATA_HML.reset_index(),\n",
    "    DATA_OLI.reset_index()\n",
    "])[['SITE_NAME','AP','LG','LOREAL','LVMH']]\n",
    "TOTAL.sort_values(by=['SITE_NAME']).set_index('SITE_NAME')"
   ]
  },
  {
   "cell_type": "code",
   "execution_count": null,
   "metadata": {},
   "outputs": [],
   "source": []
  }
 ],
 "metadata": {
  "kernelspec": {
   "display_name": "Python 3",
   "language": "python",
   "name": "python3"
  },
  "language_info": {
   "codemirror_mode": {
    "name": "ipython",
    "version": 3
   },
   "file_extension": ".py",
   "mimetype": "text/x-python",
   "name": "python",
   "nbconvert_exporter": "python",
   "pygments_lexer": "ipython3",
   "version": "3.6.3"
  }
 },
 "nbformat": 4,
 "nbformat_minor": 2
}
