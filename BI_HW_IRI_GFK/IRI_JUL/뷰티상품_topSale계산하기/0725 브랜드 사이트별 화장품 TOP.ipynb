{
 "cells": [
  {
   "cell_type": "code",
   "execution_count": 1,
   "metadata": {},
   "outputs": [],
   "source": [
    "import pandas as pd\n"
   ]
  },
  {
   "cell_type": "code",
   "execution_count": 2,
   "metadata": {},
   "outputs": [],
   "source": [
    "GSS = pd.read_pickle('data0725/GSS_top30.pk')\n",
    "HMA = pd.read_pickle('data0725/HMA_top30.pk')\n",
    "OLI = pd.read_pickle('data0725/OLI_top30.pk')"
   ]
  },
  {
   "cell_type": "code",
   "execution_count": 14,
   "metadata": {},
   "outputs": [
    {
     "data": {
      "text/html": [
       "<div>\n",
       "<style scoped>\n",
       "    .dataframe tbody tr th:only-of-type {\n",
       "        vertical-align: middle;\n",
       "    }\n",
       "\n",
       "    .dataframe tbody tr th {\n",
       "        vertical-align: top;\n",
       "    }\n",
       "\n",
       "    .dataframe thead th {\n",
       "        text-align: right;\n",
       "    }\n",
       "</style>\n",
       "<table border=\"1\" class=\"dataframe\">\n",
       "  <thead>\n",
       "    <tr style=\"text-align: right;\">\n",
       "      <th></th>\n",
       "      <th>ITEM_ID</th>\n",
       "      <th>STOCK_ID</th>\n",
       "      <th>ITEM_NUM</th>\n",
       "      <th>GOODS_NAME</th>\n",
       "      <th>NORMAL_PRICE_SITE</th>\n",
       "      <th>BRAND_NAME</th>\n",
       "      <th>CATE_NAMES</th>\n",
       "      <th>BRAND</th>\n",
       "      <th>SITE_NO</th>\n",
       "      <th>COLLECT_URL</th>\n",
       "      <th>SELL_AMOUNT</th>\n",
       "    </tr>\n",
       "  </thead>\n",
       "  <tbody>\n",
       "    <tr>\n",
       "      <th>24414</th>\n",
       "      <td>6665382</td>\n",
       "      <td>13062930</td>\n",
       "      <td>2059596366</td>\n",
       "      <td>라네즈 워터슬리핑 마스크 70ML (구매금액별 증정 제외)</td>\n",
       "      <td>28000</td>\n",
       "      <td>라네즈</td>\n",
       "      <td>스킨케어&gt;마스크/팩</td>\n",
       "      <td>AP</td>\n",
       "      <td>3</td>\n",
       "      <td>http://www.hyundaihmall.com/front/pda/itemPtc....</td>\n",
       "      <td>4443.0</td>\n",
       "    </tr>\n",
       "  </tbody>\n",
       "</table>\n",
       "</div>"
      ],
      "text/plain": [
       "       ITEM_ID  STOCK_ID    ITEM_NUM                        GOODS_NAME  \\\n",
       "24414  6665382  13062930  2059596366  라네즈 워터슬리핑 마스크 70ML (구매금액별 증정 제외)   \n",
       "\n",
       "       NORMAL_PRICE_SITE BRAND_NAME  CATE_NAMES BRAND  SITE_NO  \\\n",
       "24414              28000        라네즈  스킨케어>마스크/팩    AP        3   \n",
       "\n",
       "                                             COLLECT_URL  SELL_AMOUNT  \n",
       "24414  http://www.hyundaihmall.com/front/pda/itemPtc....       4443.0  "
      ]
     },
     "execution_count": 14,
     "metadata": {},
     "output_type": "execute_result"
    }
   ],
   "source": [
    "HMA.head(1)"
   ]
  },
  {
   "cell_type": "markdown",
   "metadata": {},
   "source": [
    "### PreProcessing - removal"
   ]
  },
  {
   "cell_type": "code",
   "execution_count": null,
   "metadata": {},
   "outputs": [],
   "source": [
    "# GSS[GSS.BRAND=='LVMH'].sort_values(by=['SELL_AMOUNT'],ascending=False)\n",
    "# GSS[GSS.BRAND=='init'].sort_values(by=['SELL_AMOUNT'],ascending=False)\n",
    "GSS[(GSS.ITEM_ID==8866616)&(GSS.BRAND=='LVMH')].sort_values(by=['SELL_AMOUNT'],ascending=False)"
   ]
  },
  {
   "cell_type": "code",
   "execution_count": 16,
   "metadata": {},
   "outputs": [
    {
     "data": {
      "text/html": [
       "<div>\n",
       "<style scoped>\n",
       "    .dataframe tbody tr th:only-of-type {\n",
       "        vertical-align: middle;\n",
       "    }\n",
       "\n",
       "    .dataframe tbody tr th {\n",
       "        vertical-align: top;\n",
       "    }\n",
       "\n",
       "    .dataframe thead th {\n",
       "        text-align: right;\n",
       "    }\n",
       "</style>\n",
       "<table border=\"1\" class=\"dataframe\">\n",
       "  <thead>\n",
       "    <tr style=\"text-align: right;\">\n",
       "      <th></th>\n",
       "      <th>ITEM_ID</th>\n",
       "      <th>BRAND</th>\n",
       "    </tr>\n",
       "  </thead>\n",
       "  <tbody>\n",
       "    <tr>\n",
       "      <th>0</th>\n",
       "      <td>8866616</td>\n",
       "      <td>LVMH</td>\n",
       "    </tr>\n",
       "    <tr>\n",
       "      <th>1</th>\n",
       "      <td>1907459</td>\n",
       "      <td>init</td>\n",
       "    </tr>\n",
       "    <tr>\n",
       "      <th>2</th>\n",
       "      <td>8427631</td>\n",
       "      <td>init</td>\n",
       "    </tr>\n",
       "    <tr>\n",
       "      <th>3</th>\n",
       "      <td>447103</td>\n",
       "      <td>init</td>\n",
       "    </tr>\n",
       "    <tr>\n",
       "      <th>4</th>\n",
       "      <td>1909086</td>\n",
       "      <td>init</td>\n",
       "    </tr>\n",
       "    <tr>\n",
       "      <th>5</th>\n",
       "      <td>11412866</td>\n",
       "      <td>init</td>\n",
       "    </tr>\n",
       "  </tbody>\n",
       "</table>\n",
       "</div>"
      ],
      "text/plain": [
       "    ITEM_ID BRAND\n",
       "0   8866616  LVMH\n",
       "1   1907459  init\n",
       "2   8427631  init\n",
       "3    447103  init\n",
       "4   1909086  init\n",
       "5  11412866  init"
      ]
     },
     "execution_count": 16,
     "metadata": {},
     "output_type": "execute_result"
    }
   ],
   "source": [
    "#REMOVAL                                                            \n",
    "removal = pd.DataFrame([])\n",
    "removal['ITEM_ID'] = [8866616,1907459,8427631,447103,1909086,11412866]\n",
    "removal['BRAND'] = ['LVMH','init','init','init','init','init']\n",
    "removal"
   ]
  },
  {
   "cell_type": "code",
   "execution_count": 28,
   "metadata": {},
   "outputs": [
    {
     "name": "stdout",
     "output_type": "stream",
     "text": [
      "(500, 11)\n",
      "0 (499, 11)\n",
      "1 (498, 11)\n",
      "2 (497, 11)\n",
      "3 (496, 11)\n",
      "4 (495, 11)\n",
      "5 (494, 11)\n",
      "(500, 11)\n",
      "0 (500, 11)\n",
      "1 (500, 11)\n",
      "2 (500, 11)\n",
      "3 (500, 11)\n",
      "4 (500, 11)\n",
      "5 (500, 11)\n",
      "(485, 11)\n",
      "0 (485, 11)\n",
      "1 (485, 11)\n",
      "2 (485, 11)\n",
      "3 (485, 11)\n",
      "4 (485, 11)\n",
      "5 (485, 11)\n"
     ]
    }
   ],
   "source": [
    "for df in [GSS,HMA,OLI]:\n",
    "    print(df.shape)\n",
    "    for index, data in removal.iterrows():\n",
    "        df=df[~((df.ITEM_ID ==data['ITEM_ID'])&(df.BRAND ==data['BRAND']))]\n",
    "        print(index,df[~((df.ITEM_ID ==data['ITEM_ID'])&(df.BRAND ==data['BRAND']))].shape)"
   ]
  },
  {
   "cell_type": "code",
   "execution_count": 31,
   "metadata": {},
   "outputs": [
    {
     "name": "stdout",
     "output_type": "stream",
     "text": [
      "0 (499, 11)\n",
      "1 (498, 11)\n",
      "2 (497, 11)\n",
      "3 (496, 11)\n",
      "4 (495, 11)\n",
      "5 (494, 11)\n"
     ]
    },
    {
     "data": {
      "text/plain": [
       "(494, 11)"
      ]
     },
     "execution_count": 31,
     "metadata": {},
     "output_type": "execute_result"
    }
   ],
   "source": [
    "for index, data in removal.iterrows():\n",
    "    GSS=GSS[~((GSS.ITEM_ID ==data['ITEM_ID'])&(GSS.BRAND ==data['BRAND']))]\n",
    "    print(index,GSS[~((GSS.ITEM_ID ==data['ITEM_ID'])&(GSS.BRAND ==data['BRAND']))].shape)\n",
    "GSS.shape"
   ]
  },
  {
   "cell_type": "raw",
   "metadata": {},
   "source": [
    "GSS.to_pickle('data0725/GSS_R_top30.pk') \n",
    "HMA.to_pickle('data0725/HMA_R_top30.pk') \n",
    "OLI.to_pickle('data0725/OLI_R_top30.pk') "
   ]
  },
  {
   "cell_type": "markdown",
   "metadata": {},
   "source": [
    "### PreProcessing - ADD COLUMNS\n",
    "* SITENAME 쇼핑몰\n",
    "* BRAND 제조사\n",
    "* CATE1, CATE2 카테고리 분리\n",
    "* AMT_SALES 매출액"
   ]
  },
  {
   "cell_type": "code",
   "execution_count": 75,
   "metadata": {},
   "outputs": [],
   "source": [
    "def map_site_noToName(siteNo):\n",
    "    if siteNo == 1:\n",
    "        return 'GSSHOP'\n",
    "    elif siteNo == 3:\n",
    "        return 'HMALL'\n",
    "    elif siteNo == 4 :\n",
    "        return 'OLIVE'\n",
    "def map_Brand(br):\n",
    "    if br == 'AP':\n",
    "        return '아모레퍼시픽'\n",
    "    elif br == 'LG':\n",
    "        return 'LG화장품'\n",
    "    elif br == 'LOREAL':\n",
    "        return '로레알'\n",
    "    elif br == 'init' :\n",
    "        return '4개사 이외'\n",
    "    else :\n",
    "        return br\n"
   ]
  },
  {
   "cell_type": "code",
   "execution_count": 99,
   "metadata": {},
   "outputs": [],
   "source": [
    "def refine_df(df):\n",
    "    df=df.assign(SITENAME = df.apply(lambda x : map_site_noToName(x['SITE_NO']),axis=1))\n",
    "    df=df.assign(BRAND = df.apply(lambda x : map_Brand(x['BRAND']),axis=1))\n",
    "    df = df.assign(CATE1=df.apply(lambda x : x.CATE_NAMES.split('>')[0],axis=1))\n",
    "    df = df.assign(CATE2=df.apply(lambda x : x.CATE_NAMES.split('>')[1],axis=1))\n",
    "    df=df.assign(AMT_SALES=df.apply(lambda x : x['NORMAL_PRICE_SITE']*x['SELL_AMOUNT'],axis=1))\n",
    "    df=df.reset_index()\n",
    "    df = df.sort_values(by=['AMT_SALES'],ascending =False)[:100]\n",
    "    df = df[['GOODS_NAME','NORMAL_PRICE_SITE','BRAND_NAME',\\\n",
    "                 'CATE1','CATE2','BRAND','SITENAME','COLLECT_URL','SELL_AMOUNT','AMT_SALES']]\n",
    "    df.columns =['상품명','정상가','브랜드',\\\n",
    "             '카테고리1','카테고리2','제조사','쇼핑몰','상품URL','판매량','매출액']   \n",
    "    \n",
    "    return df"
   ]
  },
  {
   "cell_type": "markdown",
   "metadata": {},
   "source": [
    "### 전체- 사이트별(브랜드상관없이)"
   ]
  },
  {
   "cell_type": "code",
   "execution_count": 100,
   "metadata": {},
   "outputs": [],
   "source": [
    "df_list = []\n",
    "\n",
    "writer = pd.ExcelWriter('data0725/total_Bysite.xlsx')\n",
    "for  key, dfs in {'GSS':GSS,'HMA':HMA,'OLI':OLI}.items():\n",
    "    refine_df(dfs).to_excel(writer,key+'_매출액순')\n",
    "    df_list.append(refine_df(dfs))\n",
    "# df_list[0].head()\n",
    "writer.save()"
   ]
  },
  {
   "cell_type": "code",
   "execution_count": 101,
   "metadata": {},
   "outputs": [
    {
     "data": {
      "text/html": [
       "<div>\n",
       "<style scoped>\n",
       "    .dataframe tbody tr th:only-of-type {\n",
       "        vertical-align: middle;\n",
       "    }\n",
       "\n",
       "    .dataframe tbody tr th {\n",
       "        vertical-align: top;\n",
       "    }\n",
       "\n",
       "    .dataframe thead th {\n",
       "        text-align: right;\n",
       "    }\n",
       "</style>\n",
       "<table border=\"1\" class=\"dataframe\">\n",
       "  <thead>\n",
       "    <tr style=\"text-align: right;\">\n",
       "      <th></th>\n",
       "      <th>상품명</th>\n",
       "      <th>정상가</th>\n",
       "      <th>브랜드</th>\n",
       "      <th>카테고리1</th>\n",
       "      <th>카테고리2</th>\n",
       "      <th>제조사</th>\n",
       "      <th>쇼핑몰</th>\n",
       "      <th>상품URL</th>\n",
       "      <th>판매량</th>\n",
       "      <th>매출액</th>\n",
       "    </tr>\n",
       "  </thead>\n",
       "  <tbody>\n",
       "    <tr>\n",
       "      <th>110</th>\n",
       "      <td>[LG전자][18만원할인가] 프라엘 심화세트 리프트케어+LED마스크</td>\n",
       "      <td>1016000</td>\n",
       "      <td>LG전자</td>\n",
       "      <td>스킨케어</td>\n",
       "      <td>마스크/팩</td>\n",
       "      <td>LG화장품</td>\n",
       "      <td>GSSHOP</td>\n",
       "      <td>http://www.gsshop.com/prd/prd.gs?prdid=29145998</td>\n",
       "      <td>1002.0</td>\n",
       "      <td>1.018032e+09</td>\n",
       "    </tr>\n",
       "    <tr>\n",
       "      <th>465</th>\n",
       "      <td>실큰 플래시앤고 IPL 제모기+추가 카트리지 (총 40만 5천회)</td>\n",
       "      <td>299000</td>\n",
       "      <td>실큰</td>\n",
       "      <td>바디/헤어</td>\n",
       "      <td>툴/소품</td>\n",
       "      <td>4개사 이외</td>\n",
       "      <td>GSSHOP</td>\n",
       "      <td>http://www.gsshop.com/prd/prd.gs?prdid=31241792</td>\n",
       "      <td>2877.0</td>\n",
       "      <td>8.602230e+08</td>\n",
       "    </tr>\n",
       "    <tr>\n",
       "      <th>424</th>\n",
       "      <td>사이오스 골드라벨 헤어컬러 12개+샴푸1+컨디1</td>\n",
       "      <td>79800</td>\n",
       "      <td>사이오스</td>\n",
       "      <td>바디/헤어</td>\n",
       "      <td>헤어케어</td>\n",
       "      <td>4개사 이외</td>\n",
       "      <td>GSSHOP</td>\n",
       "      <td>http://www.gsshop.com/prd/prd.gs?prdid=26178265</td>\n",
       "      <td>5985.0</td>\n",
       "      <td>4.776030e+08</td>\n",
       "    </tr>\n",
       "    <tr>\n",
       "      <th>405</th>\n",
       "      <td>키코 KIKO 오일프리 메트 Mousse 파운데이션</td>\n",
       "      <td>30500</td>\n",
       "      <td>미분류</td>\n",
       "      <td>메이크업</td>\n",
       "      <td>베이스</td>\n",
       "      <td>4개사 이외</td>\n",
       "      <td>GSSHOP</td>\n",
       "      <td>http://www.gsshop.com/prd/prd.gs?prdid=29099905</td>\n",
       "      <td>14000.0</td>\n",
       "      <td>4.270000e+08</td>\n",
       "    </tr>\n",
       "    <tr>\n",
       "      <th>302</th>\n",
       "      <td>[프레쉬] 향수 100ml (11종 택1)</td>\n",
       "      <td>131750</td>\n",
       "      <td>프레쉬</td>\n",
       "      <td>향수</td>\n",
       "      <td>남녀공용향수</td>\n",
       "      <td>LVMH</td>\n",
       "      <td>GSSHOP</td>\n",
       "      <td>http://www.gsshop.com/prd/prd.gs?prdid=28964820</td>\n",
       "      <td>2987.0</td>\n",
       "      <td>3.935372e+08</td>\n",
       "    </tr>\n",
       "  </tbody>\n",
       "</table>\n",
       "</div>"
      ],
      "text/plain": [
       "                                       상품명      정상가   브랜드  카테고리1   카테고리2  \\\n",
       "110  [LG전자][18만원할인가] 프라엘 심화세트 리프트케어+LED마스크  1016000  LG전자   스킨케어   마스크/팩   \n",
       "465   실큰 플래시앤고 IPL 제모기+추가 카트리지 (총 40만 5천회)   299000    실큰  바디/헤어    툴/소품   \n",
       "424             사이오스 골드라벨 헤어컬러 12개+샴푸1+컨디1    79800  사이오스  바디/헤어    헤어케어   \n",
       "405           키코 KIKO 오일프리 메트 Mousse 파운데이션    30500   미분류   메이크업     베이스   \n",
       "302                [프레쉬] 향수 100ml (11종 택1)   131750   프레쉬     향수  남녀공용향수   \n",
       "\n",
       "        제조사     쇼핑몰                                            상품URL      판매량  \\\n",
       "110   LG화장품  GSSHOP  http://www.gsshop.com/prd/prd.gs?prdid=29145998   1002.0   \n",
       "465  4개사 이외  GSSHOP  http://www.gsshop.com/prd/prd.gs?prdid=31241792   2877.0   \n",
       "424  4개사 이외  GSSHOP  http://www.gsshop.com/prd/prd.gs?prdid=26178265   5985.0   \n",
       "405  4개사 이외  GSSHOP  http://www.gsshop.com/prd/prd.gs?prdid=29099905  14000.0   \n",
       "302    LVMH  GSSHOP  http://www.gsshop.com/prd/prd.gs?prdid=28964820   2987.0   \n",
       "\n",
       "              매출액  \n",
       "110  1.018032e+09  \n",
       "465  8.602230e+08  \n",
       "424  4.776030e+08  \n",
       "405  4.270000e+08  \n",
       "302  3.935372e+08  "
      ]
     },
     "execution_count": 101,
     "metadata": {},
     "output_type": "execute_result"
    }
   ],
   "source": [
    "df_list[0].head()"
   ]
  },
  {
   "cell_type": "markdown",
   "metadata": {},
   "source": [
    "### 브랜드- 사이트별\n",
    "* 아모레\n",
    "* 로레알\n",
    "* LG\n",
    "* LVMH"
   ]
  },
  {
   "cell_type": "code",
   "execution_count": 102,
   "metadata": {},
   "outputs": [
    {
     "data": {
      "text/html": [
       "<div>\n",
       "<style scoped>\n",
       "    .dataframe tbody tr th:only-of-type {\n",
       "        vertical-align: middle;\n",
       "    }\n",
       "\n",
       "    .dataframe tbody tr th {\n",
       "        vertical-align: top;\n",
       "    }\n",
       "\n",
       "    .dataframe thead th {\n",
       "        text-align: right;\n",
       "    }\n",
       "</style>\n",
       "<table border=\"1\" class=\"dataframe\">\n",
       "  <thead>\n",
       "    <tr style=\"text-align: right;\">\n",
       "      <th></th>\n",
       "      <th>ITEM_ID</th>\n",
       "      <th>STOCK_ID</th>\n",
       "      <th>ITEM_NUM</th>\n",
       "      <th>GOODS_NAME</th>\n",
       "      <th>NORMAL_PRICE_SITE</th>\n",
       "      <th>BRAND_NAME</th>\n",
       "      <th>CATE_NAMES</th>\n",
       "      <th>BRAND</th>\n",
       "      <th>SITE_NO</th>\n",
       "      <th>COLLECT_URL</th>\n",
       "      <th>SELL_AMOUNT</th>\n",
       "    </tr>\n",
       "  </thead>\n",
       "  <tbody>\n",
       "    <tr>\n",
       "      <th>41049</th>\n",
       "      <td>7541381</td>\n",
       "      <td>29375979001</td>\n",
       "      <td>29375979</td>\n",
       "      <td>이니스프리 마이 파운데이션 (50종 택1)</td>\n",
       "      <td>20000</td>\n",
       "      <td>이니스프리</td>\n",
       "      <td>메이크업&gt;베이스</td>\n",
       "      <td>AP</td>\n",
       "      <td>1</td>\n",
       "      <td>http://www.gsshop.com/prd/prd.gs?prdid=29375979</td>\n",
       "      <td>4886.0</td>\n",
       "    </tr>\n",
       "  </tbody>\n",
       "</table>\n",
       "</div>"
      ],
      "text/plain": [
       "       ITEM_ID     STOCK_ID  ITEM_NUM               GOODS_NAME  \\\n",
       "41049  7541381  29375979001  29375979  이니스프리 마이 파운데이션 (50종 택1)   \n",
       "\n",
       "       NORMAL_PRICE_SITE BRAND_NAME CATE_NAMES BRAND  SITE_NO  \\\n",
       "41049              20000      이니스프리   메이크업>베이스    AP        1   \n",
       "\n",
       "                                           COLLECT_URL  SELL_AMOUNT  \n",
       "41049  http://www.gsshop.com/prd/prd.gs?prdid=29375979       4886.0  "
      ]
     },
     "execution_count": 102,
     "metadata": {},
     "output_type": "execute_result"
    }
   ],
   "source": [
    "GSS.columns\n",
    "GSS.head(1)"
   ]
  },
  {
   "cell_type": "code",
   "execution_count": 103,
   "metadata": {},
   "outputs": [
    {
     "data": {
      "text/plain": [
       "LG        100\n",
       "LOREAL    100\n",
       "AP        100\n",
       "LVMH       99\n",
       "init       95\n",
       "Name: BRAND, dtype: int64"
      ]
     },
     "execution_count": 103,
     "metadata": {},
     "output_type": "execute_result"
    }
   ],
   "source": [
    "GSS.BRAND.value_counts()"
   ]
  },
  {
   "cell_type": "code",
   "execution_count": 104,
   "metadata": {},
   "outputs": [],
   "source": [
    "for brand in ['AP','LG','LOREAL','LVMH']: \n",
    "    writer = pd.ExcelWriter('data0725/'+brand+'_Bysite.xlsx')\n",
    "    for  key, dfs in {'GSS':GSS[GSS.BRAND==brand],'HMA':HMA[HMA.BRAND==brand],'OLI':OLI[OLI.BRAND==brand]}.items():\n",
    "        refine_df(dfs).to_excel(writer,key+'_매출액순')\n",
    "    writer.save()"
   ]
  },
  {
   "cell_type": "code",
   "execution_count": null,
   "metadata": {},
   "outputs": [],
   "source": []
  }
 ],
 "metadata": {
  "kernelspec": {
   "display_name": "Python 3",
   "language": "python",
   "name": "python3"
  },
  "language_info": {
   "codemirror_mode": {
    "name": "ipython",
    "version": 3
   },
   "file_extension": ".py",
   "mimetype": "text/x-python",
   "name": "python",
   "nbconvert_exporter": "python",
   "pygments_lexer": "ipython3",
   "version": "3.6.3"
  }
 },
 "nbformat": 4,
 "nbformat_minor": 2
}
