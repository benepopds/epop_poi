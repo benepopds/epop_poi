{
 "cells": [
  {
   "cell_type": "markdown",
   "metadata": {},
   "source": [
    "브랜드별로 매출순/판매량순으로 다시 정리하자."
   ]
  },
  {
   "cell_type": "code",
   "execution_count": 2,
   "metadata": {},
   "outputs": [],
   "source": [
    "import pandas as pd"
   ]
  },
  {
   "cell_type": "code",
   "execution_count": 39,
   "metadata": {},
   "outputs": [
    {
     "data": {
      "text/html": [
       "<div>\n",
       "<style scoped>\n",
       "    .dataframe tbody tr th:only-of-type {\n",
       "        vertical-align: middle;\n",
       "    }\n",
       "\n",
       "    .dataframe tbody tr th {\n",
       "        vertical-align: top;\n",
       "    }\n",
       "\n",
       "    .dataframe thead th {\n",
       "        text-align: right;\n",
       "    }\n",
       "</style>\n",
       "<table border=\"1\" class=\"dataframe\">\n",
       "  <thead>\n",
       "    <tr style=\"text-align: right;\">\n",
       "      <th></th>\n",
       "      <th>ITEM_ID</th>\n",
       "      <th>STOCK_ID</th>\n",
       "      <th>ITEM_NUM</th>\n",
       "      <th>GOODS_NAME</th>\n",
       "      <th>NORMAL_PRICE_SITE</th>\n",
       "      <th>BRAND_NAME</th>\n",
       "      <th>CATE_NAMES</th>\n",
       "      <th>BRAND</th>\n",
       "      <th>SITE_NO</th>\n",
       "      <th>COLLECT_URL</th>\n",
       "      <th>SELL_AMOUNT</th>\n",
       "    </tr>\n",
       "  </thead>\n",
       "  <tbody>\n",
       "    <tr>\n",
       "      <th>10663</th>\n",
       "      <td>7041006</td>\n",
       "      <td>29111109001</td>\n",
       "      <td>29111109</td>\n",
       "      <td>엘지 캐릭터 리파이닝 로션/스킨 350ml 중 택1</td>\n",
       "      <td>1700</td>\n",
       "      <td>LG생활건강</td>\n",
       "      <td>스킨케어&gt;베이직 기초</td>\n",
       "      <td>LG</td>\n",
       "      <td>1</td>\n",
       "      <td>http://www.gsshop.com/prd/prd.gs?prdid=29111109</td>\n",
       "      <td>8852</td>\n",
       "    </tr>\n",
       "    <tr>\n",
       "      <th>27333</th>\n",
       "      <td>9518672</td>\n",
       "      <td>30391602001</td>\n",
       "      <td>30391602</td>\n",
       "      <td>이자녹스 플로라볼륨 듀얼 커버쿠션 본품*2+리필*4+틴트*1+핸들백</td>\n",
       "      <td>78000</td>\n",
       "      <td>이자녹스</td>\n",
       "      <td>메이크업&gt;베이스</td>\n",
       "      <td>LG</td>\n",
       "      <td>1</td>\n",
       "      <td>http://www.gsshop.com/prd/prd.gs?prdid=30391602</td>\n",
       "      <td>3997</td>\n",
       "    </tr>\n",
       "    <tr>\n",
       "      <th>15190</th>\n",
       "      <td>107168</td>\n",
       "      <td>26540268001</td>\n",
       "      <td>26540268</td>\n",
       "      <td>[6/7~6/17] 비욘드 허브 가득한 마스크 5+5(옵션 택1)</td>\n",
       "      <td>4750</td>\n",
       "      <td>비욘드</td>\n",
       "      <td>바디/헤어&gt;헤어케어</td>\n",
       "      <td>LG</td>\n",
       "      <td>1</td>\n",
       "      <td>http://www.gsshop.com/prd/prd.gs?prdid=26540268</td>\n",
       "      <td>2997</td>\n",
       "    </tr>\n",
       "  </tbody>\n",
       "</table>\n",
       "</div>"
      ],
      "text/plain": [
       "       ITEM_ID     STOCK_ID  ITEM_NUM                             GOODS_NAME  \\\n",
       "10663  7041006  29111109001  29111109           엘지 캐릭터 리파이닝 로션/스킨 350ml 중 택1   \n",
       "27333  9518672  30391602001  30391602  이자녹스 플로라볼륨 듀얼 커버쿠션 본품*2+리필*4+틴트*1+핸들백   \n",
       "15190   107168  26540268001  26540268   [6/7~6/17] 비욘드 허브 가득한 마스크 5+5(옵션 택1)   \n",
       "\n",
       "       NORMAL_PRICE_SITE BRAND_NAME   CATE_NAMES BRAND  SITE_NO  \\\n",
       "10663               1700     LG생활건강  스킨케어>베이직 기초    LG        1   \n",
       "27333              78000       이자녹스     메이크업>베이스    LG        1   \n",
       "15190               4750        비욘드   바디/헤어>헤어케어    LG        1   \n",
       "\n",
       "                                           COLLECT_URL  SELL_AMOUNT  \n",
       "10663  http://www.gsshop.com/prd/prd.gs?prdid=29111109         8852  \n",
       "27333  http://www.gsshop.com/prd/prd.gs?prdid=30391602         3997  \n",
       "15190  http://www.gsshop.com/prd/prd.gs?prdid=26540268         2997  "
      ]
     },
     "execution_count": 39,
     "metadata": {},
     "output_type": "execute_result"
    }
   ],
   "source": [
    "# ap_top = pd.read_excel('data/TOPS/AP_TOP.xlsx')\n",
    "ap_top = pd.read_excel('data/TOPS/LG_TOP.xlsx')\n",
    "ap_top.head(3)"
   ]
  },
  {
   "cell_type": "code",
   "execution_count": 40,
   "metadata": {},
   "outputs": [
    {
     "data": {
      "text/html": [
       "<div>\n",
       "<style scoped>\n",
       "    .dataframe tbody tr th:only-of-type {\n",
       "        vertical-align: middle;\n",
       "    }\n",
       "\n",
       "    .dataframe tbody tr th {\n",
       "        vertical-align: top;\n",
       "    }\n",
       "\n",
       "    .dataframe thead th {\n",
       "        text-align: right;\n",
       "    }\n",
       "</style>\n",
       "<table border=\"1\" class=\"dataframe\">\n",
       "  <thead>\n",
       "    <tr style=\"text-align: right;\">\n",
       "      <th></th>\n",
       "      <th>ITEM_ID</th>\n",
       "      <th>STOCK_ID</th>\n",
       "      <th>ITEM_NUM</th>\n",
       "      <th>GOODS_NAME</th>\n",
       "      <th>NORMAL_PRICE_SITE</th>\n",
       "      <th>BRAND_NAME</th>\n",
       "      <th>CATE_NAMES</th>\n",
       "      <th>BRAND</th>\n",
       "      <th>SITE_NO</th>\n",
       "      <th>COLLECT_URL</th>\n",
       "      <th>SELL_AMOUNT</th>\n",
       "      <th>AMT_SALES</th>\n",
       "    </tr>\n",
       "  </thead>\n",
       "  <tbody>\n",
       "    <tr>\n",
       "      <th>10663</th>\n",
       "      <td>7041006</td>\n",
       "      <td>29111109001</td>\n",
       "      <td>29111109</td>\n",
       "      <td>엘지 캐릭터 리파이닝 로션/스킨 350ml 중 택1</td>\n",
       "      <td>1700</td>\n",
       "      <td>LG생활건강</td>\n",
       "      <td>스킨케어&gt;베이직 기초</td>\n",
       "      <td>LG</td>\n",
       "      <td>1</td>\n",
       "      <td>http://www.gsshop.com/prd/prd.gs?prdid=29111109</td>\n",
       "      <td>8852</td>\n",
       "      <td>15048400</td>\n",
       "    </tr>\n",
       "  </tbody>\n",
       "</table>\n",
       "</div>"
      ],
      "text/plain": [
       "       ITEM_ID     STOCK_ID  ITEM_NUM                    GOODS_NAME  \\\n",
       "10663  7041006  29111109001  29111109  엘지 캐릭터 리파이닝 로션/스킨 350ml 중 택1   \n",
       "\n",
       "       NORMAL_PRICE_SITE BRAND_NAME   CATE_NAMES BRAND  SITE_NO  \\\n",
       "10663               1700     LG생활건강  스킨케어>베이직 기초    LG        1   \n",
       "\n",
       "                                           COLLECT_URL  SELL_AMOUNT  AMT_SALES  \n",
       "10663  http://www.gsshop.com/prd/prd.gs?prdid=29111109         8852   15048400  "
      ]
     },
     "execution_count": 40,
     "metadata": {},
     "output_type": "execute_result"
    }
   ],
   "source": [
    "ap_top=ap_top.assign(AMT_SALES=ap_top.apply(lambda x : x['NORMAL_PRICE_SITE']*x['SELL_AMOUNT'],axis=1))\n",
    "ap_top.head(1)"
   ]
  },
  {
   "cell_type": "code",
   "execution_count": 41,
   "metadata": {},
   "outputs": [
    {
     "data": {
      "text/html": [
       "<div>\n",
       "<style scoped>\n",
       "    .dataframe tbody tr th:only-of-type {\n",
       "        vertical-align: middle;\n",
       "    }\n",
       "\n",
       "    .dataframe tbody tr th {\n",
       "        vertical-align: top;\n",
       "    }\n",
       "\n",
       "    .dataframe thead th {\n",
       "        text-align: right;\n",
       "    }\n",
       "</style>\n",
       "<table border=\"1\" class=\"dataframe\">\n",
       "  <thead>\n",
       "    <tr style=\"text-align: right;\">\n",
       "      <th></th>\n",
       "      <th>ITEM_ID</th>\n",
       "      <th>STOCK_ID</th>\n",
       "      <th>ITEM_NUM</th>\n",
       "      <th>GOODS_NAME</th>\n",
       "      <th>NORMAL_PRICE_SITE</th>\n",
       "      <th>BRAND_NAME</th>\n",
       "      <th>CATE_NAMES</th>\n",
       "      <th>BRAND</th>\n",
       "      <th>SITE_NO</th>\n",
       "      <th>COLLECT_URL</th>\n",
       "      <th>SELL_AMOUNT</th>\n",
       "      <th>AMT_SALES</th>\n",
       "      <th>SITE_NAME</th>\n",
       "    </tr>\n",
       "  </thead>\n",
       "  <tbody>\n",
       "    <tr>\n",
       "      <th>10663</th>\n",
       "      <td>7041006</td>\n",
       "      <td>29111109001</td>\n",
       "      <td>29111109</td>\n",
       "      <td>엘지 캐릭터 리파이닝 로션/스킨 350ml 중 택1</td>\n",
       "      <td>1700</td>\n",
       "      <td>LG생활건강</td>\n",
       "      <td>스킨케어&gt;베이직 기초</td>\n",
       "      <td>LG</td>\n",
       "      <td>1</td>\n",
       "      <td>http://www.gsshop.com/prd/prd.gs?prdid=29111109</td>\n",
       "      <td>8852</td>\n",
       "      <td>15048400</td>\n",
       "      <td>GSSHOP</td>\n",
       "    </tr>\n",
       "  </tbody>\n",
       "</table>\n",
       "</div>"
      ],
      "text/plain": [
       "       ITEM_ID     STOCK_ID  ITEM_NUM                    GOODS_NAME  \\\n",
       "10663  7041006  29111109001  29111109  엘지 캐릭터 리파이닝 로션/스킨 350ml 중 택1   \n",
       "\n",
       "       NORMAL_PRICE_SITE BRAND_NAME   CATE_NAMES BRAND  SITE_NO  \\\n",
       "10663               1700     LG생활건강  스킨케어>베이직 기초    LG        1   \n",
       "\n",
       "                                           COLLECT_URL  SELL_AMOUNT  \\\n",
       "10663  http://www.gsshop.com/prd/prd.gs?prdid=29111109         8852   \n",
       "\n",
       "       AMT_SALES SITE_NAME  \n",
       "10663   15048400    GSSHOP  "
      ]
     },
     "execution_count": 41,
     "metadata": {},
     "output_type": "execute_result"
    }
   ],
   "source": [
    "def map_site_noToName(siteNo):\n",
    "    if siteNo == 1:\n",
    "        return 'GSSHOP'\n",
    "    elif siteNo == 3:\n",
    "        return 'HMALL'\n",
    "    elif siteNo == 4 :\n",
    "        return 'OLIVE'\n",
    "ap_top=ap_top.assign(SITE_NAME = ap_top.apply(lambda x : map_site_noToName(x['SITE_NO']),axis=1))\n",
    "ap_top.head(1)\n",
    "\n"
   ]
  },
  {
   "cell_type": "code",
   "execution_count": 42,
   "metadata": {},
   "outputs": [
    {
     "data": {
      "text/plain": [
       "numpy.int64"
      ]
     },
     "execution_count": 42,
     "metadata": {},
     "output_type": "execute_result"
    }
   ],
   "source": [
    "type(ap_top.iloc[0,]['SITE_NO'])"
   ]
  },
  {
   "cell_type": "code",
   "execution_count": 43,
   "metadata": {},
   "outputs": [
    {
     "data": {
      "text/html": [
       "<div>\n",
       "<style scoped>\n",
       "    .dataframe tbody tr th:only-of-type {\n",
       "        vertical-align: middle;\n",
       "    }\n",
       "\n",
       "    .dataframe tbody tr th {\n",
       "        vertical-align: top;\n",
       "    }\n",
       "\n",
       "    .dataframe thead th {\n",
       "        text-align: right;\n",
       "    }\n",
       "</style>\n",
       "<table border=\"1\" class=\"dataframe\">\n",
       "  <thead>\n",
       "    <tr style=\"text-align: right;\">\n",
       "      <th></th>\n",
       "      <th>ITEM_ID</th>\n",
       "      <th>STOCK_ID</th>\n",
       "      <th>ITEM_NUM</th>\n",
       "      <th>GOODS_NAME</th>\n",
       "      <th>NORMAL_PRICE_SITE</th>\n",
       "      <th>BRAND_NAME</th>\n",
       "      <th>CATE_NAMES</th>\n",
       "      <th>BRAND</th>\n",
       "      <th>SITE_NO</th>\n",
       "      <th>COLLECT_URL</th>\n",
       "      <th>SELL_AMOUNT</th>\n",
       "      <th>AMT_SALES</th>\n",
       "      <th>SITE_NAME</th>\n",
       "    </tr>\n",
       "  </thead>\n",
       "  <tbody>\n",
       "    <tr>\n",
       "      <th>10663</th>\n",
       "      <td>7041006</td>\n",
       "      <td>29111109001</td>\n",
       "      <td>29111109</td>\n",
       "      <td>엘지 캐릭터 리파이닝 로션/스킨 350ml 중 택1</td>\n",
       "      <td>1700</td>\n",
       "      <td>LG생활건강</td>\n",
       "      <td>스킨케어&gt;베이직 기초</td>\n",
       "      <td>LG생활건강</td>\n",
       "      <td>1</td>\n",
       "      <td>http://www.gsshop.com/prd/prd.gs?prdid=29111109</td>\n",
       "      <td>8852</td>\n",
       "      <td>15048400</td>\n",
       "      <td>GSSHOP</td>\n",
       "    </tr>\n",
       "  </tbody>\n",
       "</table>\n",
       "</div>"
      ],
      "text/plain": [
       "       ITEM_ID     STOCK_ID  ITEM_NUM                    GOODS_NAME  \\\n",
       "10663  7041006  29111109001  29111109  엘지 캐릭터 리파이닝 로션/스킨 350ml 중 택1   \n",
       "\n",
       "       NORMAL_PRICE_SITE BRAND_NAME   CATE_NAMES   BRAND  SITE_NO  \\\n",
       "10663               1700     LG생활건강  스킨케어>베이직 기초  LG생활건강        1   \n",
       "\n",
       "                                           COLLECT_URL  SELL_AMOUNT  \\\n",
       "10663  http://www.gsshop.com/prd/prd.gs?prdid=29111109         8852   \n",
       "\n",
       "       AMT_SALES SITE_NAME  \n",
       "10663   15048400    GSSHOP  "
      ]
     },
     "execution_count": 43,
     "metadata": {},
     "output_type": "execute_result"
    }
   ],
   "source": [
    "ap_top['BRAND']='LG생활건강'#'아모레'\n",
    "ap_top.head(1)"
   ]
  },
  {
   "cell_type": "code",
   "execution_count": 44,
   "metadata": {},
   "outputs": [
    {
     "data": {
      "text/html": [
       "<div>\n",
       "<style scoped>\n",
       "    .dataframe tbody tr th:only-of-type {\n",
       "        vertical-align: middle;\n",
       "    }\n",
       "\n",
       "    .dataframe tbody tr th {\n",
       "        vertical-align: top;\n",
       "    }\n",
       "\n",
       "    .dataframe thead th {\n",
       "        text-align: right;\n",
       "    }\n",
       "</style>\n",
       "<table border=\"1\" class=\"dataframe\">\n",
       "  <thead>\n",
       "    <tr style=\"text-align: right;\">\n",
       "      <th></th>\n",
       "      <th>ITEM_ID</th>\n",
       "      <th>STOCK_ID</th>\n",
       "      <th>ITEM_NUM</th>\n",
       "      <th>GOODS_NAME</th>\n",
       "      <th>NORMAL_PRICE_SITE</th>\n",
       "      <th>BRAND_NAME</th>\n",
       "      <th>CATE_NAMES</th>\n",
       "      <th>BRAND</th>\n",
       "      <th>SITE_NO</th>\n",
       "      <th>COLLECT_URL</th>\n",
       "      <th>SELL_AMOUNT</th>\n",
       "      <th>AMT_SALES</th>\n",
       "      <th>SITE_NAME</th>\n",
       "      <th>CATE1</th>\n",
       "      <th>CATE2</th>\n",
       "    </tr>\n",
       "  </thead>\n",
       "  <tbody>\n",
       "    <tr>\n",
       "      <th>10663</th>\n",
       "      <td>7041006</td>\n",
       "      <td>29111109001</td>\n",
       "      <td>29111109</td>\n",
       "      <td>엘지 캐릭터 리파이닝 로션/스킨 350ml 중 택1</td>\n",
       "      <td>1700</td>\n",
       "      <td>LG생활건강</td>\n",
       "      <td>스킨케어&gt;베이직 기초</td>\n",
       "      <td>LG생활건강</td>\n",
       "      <td>1</td>\n",
       "      <td>http://www.gsshop.com/prd/prd.gs?prdid=29111109</td>\n",
       "      <td>8852</td>\n",
       "      <td>15048400</td>\n",
       "      <td>GSSHOP</td>\n",
       "      <td>스킨케어</td>\n",
       "      <td>베이직 기초</td>\n",
       "    </tr>\n",
       "  </tbody>\n",
       "</table>\n",
       "</div>"
      ],
      "text/plain": [
       "       ITEM_ID     STOCK_ID  ITEM_NUM                    GOODS_NAME  \\\n",
       "10663  7041006  29111109001  29111109  엘지 캐릭터 리파이닝 로션/스킨 350ml 중 택1   \n",
       "\n",
       "       NORMAL_PRICE_SITE BRAND_NAME   CATE_NAMES   BRAND  SITE_NO  \\\n",
       "10663               1700     LG생활건강  스킨케어>베이직 기초  LG생활건강        1   \n",
       "\n",
       "                                           COLLECT_URL  SELL_AMOUNT  \\\n",
       "10663  http://www.gsshop.com/prd/prd.gs?prdid=29111109         8852   \n",
       "\n",
       "       AMT_SALES SITE_NAME CATE1   CATE2  \n",
       "10663   15048400    GSSHOP  스킨케어  베이직 기초  "
      ]
     },
     "execution_count": 44,
     "metadata": {},
     "output_type": "execute_result"
    }
   ],
   "source": [
    "# ap_top.iloc[1].CATE_NAMES.split('>')[1]\n",
    "ap_top = ap_top.assign(CATE1=ap_top.apply(lambda x : x.CATE_NAMES.split('>')[0],axis=1))\n",
    "ap_top = ap_top.assign(CATE2=ap_top.apply(lambda x : x.CATE_NAMES.split('>')[1],axis=1))\n",
    "ap_top.head(1)"
   ]
  },
  {
   "cell_type": "code",
   "execution_count": 45,
   "metadata": {},
   "outputs": [
    {
     "name": "stdout",
     "output_type": "stream",
     "text": [
      "(150, 10)\n"
     ]
    },
    {
     "data": {
      "text/html": [
       "<div>\n",
       "<style scoped>\n",
       "    .dataframe tbody tr th:only-of-type {\n",
       "        vertical-align: middle;\n",
       "    }\n",
       "\n",
       "    .dataframe tbody tr th {\n",
       "        vertical-align: top;\n",
       "    }\n",
       "\n",
       "    .dataframe thead th {\n",
       "        text-align: right;\n",
       "    }\n",
       "</style>\n",
       "<table border=\"1\" class=\"dataframe\">\n",
       "  <thead>\n",
       "    <tr style=\"text-align: right;\">\n",
       "      <th></th>\n",
       "      <th>상품명</th>\n",
       "      <th>정상가</th>\n",
       "      <th>브랜드</th>\n",
       "      <th>카테고리1</th>\n",
       "      <th>카테고리2</th>\n",
       "      <th>제조사</th>\n",
       "      <th>쇼핑몰</th>\n",
       "      <th>상품URL</th>\n",
       "      <th>판매량</th>\n",
       "      <th>매출액</th>\n",
       "    </tr>\n",
       "  </thead>\n",
       "  <tbody>\n",
       "    <tr>\n",
       "      <th>10663</th>\n",
       "      <td>엘지 캐릭터 리파이닝 로션/스킨 350ml 중 택1</td>\n",
       "      <td>1700</td>\n",
       "      <td>LG생활건강</td>\n",
       "      <td>스킨케어</td>\n",
       "      <td>베이직 기초</td>\n",
       "      <td>LG생활건강</td>\n",
       "      <td>GSSHOP</td>\n",
       "      <td>http://www.gsshop.com/prd/prd.gs?prdid=29111109</td>\n",
       "      <td>8852</td>\n",
       "      <td>15048400</td>\n",
       "    </tr>\n",
       "  </tbody>\n",
       "</table>\n",
       "</div>"
      ],
      "text/plain": [
       "                                상품명   정상가     브랜드 카테고리1   카테고리2     제조사  \\\n",
       "10663  엘지 캐릭터 리파이닝 로션/스킨 350ml 중 택1  1700  LG생활건강  스킨케어  베이직 기초  LG생활건강   \n",
       "\n",
       "          쇼핑몰                                            상품URL   판매량       매출액  \n",
       "10663  GSSHOP  http://www.gsshop.com/prd/prd.gs?prdid=29111109  8852  15048400  "
      ]
     },
     "execution_count": 45,
     "metadata": {},
     "output_type": "execute_result"
    }
   ],
   "source": [
    "df = ap_top[['GOODS_NAME','NORMAL_PRICE_SITE','BRAND_NAME','CATE1','CATE2','BRAND','SITE_NAME','COLLECT_URL','SELL_AMOUNT','AMT_SALES']]\n",
    "df.columns =['상품명','정상가','브랜드','카테고리1','카테고리2','제조사','쇼핑몰','상품URL','판매량','매출액']\n",
    "print(df.shape);df.head(1)"
   ]
  },
  {
   "cell_type": "code",
   "execution_count": 46,
   "metadata": {},
   "outputs": [],
   "source": [
    "df1 = df.sort_values(by='판매량',ascending=False)[:30]\n",
    "df2 = df.sort_values(by='매출액',ascending=False)[:30]"
   ]
  },
  {
   "cell_type": "code",
   "execution_count": 48,
   "metadata": {},
   "outputs": [],
   "source": [
    "writer = pd.ExcelWriter('output.xlsx')\n",
    "# df1.to_excel(writer,'아모레-판매량순');df2.to_excel(writer,'아모레-매출순')\n",
    "df1.to_excel(writer,'LG생활건강-판매량순');df2.to_excel(writer,'LG생활건강-매출순')\n",
    "writer.save()"
   ]
  },
  {
   "cell_type": "code",
   "execution_count": null,
   "metadata": {},
   "outputs": [],
   "source": []
  },
  {
   "cell_type": "markdown",
   "metadata": {},
   "source": [
    "## 정리"
   ]
  },
  {
   "cell_type": "code",
   "execution_count": 54,
   "metadata": {},
   "outputs": [],
   "source": [
    "def map_site_noToName(siteNo):\n",
    "    if siteNo == 1:\n",
    "        return 'GSSHOP'\n",
    "    elif siteNo == 3:\n",
    "        return 'HMALL'\n",
    "    elif siteNo == 4 :\n",
    "        return 'OLIVE'\n",
    "def map_Brand(br):\n",
    "    if br == 'AP':\n",
    "        return '아모레'\n",
    "    elif br == 'LG':\n",
    "        return 'LG생활건강'\n",
    "    elif br == 'etc' :\n",
    "        return '4개사 이외'\n",
    "    else :\n",
    "        return br\n",
    "\n",
    "#pip install openpyxl : a package for saving an excel file\n",
    "writer = pd.ExcelWriter('output.xlsx')\n",
    "for brand in ['AP','LG','LOREAL','LVMH','etc']: \n",
    "    ap_top = pd.read_excel('data/TOPS/'+brand+'_TOP.xlsx')\n",
    "    ap_top=ap_top.assign(AMT_SALES=ap_top.apply(lambda x : x['NORMAL_PRICE_SITE']*x['SELL_AMOUNT'],axis=1))\n",
    "    ap_top=ap_top.assign(SITE_NAME = ap_top.apply(lambda x : map_site_noToName(x['SITE_NO']),axis=1))\n",
    "    temp =map_Brand(brand)\n",
    "    ap_top['BRAND']=temp\n",
    "    ap_top = ap_top.assign(CATE1=ap_top.apply(lambda x : x.CATE_NAMES.split('>')[0],axis=1))\n",
    "    ap_top = ap_top.assign(CATE2=ap_top.apply(lambda x : x.CATE_NAMES.split('>')[1],axis=1))\n",
    "    df = ap_top[['GOODS_NAME','NORMAL_PRICE_SITE','BRAND_NAME','CATE1','CATE2','BRAND','SITE_NAME','COLLECT_URL','SELL_AMOUNT','AMT_SALES']]\n",
    "    df.columns =['상품명','정상가','브랜드','카테고리1','카테고리2','제조사','쇼핑몰','상품URL','판매량','매출액']\n",
    "    df1 = df.sort_values(by='판매량',ascending=False)[:30]\n",
    "    df2 = df.sort_values(by='매출액',ascending=False)[:30]\n",
    "    df1.to_excel(writer,temp+'-판매량순');df2.to_excel(writer,temp+'-매출순')\n",
    "writer.save()"
   ]
  }
 ],
 "metadata": {
  "kernelspec": {
   "display_name": "Python 3",
   "language": "python",
   "name": "python3"
  },
  "language_info": {
   "codemirror_mode": {
    "name": "ipython",
    "version": 3
   },
   "file_extension": ".py",
   "mimetype": "text/x-python",
   "name": "python",
   "nbconvert_exporter": "python",
   "pygments_lexer": "ipython3",
   "version": "3.6.3"
  }
 },
 "nbformat": 4,
 "nbformat_minor": 2
}
